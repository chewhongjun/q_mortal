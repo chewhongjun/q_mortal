{
 "cells": [
  {
   "cell_type": "markdown",
   "metadata": {},
   "source": [
    "# q-sql & tables\n",
    "\n",
    "* Generally q-sql follows sql syntax of\n",
    "    * \"Select.. from.. where..\"\n",
    "    \n",
    "    \n",
    "* dataTbl:(\"DSSJ\"; enlist \",\") 0:dataList;\n",
    "    * im not sure what this function does explicitly and couldnt find reference to this\n",
    "    \n",
    "    \n",
    "* 98h references table type"
   ]
  },
  {
   "cell_type": "code",
   "execution_count": 1,
   "metadata": {},
   "outputs": [],
   "source": [
    "dataList,:(\n",
    "   \"date,sym,order type,orderQty\"\n",
    "  ;\"2020.03.09,AAPL.OQ,MID QUOTE,80000\"\n",
    "  ;\"2020.03.09,AAPL.OQ,FAR TOUCH,50000\"\n",
    "  ;\"2020.03.09,AAPL.OQ,NEAR TOUCH,120000\"\n",
    "  ;\"2020.03.10,AAPL.OQ,MID QUOTE,100000\"\n",
    "  ;\"2020.03.10,AAPL.OQ,FAR TOUCH,70000\"\n",
    "  ;\"2020.03.10,AAPL.OQ,NEAR TOUCH,170000\"\n",
    "  ;\"2020.03.09,IBM.N,MID QUOTE,83000\"\n",
    "  ;\"2020.03.09,IBM.N,FAR TOUCH,54000\"\n",
    "  ;\"2020.03.09,IBM.N,NEAR TOUCH,129000\"\n",
    "  ;\"2020.03.10,IBM.N,MID QUOTE,130000\"\n",
    "  ;\"2020.03.10,IBM.N,FAR TOUCH,79000\"\n",
    "  ;\"2020.03.10,IBM.N,NEAR TOUCH,175000\"\n",
    "  ;\"2020.03.09,BABA.N,MID QUOTE,120000\"\n",
    "  ;\"2020.03.09,BABA.N,FAR TOUCH,68000\"\n",
    "  ;\"2020.03.09,BABA.N,NEAR TOUCH,930000\"\n",
    "  ;\"2020.03.10,BABA.N,MID QUOTE,150000\"\n",
    "  ;\"2020.03.10,BABA.N,FAR TOUCH,96000\"\n",
    "  ;\"2020.03.10,BABA.N,NEAR TOUCH,2030000\"\n",
    " );\n"
   ]
  },
  {
   "cell_type": "code",
   "execution_count": 2,
   "metadata": {},
   "outputs": [
    {
     "name": "stdout",
     "output_type": "stream",
     "text": [
      "date       sym     order type orderQty\n",
      "--------------------------------------\n",
      "2020.03.09 AAPL.OQ MID QUOTE  80000   \n",
      "2020.03.09 AAPL.OQ FAR TOUCH  50000   \n",
      "2020.03.09 AAPL.OQ NEAR TOUCH 120000  \n",
      "2020.03.10 AAPL.OQ MID QUOTE  100000  \n",
      "2020.03.10 AAPL.OQ FAR TOUCH  70000   \n",
      "2020.03.10 AAPL.OQ NEAR TOUCH 170000  \n",
      "2020.03.09 IBM.N   MID QUOTE  83000   \n",
      "2020.03.09 IBM.N   FAR TOUCH  54000   \n",
      "2020.03.09 IBM.N   NEAR TOUCH 129000  \n",
      "2020.03.10 IBM.N   MID QUOTE  130000  \n",
      "2020.03.10 IBM.N   FAR TOUCH  79000   \n",
      "2020.03.10 IBM.N   NEAR TOUCH 175000  \n",
      "2020.03.09 BABA.N  MID QUOTE  120000  \n",
      "2020.03.09 BABA.N  FAR TOUCH  68000   \n",
      "2020.03.09 BABA.N  NEAR TOUCH 930000  \n",
      "2020.03.10 BABA.N  MID QUOTE  150000  \n",
      "2020.03.10 BABA.N  FAR TOUCH  96000   \n",
      "2020.03.10 BABA.N  NEAR TOUCH 2030000 \n"
     ]
    },
    {
     "data": {
      "text/plain": [
       "98h\n"
      ]
     },
     "execution_count": 2,
     "metadata": {},
     "output_type": "execute_result"
    }
   ],
   "source": [
    "dataTbl:(\"DSSJ\"; enlist \",\") 0:dataList;\n",
    "show dataTbl\n",
    "type(dataTbl)"
   ]
  },
  {
   "cell_type": "markdown",
   "metadata": {},
   "source": [
    "## Removing spaces from column names\n",
    "https://stackoverflow.com/questions/21895949/kdb-q-column-name-with-spaces/21939410\n",
    "\n",
    "\" The issue is that standard select queries can't deal with the column names having spaces. \n",
    "You could use a functional select but the easiest thing to do is rename the column names of the table using the keyword xcol. \""
   ]
  },
  {
   "cell_type": "code",
   "execution_count": 8,
   "metadata": {},
   "outputs": [
    {
     "name": "stdout",
     "output_type": "stream",
     "text": [
      "date       sym     ordertype  orderQty\n",
      "--------------------------------------\n",
      "2020.03.09 AAPL.OQ MID QUOTE  80000   \n",
      "2020.03.09 AAPL.OQ FAR TOUCH  50000   \n",
      "2020.03.09 AAPL.OQ NEAR TOUCH 120000  \n",
      "2020.03.10 AAPL.OQ MID QUOTE  100000  \n",
      "2020.03.10 AAPL.OQ FAR TOUCH  70000   \n",
      "2020.03.10 AAPL.OQ NEAR TOUCH 170000  \n",
      "2020.03.09 IBM.N   MID QUOTE  83000   \n",
      "2020.03.09 IBM.N   FAR TOUCH  54000   \n",
      "2020.03.09 IBM.N   NEAR TOUCH 129000  \n",
      "2020.03.10 IBM.N   MID QUOTE  130000  \n",
      "2020.03.10 IBM.N   FAR TOUCH  79000   \n",
      "2020.03.10 IBM.N   NEAR TOUCH 175000  \n",
      "2020.03.09 BABA.N  MID QUOTE  120000  \n",
      "2020.03.09 BABA.N  FAR TOUCH  68000   \n",
      "2020.03.09 BABA.N  NEAR TOUCH 930000  \n",
      "2020.03.10 BABA.N  MID QUOTE  150000  \n",
      "2020.03.10 BABA.N  FAR TOUCH  96000   \n",
      "2020.03.10 BABA.N  NEAR TOUCH 2030000 \n"
     ]
    }
   ],
   "source": [
    "dataTbl:xcol[`$ssr[;\" \";\"\"]each string cols dataTbl;dataTbl]\n",
    "show dataTbl"
   ]
  },
  {
   "cell_type": "code",
   "execution_count": 9,
   "metadata": {},
   "outputs": [
    {
     "data": {
      "text/plain": [
       "ordertype | orderQty\n",
       "----------| --------\n",
       "FAR TOUCH | 417000  \n",
       "MID QUOTE | 663000  \n",
       "NEAR TOUCH| 3554000 \n"
      ]
     },
     "execution_count": 9,
     "metadata": {},
     "output_type": "execute_result"
    }
   ],
   "source": [
    "select sum orderQty by ordertype from dataTbl"
   ]
  },
  {
   "cell_type": "code",
   "execution_count": 13,
   "metadata": {},
   "outputs": [
    {
     "data": {
      "text/plain": [
       "sym    | orderQty\n",
       "-------| --------\n",
       "AAPL.OQ| 180000  \n",
       "BABA.N | 270000  \n",
       "IBM.N  | 213000  \n"
      ]
     },
     "execution_count": 13,
     "metadata": {},
     "output_type": "execute_result"
    }
   ],
   "source": [
    "select sum orderQty by sym from dataTbl where ordertype like \"MID QUOTE\""
   ]
  },
  {
   "cell_type": "code",
   "execution_count": null,
   "metadata": {},
   "outputs": [],
   "source": []
  }
 ],
 "metadata": {
  "kernelspec": {
   "display_name": "Q (kdb+)",
   "language": "q",
   "name": "qpk"
  },
  "language_info": {
   "file_extension": ".q",
   "mimetype": "text/x-q",
   "name": "q",
   "version": "3.6.0"
  }
 },
 "nbformat": 4,
 "nbformat_minor": 4
}
