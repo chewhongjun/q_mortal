{
 "cells": [
  {
   "cell_type": "code",
   "execution_count": 14,
   "metadata": {},
   "outputs": [
    {
     "data": {
      "text/plain": [
       "\"Symbol|Security Name|Market Category|Test Issue|Financial Status|Round Lot S..\n",
       "\"AACG|ATA Creativity Global - American Depositary Shares, each representing t..\n",
       "\"AAL|American Airlines Group, Inc. - Common Stock|Q|N|N|100|N|N\"\n",
       "\"AAME|Atlantic American Corporation - Common Stock|G|N|N|100|N|N\"\n",
       "\"AAOI|Applied Optoelectronics, Inc. - Common Stock|G|N|N|100|N|N\"\n",
       "\"AAON|AAON, Inc. - Common Stock|Q|N|N|100|N|N\"\n",
       "\"AAPL|Apple Inc. - Common Stock|Q|N|N|100|N|N\"\n",
       "\"AAWW|Atlas Air Worldwide Holdings - Common Stock|Q|N|N|100|N|N\"\n",
       "\"AAXJ|iShares MSCI All Country Asia ex Japan Index Fund|G|N|N|100|Y|N\"\n",
       "\"AAXN|Axon Enterprise, Inc. - Common Stock|Q|N|N|100|N|N\"\n",
       "\"ABCB|Ameris Bancorp - Common Stock|Q|N|N|100|N|N\"\n",
       "\"ABEO|Abeona Therapeutics Inc. - Common Stock|S|N|D|100|N|N\"\n",
       "\"ABIO|ARCA biopharma, Inc. - Common Stock|S|N|N|100|N|N\"\n",
       "\"ABMD|ABIOMED, Inc. - Common Stock|Q|N|N|100|N|N\"\n",
       "\"ABTX|Allegiance Bancshares, Inc. - Common Stock|G|N|N|100|N|N\"\n",
       "\"ABUS|Arbutus Biopharma Corporation - Common Stock|Q|N|N|100|N|N\"\n",
       "\"ACAD|ACADIA Pharmaceuticals Inc. - Common Stock|Q|N|N|100|N|N\"\n",
       "\"ACAM|Acamar Partners Acquisition Corp. - Class A Common Stock|S|N|N|100|N|N\"\n",
       "\"ACAMU|Acamar Partners Acquisition Corp. - Units|S|N|N|100|N|N\"\n",
       "\"ACAMW|Acamar Partners Acquisition Corp. - Warrant|S|N|N|100|N|N\"\n",
       "\"ACBI|Atlantic Capital Bancshares, Inc. - Common Stock|Q|N|N|100|N|N\"\n",
       "\"ACER|Acer Therapeutics Inc. - Common Stock|S|N|N|100|N|N\"\n",
       "..\n"
      ]
     },
     "execution_count": 14,
     "metadata": {},
     "output_type": "execute_result"
    }
   ],
   "source": [
    "file:hsym `$\"nasdaqlisted.txt\"\n",
    "read0 file"
   ]
  },
  {
   "cell_type": "code",
   "execution_count": 20,
   "metadata": {},
   "outputs": [],
   "source": [
    "nasdaqlisted:(\"SSS JB\";enlist \"|\") 0:-1_read0 file"
   ]
  },
  {
   "cell_type": "code",
   "execution_count": 21,
   "metadata": {},
   "outputs": [
    {
     "data": {
      "text/plain": [
       "`Symbol`Security Name`Market Category`Financial Status`Round Lot Size\n"
      ]
     },
     "execution_count": 21,
     "metadata": {},
     "output_type": "execute_result"
    }
   ],
   "source": [
    "cols nasdaqlisted"
   ]
  },
  {
   "cell_type": "code",
   "execution_count": 21,
   "metadata": {},
   "outputs": [
    {
     "ename": "\u001b[0;31mlength\u001b[0m",
     "evalue": "\u001b[0;31mlength\u001b[0m",
     "output_type": "error",
     "traceback": [
      "\u001b[0;31mevaluation error:\n\u001b[0m",
      "\u001b[0;31mlength\u001b[0m",
      "\u001b[0;31m\u001b[0m",
      "\u001b[0;31m  [3]  (.q.xcol@)\n\n\u001b[0m",
      "\u001b[0;31m  [2]  (.Q.ft)\n\n\u001b[0m",
      "\u001b[0;31m  [1]  (.q.xcol)\n\n\u001b[0m",
      "\u001b[0;31m  [0]  `symbol`securityName`marketCategory`isTestIssue`lotSize`isETF xcol nasdaqlisted\n                                                                     ^\n\u001b[0m"
     ]
    }
   ],
   "source": [
    "`symbol`securityName`marketCategory`isTestIssue`lotSize`isETF xcol nasdaqlisted"
   ]
  },
  {
   "cell_type": "code",
   "execution_count": null,
   "metadata": {},
   "outputs": [],
   "source": []
  }
 ],
 "metadata": {
  "kernelspec": {
   "display_name": "Q (kdb+)",
   "language": "q",
   "name": "qpk"
  },
  "language_info": {
   "file_extension": ".q",
   "mimetype": "text/x-q",
   "name": "q",
   "version": "3.6.0"
  }
 },
 "nbformat": 4,
 "nbformat_minor": 4
}
