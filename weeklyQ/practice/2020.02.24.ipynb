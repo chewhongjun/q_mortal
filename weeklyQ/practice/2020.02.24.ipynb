{
 "cells": [
  {
   "cell_type": "code",
   "execution_count": 2,
   "metadata": {},
   "outputs": [
    {
     "data": {
      "text/plain": [
       "firstName| Tom\n",
       "lastName | Jerry\n"
      ]
     },
     "execution_count": 3,
     "metadata": {},
     "output_type": "execute_result"
    },
    {
     "ename": "\u001b[0;31mtype\u001b[0m",
     "evalue": "\u001b[0;31mtype\u001b[0m",
     "output_type": "error",
     "traceback": [
      "\u001b[0;31mevaluation error:\n\u001b[0m",
      "\u001b[0;31mtype\u001b[0m",
      "\u001b[0;31m\u001b[0m",
      "\u001b[0;31m  [0]  d[`age]:22\n              ^\n\u001b[0m"
     ]
    }
   ],
   "source": [
    "d:`firstName`lastName!`Tom`Jerry\n",
    "d\n",
    "d[`age]:22"
   ]
  },
  {
   "cell_type": "code",
   "execution_count": 9,
   "metadata": {},
   "outputs": [
    {
     "name": "stdout",
     "output_type": "stream",
     "text": [
      "`firstName`lastName`zipCode!`Tom\n",
      "firstName| `Tom\n",
      "lastName | `Jerry\n",
      "zipCode  | 10583\n"
     ]
    }
   ],
   "source": [
    "d2:`firstName`lastName`zipCode!`Tom;`Jerry;10583;\n",
    "show d2\n",
    "d2:`firstName`lastName`zipCode!(`Tom;`Jerry;10583);\n",
    "show d2"
   ]
  },
  {
   "cell_type": "code",
   "execution_count": 10,
   "metadata": {},
   "outputs": [
    {
     "data": {
      "text/plain": [
       "firstName| Tom\n",
       "lastName | Jerry\n"
      ]
     },
     "execution_count": 10,
     "metadata": {},
     "output_type": "execute_result"
    }
   ],
   "source": [
    "d3: `firstName`lastName!`Tom`Jerry\n",
    "d[`state]:`NY\n",
    "d3"
   ]
  },
  {
   "cell_type": "code",
   "execution_count": 12,
   "metadata": {},
   "outputs": [
    {
     "data": {
      "text/plain": [
       "firstName| Tom\n",
       "lastName | Jerry\n"
      ]
     },
     "execution_count": 12,
     "metadata": {},
     "output_type": "execute_result"
    },
    {
     "data": {
      "text/plain": [
       "firstName| `Tom\n",
       "lastName | `Jerry\n",
       "age      | 35\n"
      ]
     },
     "execution_count": 12,
     "metadata": {},
     "output_type": "execute_result"
    }
   ],
   "source": [
    "d4:`firstName`lastName!`Tom`Jerry\n",
    "d4\n",
    "\n",
    "d4,(enlist `age)!(enlist 35)"
   ]
  },
  {
   "cell_type": "code",
   "execution_count": 13,
   "metadata": {},
   "outputs": [
    {
     "data": {
      "text/plain": [
       "firstName| `Tom\n",
       "lastName | `Jerry\n",
       "state    | `NY\n",
       "age      | 24\n",
       "zipcode  | 823638\n",
       "address  | \"pig\"\n"
      ]
     },
     "execution_count": 13,
     "metadata": {},
     "output_type": "execute_result"
    },
    {
     "name": "stderr",
     "output_type": "stream",
     "text": [
      "'2020.05.26T16:48:10.157 timeout reporting -- exiting"
     ]
    }
   ],
   "source": [
    "update age:24,zipcode:823638,address:\"pig\" from d"
   ]
  },
  {
   "cell_type": "code",
   "execution_count": null,
   "metadata": {},
   "outputs": [],
   "source": []
  }
 ],
 "metadata": {
  "kernelspec": {
   "display_name": "Q (kdb+)",
   "language": "q",
   "name": "qpk"
  },
  "language_info": {
   "file_extension": ".q",
   "mimetype": "text/x-q",
   "name": "q",
   "version": "3.6.0"
  }
 },
 "nbformat": 4,
 "nbformat_minor": 4
}
