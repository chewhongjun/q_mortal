{
 "cells": [
  {
   "cell_type": "code",
   "execution_count": 1,
   "metadata": {},
   "outputs": [],
   "source": [
    "getTradingDays:{\n",
    "    firstDate: 2020.03.01;\n",
    "    lastDate: 2020.03.31;\n",
    "    dates:firstDate + til(lastDate-firstDate)+1;\n",
    "    dates where not (dates mod 7) in 0 1\n",
    " };\n",
    "\n",
    "simulateTrades:{ [seed;nTrades]\n",
    "    tradingDays:getTradingDays[];\n",
    "    \n",
    "    system \"S \", string seed;\n",
    "    dates:nTrades?tradingDays;\n",
    "    \n",
    "    system \"S \", string seed;\n",
    "    tickers:nTrades?`3;\n",
    "\n",
    "    system \"S \", string seed;\n",
    "    volumes: 100*nTrades?1+til 100;\n",
    "    \n",
    "    ([] date:dates; ticker:tickers; volume:volumes)\n",
    " };\n",
    "\n",
    "trades:simulateTrades[-314159;5000000]"
   ]
  },
  {
   "cell_type": "code",
   "execution_count": 2,
   "metadata": {},
   "outputs": [
    {
     "data": {
      "text/plain": [
       "date       ticker volume\n",
       "------------------------\n",
       "2020.03.18 mil    1300  \n",
       "2020.03.12 igf    1100  \n",
       "2020.03.16 kao    200   \n",
       "2020.03.03 baf    9100  \n",
       "2020.03.13 kfh    7400  \n",
       "2020.03.17 jec    9100  \n",
       "2020.03.09 kfm    4400  \n",
       "2020.03.30 lkk    9100  \n",
       "2020.03.10 kfi    8500  \n",
       "2020.03.03 fgl    6400  \n",
       "2020.03.09 enf    9400  \n",
       "2020.03.06 plh    5500  \n",
       "2020.03.19 nni    3900  \n",
       "2020.03.13 glc    9800  \n",
       "2020.03.04 gkp    8900  \n",
       "2020.03.11 bgh    5900  \n",
       "2020.03.02 ifn    6900  \n",
       "2020.03.25 foh    4600  \n",
       "2020.03.20 kdj    300   \n",
       "2020.03.13 eeg    4000  \n",
       "..\n"
      ]
     },
     "execution_count": 2,
     "metadata": {},
     "output_type": "execute_result"
    }
   ],
   "source": [
    "trades"
   ]
  },
  {
   "cell_type": "code",
   "execution_count": 3,
   "metadata": {},
   "outputs": [],
   "source": [
    "topTradedSymbols:([]\n",
    "  date:`date$();\n",
    "  ticker:`symbol$();\n",
    "  dailyVol:`long$()\n",
    " )"
   ]
  },
  {
   "cell_type": "markdown",
   "metadata": {},
   "source": [
    "Find the top 10 symbols that are most actively traded (measured by total traded shares) on each day. The returned table should have 220 rows, i.e. 10 rows for each day and the following schema:"
   ]
  },
  {
   "cell_type": "code",
   "execution_count": 8,
   "metadata": {},
   "outputs": [],
   "source": [
    "dailyVolume:`date`dailyVol xdesc 0!select dailyVol:sum volume by date,ticker from trades;"
   ]
  },
  {
   "cell_type": "code",
   "execution_count": 9,
   "metadata": {},
   "outputs": [
    {
     "data": {
      "text/plain": [
       "date       ticker dailyVol\n",
       "--------------------------\n",
       "2020.03.31 apk    436300  \n",
       "2020.03.31 hmi    429500  \n",
       "2020.03.31 iph    425500  \n",
       "2020.03.31 aod    425200  \n",
       "2020.03.31 gbi    423900  \n",
       "2020.03.31 njn    423800  \n",
       "2020.03.31 gda    422900  \n",
       "2020.03.31 hof    420300  \n",
       "2020.03.31 pgj    419600  \n",
       "2020.03.31 gii    416200  \n",
       "2020.03.31 hkf    411000  \n",
       "2020.03.31 nhl    408400  \n",
       "2020.03.31 djo    407400  \n",
       "2020.03.31 aed    406400  \n",
       "2020.03.31 fad    406400  \n",
       "2020.03.31 oln    405500  \n",
       "2020.03.31 bpp    404600  \n",
       "2020.03.31 dhp    400800  \n",
       "2020.03.31 lgf    398800  \n",
       "2020.03.31 hlg    398700  \n",
       "..\n"
      ]
     },
     "execution_count": 9,
     "metadata": {},
     "output_type": "execute_result"
    }
   ],
   "source": [
    "dailyVolume"
   ]
  },
  {
   "cell_type": "code",
   "execution_count": 26,
   "metadata": {},
   "outputs": [],
   "source": [
    "func1:select from dailyVolume where ({x in 10#x};i) fby date"
   ]
  },
  {
   "cell_type": "code",
   "execution_count": 27,
   "metadata": {},
   "outputs": [],
   "source": [
    "func2:ungroup select sublist[10] ticker, sublist[10] dailyVol by date from dailyVolume"
   ]
  },
  {
   "cell_type": "code",
   "execution_count": 28,
   "metadata": {},
   "outputs": [],
   "source": [
    "func3:ungroup select 10#ticker,10#dailyVol by date from dailyVolume"
   ]
  },
  {
   "cell_type": "code",
   "execution_count": 29,
   "metadata": {},
   "outputs": [],
   "source": [
    "func4:select from dailyVolume where i in raze 10#/:group date"
   ]
  },
  {
   "cell_type": "code",
   "execution_count": 34,
   "metadata": {},
   "outputs": [
    {
     "data": {
      "text/plain": [
       "1468\n"
      ]
     },
     "execution_count": 34,
     "metadata": {},
     "output_type": "execute_result"
    },
    {
     "data": {
      "text/plain": [
       "1504\n"
      ]
     },
     "execution_count": 34,
     "metadata": {},
     "output_type": "execute_result"
    },
    {
     "data": {
      "text/plain": [
       "1589\n"
      ]
     },
     "execution_count": 34,
     "metadata": {},
     "output_type": "execute_result"
    },
    {
     "data": {
      "text/plain": [
       "1657\n"
      ]
     },
     "execution_count": 34,
     "metadata": {},
     "output_type": "execute_result"
    }
   ],
   "source": [
    "\\t:100000000 func1\n",
    "\\t:100000000 func2\n",
    "\\t:100000000 func3\n",
    "\\t:100000000 func4"
   ]
  },
  {
   "cell_type": "code",
   "execution_count": 35,
   "metadata": {},
   "outputs": [
    {
     "data": {
      "text/plain": [
       "174\n"
      ]
     },
     "execution_count": 35,
     "metadata": {},
     "output_type": "execute_result"
    },
    {
     "data": {
      "text/plain": [
       "154\n"
      ]
     },
     "execution_count": 35,
     "metadata": {},
     "output_type": "execute_result"
    },
    {
     "data": {
      "text/plain": [
       "161\n"
      ]
     },
     "execution_count": 35,
     "metadata": {},
     "output_type": "execute_result"
    },
    {
     "data": {
      "text/plain": [
       "169\n"
      ]
     },
     "execution_count": 35,
     "metadata": {},
     "output_type": "execute_result"
    }
   ],
   "source": [
    "\\t:10000000 func1\n",
    "\\t:10000000 func2\n",
    "\\t:10000000 func3\n",
    "\\t:10000000 func4"
   ]
  },
  {
   "cell_type": "code",
   "execution_count": 36,
   "metadata": {},
   "outputs": [
    {
     "data": {
      "text/plain": [
       "187\n"
      ]
     },
     "execution_count": 36,
     "metadata": {},
     "output_type": "execute_result"
    },
    {
     "data": {
      "text/plain": [
       "151\n"
      ]
     },
     "execution_count": 36,
     "metadata": {},
     "output_type": "execute_result"
    },
    {
     "data": {
      "text/plain": [
       "159\n"
      ]
     },
     "execution_count": 36,
     "metadata": {},
     "output_type": "execute_result"
    },
    {
     "data": {
      "text/plain": [
       "167\n"
      ]
     },
     "execution_count": 36,
     "metadata": {},
     "output_type": "execute_result"
    }
   ],
   "source": [
    "\\t:10000000 func1\n",
    "\\t:10000000 func2\n",
    "\\t:10000000 func3\n",
    "\\t:10000000 func4"
   ]
  },
  {
   "cell_type": "code",
   "execution_count": null,
   "metadata": {},
   "outputs": [],
   "source": []
  }
 ],
 "metadata": {
  "kernelspec": {
   "display_name": "Q (kdb+)",
   "language": "q",
   "name": "qpk"
  },
  "language_info": {
   "file_extension": ".q",
   "mimetype": "text/x-q",
   "name": "q",
   "version": "3.6.0"
  }
 },
 "nbformat": 4,
 "nbformat_minor": 4
}
