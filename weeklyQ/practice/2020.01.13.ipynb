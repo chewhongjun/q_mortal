{
 "cells": [
  {
   "cell_type": "markdown",
   "metadata": {},
   "source": [
    "In a standard report on the performance of algo parent orders, the notional weighted average slippage is typically reported. It is fairly simple to calculate weighted average in q using the built-in function wavg. To be consistent, we should also report the notional weighted standard deviation of slippage. Here is the definition of weighted standard deviation.\n"
   ]
  },
  {
   "cell_type": "code",
   "execution_count": 1,
   "metadata": {},
   "outputs": [],
   "source": [
    "simSlippage:{\n",
    "    n:10000;\n",
    "\n",
    "    system \"S -314159\";\n",
    "    slippage:5-0.01*n?1000;\n",
    "\n",
    "    system \"S -314159\";\n",
    "    notional:10000+n?100000;\n",
    "\n",
    "    ([] notional:notional; slippage:slippage)\n",
    " }"
   ]
  },
  {
   "cell_type": "code",
   "execution_count": 13,
   "metadata": {},
   "outputs": [],
   "source": [
    "perfData:simSlippage[];"
   ]
  },
  {
   "cell_type": "code",
   "execution_count": 14,
   "metadata": {},
   "outputs": [
    {
     "ename": "\u001b[0;31mn\u001b[0m",
     "evalue": "\u001b[0;31mn\u001b[0m",
     "output_type": "error",
     "traceback": [
      "\u001b[0;31mevaluation error:\n\u001b[0m",
      "\u001b[0;31mn\u001b[0m",
      "\u001b[0;31m\u001b[0m",
      "\u001b[0;31m  [1]  wsdev:{[w;x]\n    $[sqrt (n%n-1)*w wavg xdm*xdm:x-w wavg x]\n              ^\n }\n\u001b[0m",
      "\u001b[0;31m  [0]  exec wsdev[notional;slippage] from perfData\n            ^\n\u001b[0m"
     ]
    }
   ],
   "source": [
    "wsdev:{[w;x]\n",
    "    $[1>=n:sum w<>0;:0f;sqrt (n%n-1)*w wavg xdm*xdm:x-w wavg x]\n",
    " };\n",
    "exec wsdev[notional;slippage] from perfData"
   ]
  },
  {
   "cell_type": "code",
   "execution_count": null,
   "metadata": {},
   "outputs": [],
   "source": [
    "// 1>=n:sum w<>0;:0f;\n",
    "// what does this do?"
   ]
  }
 ],
 "metadata": {
  "kernelspec": {
   "display_name": "Q (kdb+)",
   "language": "q",
   "name": "qpk"
  },
  "language_info": {
   "file_extension": ".q",
   "mimetype": "text/x-q",
   "name": "q",
   "version": "3.6.0"
  }
 },
 "nbformat": 4,
 "nbformat_minor": 4
}
