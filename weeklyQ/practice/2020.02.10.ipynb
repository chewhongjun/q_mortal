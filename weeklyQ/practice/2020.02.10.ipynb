{
 "cells": [
  {
   "cell_type": "markdown",
   "metadata": {},
   "source": [
    "### Introduction\n",
    "Let's go one step further by continuing the question from last week. A question asked by algorithmic traders quite often is how many open orders are live on market at any given time.\n"
   ]
  },
  {
   "cell_type": "code",
   "execution_count": 4,
   "metadata": {},
   "outputs": [
    {
     "data": {
      "text/plain": [
       "orderId subT         exitT       \n",
       "---------------------------------\n",
       "1000    09:30:17.080 09:30:00.008\n",
       "1001    09:30:21.349 09:30:00.009\n",
       "1002    09:30:30.155 09:30:00.011\n",
       "1003    09:30:30.308 09:30:00.017\n",
       "1004    09:30:30.320 09:30:00.020\n",
       "1005    09:30:31.384 09:30:00.023\n",
       "1006    09:30:32.263 09:30:00.037\n",
       "1007    09:30:38.184 09:30:00.061\n",
       "1008    09:30:39.026 09:30:00.070\n",
       "1009    09:30:40.304 09:30:00.096\n",
       "1010    09:30:47.571 09:30:00.129\n",
       "1011    09:30:49.248 09:30:00.143\n",
       "1012    09:30:50.733 09:30:00.149\n",
       "1013    09:30:58.274 09:30:00.164\n",
       "1014    09:31:03.756 09:30:00.172\n",
       "1015    09:31:04.988 09:30:00.223\n",
       "1016    09:31:05.447 09:30:00.224\n",
       "1017    09:31:09.735 09:30:00.228\n",
       "1018    09:31:20.285 09:30:00.234\n",
       "1019    09:31:22.401 09:30:00.236\n",
       "..\n"
      ]
     },
     "execution_count": 4,
     "metadata": {},
     "output_type": "execute_result"
    }
   ],
   "source": [
    "genOrders:{[nOrders;seed;openTime;closeTime]\n",
    "    system \"S \",string seed;\n",
    "    submitTimes: asc closeTime&openTime+nOrders?390*60*1000;\n",
    "\n",
    "    system \"S \",string seed;\n",
    "    exitTimes: asc closeTime&openTime+nOrders?60*1000;\n",
    "    \n",
    "    ([] orderId:1000+til nOrders; \n",
    "        subT:submitTimes; \n",
    "        exitT:exitTimes)\n",
    " };\n",
    "openTime:`time$09:30;\n",
    "closeTime:`time$16:00;\n",
    "simOrders:genOrders[5000;-314159;openTime;closeTime]\n",
    "simOrders"
   ]
  },
  {
   "cell_type": "code",
   "execution_count": 4,
   "metadata": {},
   "outputs": [
    {
     "ename": "\u001b[0;31msubTime\u001b[0m",
     "evalue": "\u001b[0;31msubTime\u001b[0m",
     "output_type": "error",
     "traceback": [
      "\u001b[0;31mevaluation error:\n\u001b[0m",
      "\u001b[0;31msubTime\u001b[0m",
      "\u001b[0;31m\u001b[0m",
      "\u001b[0;31m  [0]  addOrder:select time:subTime,nOpenOrders:1 from simOrders;\n                ^\n\u001b[0m"
     ]
    }
   ],
   "source": [
    "initOrder:([] time:enlist openTime;nOpenOrders:enlist 0);\n",
    "addOrder:select time:subTime,nOpenOrders:1 from simOrders;\n",
    "removeOrder:select time:exitTime,nOpenOrders:-1 from simOrders;\n",
    "orders:select time,sums nOpenOrders from `time xasc initOrder,addOrder,removeOrder;\n",
    "select time,nOpenOrders from orders where differ nOpenOrders"
   ]
  },
  {
   "cell_type": "code",
   "execution_count": 4,
   "metadata": {},
   "outputs": [
    {
     "ename": "\u001b[0;31mrank\u001b[0m",
     "evalue": "\u001b[0;31mrank\u001b[0m",
     "output_type": "error",
     "traceback": [
      "\u001b[0;31mevaluation error:\n\u001b[0m",
      "\u001b[0;31mrank\u001b[0m",
      "\u001b[0;31m\u001b[0m",
      "\u001b[0;31m  [0]  select time:09:30:47.571,nOpenOrders:1 from simOrders\n       ^\n\u001b[0m"
     ]
    }
   ],
   "source": [
    "select time:09:30:47.571,nOpenOrders:1 from simOrders"
   ]
  },
  {
   "cell_type": "code",
   "execution_count": null,
   "metadata": {},
   "outputs": [],
   "source": []
  }
 ],
 "metadata": {
  "kernelspec": {
   "display_name": "Q (kdb+)",
   "language": "q",
   "name": "qpk"
  },
  "language_info": {
   "file_extension": ".q",
   "mimetype": "text/x-q",
   "name": "q",
   "version": "3.6.0"
  }
 },
 "nbformat": 4,
 "nbformat_minor": 4
}
