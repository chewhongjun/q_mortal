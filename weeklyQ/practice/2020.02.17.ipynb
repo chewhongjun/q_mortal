{
 "cells": [
  {
   "cell_type": "markdown",
   "metadata": {},
   "source": [
    "### Introduction\n",
    "In the algorithmic trading world, parameterization is so common that some algorithms are configured with hundreds or thousands of parameters. An algorithmic parent order can easily has hundreds of parameters and some of which are exposed to algorithm users so that they can update the order attributes. For example, the participation rate of a POV (Percent Of Volume) order can be amended by end users at any time during the trading duration. A common question encountered in the analysis of algorithm and/or smart order router behavior is\n",
    "\n",
    "- what parameters are modified, and\n",
    "- how they are updated  \n",
    "\n",
    "when an amend event is initiated by an algorithmic trader.  \n",
    "\n",
    "Below is an example history of a few selected parameters of a POV order. Create a table to show the parameter history with each parameter name as the column name in the table. You need to treat the change in order quantity and/or price limit the same as parameter change."
   ]
  },
  {
   "cell_type": "code",
   "execution_count": 1,
   "metadata": {},
   "outputs": [],
   "source": [
    "paramTbl:([]time:`time$();orderQty:`long$();limitPrice:`float$();params:());\n",
    "`paramTbl insert (09:30:56.123;500000;0n;`StartTime`PovRate!(10:00:00.000;0.08));\n",
    "`paramTbl insert (09:35:44.735;500000;0n;`StartTime`PovRate!(09:40:00.000;0.08));\n",
    "`paramTbl insert (10:01:25.941;500000;0n;`StartTime`PovRate!(09:40:00.000;0.12));\n",
    "`paramTbl insert (10:10:32.356;500000;0n;`StartTime`PovRate`MinPovRate`MaxPovRate!(09:40:00.000;0.12;0.10;0.14));\n",
    "`paramTbl insert (10:30:39.475;500000;45.23;`StartTime`PovRate`MinPovRate`MaxPovRate!(09:40:00.000;0.12;0.10;0.14));\n",
    "`paramTbl insert (11:00:52.092;600000;45.27;`StartTime`PovRate`MinPovRate`MaxPovRate!(09:40:00.000;0.12;0.10;0.14));\n",
    "`paramTbl insert (11:00:52.092;1000000;0n;`StartTime`PovRate!(09:40:00.000;0.15));"
   ]
  },
  {
   "cell_type": "code",
   "execution_count": 23,
   "metadata": {},
   "outputs": [
    {
     "data": {
      "text/plain": [
       "time         orderQty limitPrice params                                      ..\n",
       "-----------------------------------------------------------------------------..\n",
       "09:30:56.123 500000              `StartTime`PovRate!(10:00:00.000;0.08)      ..\n",
       "09:35:44.735 500000              `StartTime`PovRate!(09:40:00.000;0.08)      ..\n",
       "10:01:25.941 500000              `StartTime`PovRate!(09:40:00.000;0.12)      ..\n",
       "10:10:32.356 500000              `StartTime`PovRate`MinPovRate`MaxPovRate!(09..\n",
       "10:30:39.475 500000   45.23      `StartTime`PovRate`MinPovRate`MaxPovRate!(09..\n",
       "11:00:52.092 600000   45.27      `StartTime`PovRate`MinPovRate`MaxPovRate!(09..\n",
       "11:00:52.092 1000000             `StartTime`PovRate!(09:40:00.000;0.15)      ..\n"
      ]
     },
     "execution_count": 23,
     "metadata": {},
     "output_type": "execute_result"
    }
   ],
   "source": [
    "paramTbl"
   ]
  },
  {
   "cell_type": "markdown",
   "metadata": {},
   "source": [
    "### Answer\n",
    "The answer below shows a few tips on dictionary manipulation:\n",
    "\n",
    "- Use raze to merge a list of dictionaries with values of possible different types into a single dictionary\n",
    "- Find the proper null values for each dictionary key\n",
    "- Merge two dictionaries with join operator\n",
    "- Merge two tables side by side"
   ]
  },
  {
   "cell_type": "code",
   "execution_count": 22,
   "metadata": {},
   "outputs": [
    {
     "data": {
      "text/plain": [
       "StartTime | 09:40:00.000\n",
       "PovRate   | 0.15\n",
       "MinPovRate| 0.1\n",
       "MaxPovRate| 0.14\n"
      ]
     },
     "execution_count": 22,
     "metadata": {},
     "output_type": "execute_result"
    },
    {
     "name": "stdout",
     "output_type": "stream",
     "text": [
      "StartTime | 0Nt\n",
      "PovRate   | 0n\n",
      "MinPovRate| 0n\n",
      "MaxPovRate| 0n\n"
     ]
    },
    {
     "data": {
      "text/plain": [
       "09:40:00.000\n"
      ]
     },
     "execution_count": 22,
     "metadata": {},
     "output_type": "execute_result"
    }
   ],
   "source": [
    "allParams:raze exec params from paramTbl;\n",
    "allParams\n",
    "allParams[`StartTime]\n",
    "show nullValues:(key allParams)!(enlist each value allParams)[;1];"
   ]
  },
  {
   "cell_type": "code",
   "execution_count": 20,
   "metadata": {},
   "outputs": [
    {
     "name": "stdout",
     "output_type": "stream",
     "text": [
      "time         OrderQty LimitPrice\n",
      "--------------------------------\n",
      "09:30:56.123 500000             \n",
      "09:35:44.735 500000             \n",
      "10:01:25.941 500000             \n",
      "10:10:32.356 500000             \n",
      "10:30:39.475 500000   45.23     \n",
      "11:00:52.092 600000   45.27     \n",
      "11:00:52.092 1000000            \n"
     ]
    },
    {
     "data": {
      "text/plain": [
       "time         OrderQty LimitPrice StartTime    PovRate MinPovRate MaxPovRate\n",
       "---------------------------------------------------------------------------\n",
       "09:30:56.123 500000              10:00:00.000 0.08                         \n",
       "09:35:44.735 500000              09:40:00.000 0.08                         \n",
       "10:01:25.941 500000              09:40:00.000 0.12                         \n",
       "10:10:32.356 500000              09:40:00.000 0.12    0.1        0.14      \n",
       "10:30:39.475 500000   45.23      09:40:00.000 0.12    0.1        0.14      \n",
       "11:00:52.092 600000   45.27      09:40:00.000 0.12    0.1        0.14      \n",
       "11:00:52.092 1000000             09:40:00.000 0.15                         \n"
      ]
     },
     "execution_count": 20,
     "metadata": {},
     "output_type": "execute_result"
    }
   ],
   "source": [
    "show params1:select time,OrderQty:orderQty,LimitPrice:limitPrice from paramTbl;\n",
    "params2:exec {x,y}[nullValues;] each params from paramTbl;\n",
    "params1,'params2"
   ]
  },
  {
   "cell_type": "code",
   "execution_count": 8,
   "metadata": {},
   "outputs": [
    {
     "data": {
      "text/plain": [
       "time         OrderQty LimitPrice StartTime    PovRate MinPovRate MaxPovRate\n",
       "---------------------------------------------------------------------------\n",
       "09:30:56.123 500000              10:00:00.000 0.08                         \n",
       "09:35:44.735 500000              09:40:00.000 0.08                         \n",
       "10:01:25.941 500000              09:40:00.000 0.12                         \n",
       "10:10:32.356 500000              09:40:00.000 0.12    0.1        0.14      \n",
       "10:30:39.475 500000   45.23      09:40:00.000 0.12    0.1        0.14      \n",
       "11:00:52.092 600000   45.27      09:40:00.000 0.12    0.1        0.14      \n",
       "11:00:52.092 1000000             09:40:00.000 0.15                         \n"
      ]
     },
     "execution_count": 8,
     "metadata": {},
     "output_type": "execute_result"
    }
   ],
   "source": [
    "{[paramTbl]\n",
    "  / Merge all parameters into a single dictionary so as to get a full list of parameter names\n",
    "  allParams:raze exec params from paramTbl;\n",
    "\n",
    "  / Find the null value for each parameter name\n",
    "  nullValues:(key allParams)!(enlist each value allParams)[;1];\n",
    "\n",
    "  / Create a table of \"parameter\" change history of order qty and limit price\n",
    "  params1:select time,OrderQty:orderQty,LimitPrice:limitPrice from paramTbl;\n",
    "\n",
    "  / Set a proper null value to parameters that are not present\n",
    "  params2:exec {x,y}[nullValues;] each params from paramTbl;\n",
    "\n",
    "  / Combine the normal parameters with the pseudo parameters\n",
    "  params1,'params2\n",
    " }[paramTbl]"
   ]
  }
 ],
 "metadata": {
  "kernelspec": {
   "display_name": "Q (kdb+)",
   "language": "q",
   "name": "qpk"
  },
  "language_info": {
   "file_extension": ".q",
   "mimetype": "text/x-q",
   "name": "q",
   "version": "3.6.0"
  }
 },
 "nbformat": 4,
 "nbformat_minor": 4
}
