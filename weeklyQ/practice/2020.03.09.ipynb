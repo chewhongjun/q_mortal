{
 "cells": [
  {
   "cell_type": "code",
   "execution_count": 1,
   "metadata": {},
   "outputs": [],
   "source": [
    "dataList:(\n",
    "   \"date,sym,order type,orderQty\"\n",
    "  ;\"2020.03.09,AAPL.OQ,MID QUOTE,80000\"\n",
    "  ;\"2020.03.09,AAPL.OQ,FAR TOUCH,50000\"\n",
    "  ;\"2020.03.09,AAPL.OQ,NEAR TOUCH,120000\"\n",
    "  ;\"2020.03.10,AAPL.OQ,MID QUOTE,100000\"\n",
    "  ;\"2020.03.10,AAPL.OQ,FAR TOUCH,70000\"\n",
    "  ;\"2020.03.10,AAPL.OQ,NEAR TOUCH,170000\"\n",
    "  ;\"2020.03.09,IBM.N,MID QUOTE,83000\"\n",
    "  ;\"2020.03.09,IBM.N,FAR TOUCH,54000\"\n",
    "  ;\"2020.03.09,IBM.N,NEAR TOUCH,129000\"\n",
    "  ;\"2020.03.10,IBM.N,MID QUOTE,130000\"\n",
    "  ;\"2020.03.10,IBM.N,FAR TOUCH,79000\"\n",
    "  ;\"2020.03.10,IBM.N,NEAR TOUCH,175000\"\n",
    "  ;\"2020.03.09,BABA.N,MID QUOTE,120000\"\n",
    "  ;\"2020.03.09,BABA.N,FAR TOUCH,68000\"\n",
    "  ;\"2020.03.09,BABA.N,NEAR TOUCH,930000\"\n",
    "  ;\"2020.03.10,BABA.N,MID QUOTE,150000\"\n",
    "  ;\"2020.03.10,BABA.N,FAR TOUCH,96000\"\n",
    "  ;\"2020.03.10,BABA.N,NEAR TOUCH,2030000\"\n",
    " );\n",
    "\n",
    "dataTbl:(\"DSSJ\"; enlist \",\") 0:dataList;"
   ]
  },
  {
   "cell_type": "code",
   "execution_count": null,
   "metadata": {},
   "outputs": [],
   "source": []
  }
 ],
 "metadata": {
  "kernelspec": {
   "display_name": "Q (kdb+)",
   "language": "q",
   "name": "qpk"
  },
  "language_info": {
   "file_extension": ".q",
   "mimetype": "text/x-q",
   "name": "q",
   "version": "3.6.0"
  }
 },
 "nbformat": 4,
 "nbformat_minor": 4
}
