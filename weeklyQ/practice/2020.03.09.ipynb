{
 "cells": [
  {
   "cell_type": "code",
   "execution_count": 1,
   "metadata": {},
   "outputs": [],
   "source": [
    "dataList:(\n",
    "   \"date,sym,order type,orderQty\"\n",
    "  ;\"2020.03.09,AAPL.OQ,MID QUOTE,80000\"\n",
    "  ;\"2020.03.09,AAPL.OQ,FAR TOUCH,50000\"\n",
    "  ;\"2020.03.09,AAPL.OQ,NEAR TOUCH,120000\"\n",
    "  ;\"2020.03.10,AAPL.OQ,MID QUOTE,100000\"\n",
    "  ;\"2020.03.10,AAPL.OQ,FAR TOUCH,70000\"\n",
    "  ;\"2020.03.10,AAPL.OQ,NEAR TOUCH,170000\"\n",
    "  ;\"2020.03.09,IBM.N,MID QUOTE,83000\"\n",
    "  ;\"2020.03.09,IBM.N,FAR TOUCH,54000\"\n",
    "  ;\"2020.03.09,IBM.N,NEAR TOUCH,129000\"\n",
    "  ;\"2020.03.10,IBM.N,MID QUOTE,130000\"\n",
    "  ;\"2020.03.10,IBM.N,FAR TOUCH,79000\"\n",
    "  ;\"2020.03.10,IBM.N,NEAR TOUCH,175000\"\n",
    "  ;\"2020.03.09,BABA.N,MID QUOTE,120000\"\n",
    "  ;\"2020.03.09,BABA.N,FAR TOUCH,68000\"\n",
    "  ;\"2020.03.09,BABA.N,NEAR TOUCH,930000\"\n",
    "  ;\"2020.03.10,BABA.N,MID QUOTE,150000\"\n",
    "  ;\"2020.03.10,BABA.N,FAR TOUCH,96000\"\n",
    "  ;\"2020.03.10,BABA.N,NEAR TOUCH,2030000\"\n",
    " );\n",
    "\n",
    "dataTbl:(\"DSSJ\"; enlist \",\") 0:dataList;"
   ]
  },
  {
   "cell_type": "code",
   "execution_count": 4,
   "metadata": {},
   "outputs": [
    {
     "data": {
      "text/plain": [
       "c         | t f a\n",
       "----------| -----\n",
       "date      | d    \n",
       "sym       | s    \n",
       "order type| s    \n",
       "orderQty  | j    \n"
      ]
     },
     "execution_count": 4,
     "metadata": {},
     "output_type": "execute_result"
    },
    {
     "data": {
      "text/plain": [
       "date       sym     order type orderQty\n",
       "--------------------------------------\n",
       "2020.03.09 AAPL.OQ MID QUOTE  80000   \n",
       "2020.03.09 AAPL.OQ FAR TOUCH  50000   \n",
       "2020.03.09 AAPL.OQ NEAR TOUCH 120000  \n",
       "2020.03.10 AAPL.OQ MID QUOTE  100000  \n",
       "2020.03.10 AAPL.OQ FAR TOUCH  70000   \n",
       "2020.03.10 AAPL.OQ NEAR TOUCH 170000  \n",
       "2020.03.09 IBM.N   MID QUOTE  83000   \n",
       "2020.03.09 IBM.N   FAR TOUCH  54000   \n",
       "2020.03.09 IBM.N   NEAR TOUCH 129000  \n",
       "2020.03.10 IBM.N   MID QUOTE  130000  \n",
       "2020.03.10 IBM.N   FAR TOUCH  79000   \n",
       "2020.03.10 IBM.N   NEAR TOUCH 175000  \n",
       "2020.03.09 BABA.N  MID QUOTE  120000  \n",
       "2020.03.09 BABA.N  FAR TOUCH  68000   \n",
       "2020.03.09 BABA.N  NEAR TOUCH 930000  \n",
       "2020.03.10 BABA.N  MID QUOTE  150000  \n",
       "2020.03.10 BABA.N  FAR TOUCH  96000   \n",
       "2020.03.10 BABA.N  NEAR TOUCH 2030000 \n"
      ]
     },
     "execution_count": 4,
     "metadata": {},
     "output_type": "execute_result"
    }
   ],
   "source": [
    "meta dataTbl\n",
    "dataTbl"
   ]
  },
  {
   "cell_type": "markdown",
   "metadata": {},
   "source": [
    "Answer the following two questions:\n",
    "\n",
    "- Find the total order qty (orderQty) across all dates grouped by order type\n",
    "\n",
    "- Find the total order qty for order type MID QUOTE, grouped by sym"
   ]
  },
  {
   "cell_type": "code",
   "execution_count": 6,
   "metadata": {},
   "outputs": [
    {
     "data": {
      "text/plain": [
       "orderType | totalOrderQty\n",
       "----------| -------------\n",
       "FAR TOUCH | 417000       \n",
       "MID QUOTE | 663000       \n",
       "NEAR TOUCH| 3554000      \n"
      ]
     },
     "execution_count": 6,
     "metadata": {},
     "output_type": "execute_result"
    },
    {
     "data": {
      "text/plain": []
     },
     "execution_count": 6,
     "metadata": {},
     "output_type": "execute_result"
    },
    {
     "data": {
      "text/plain": [
       "orderType| order type\n"
      ]
     },
     "execution_count": 6,
     "metadata": {},
     "output_type": "execute_result"
    },
    {
     "data": {
      "text/plain": [
       "totalOrderQty| sum `orderQty\n"
      ]
     },
     "execution_count": 6,
     "metadata": {},
     "output_type": "execute_result"
    }
   ],
   "source": [
    "a:();\n",
    "b:(enlist `orderType)!(enlist `$\"order type\");\n",
    "c:(enlist `totalOrderQty)!(enlist (sum;`orderQty));\n",
    "?[dataTbl;a;b;c]\n",
    "a\n",
    "b\n",
    "c"
   ]
  },
  {
   "cell_type": "code",
   "execution_count": 16,
   "metadata": {},
   "outputs": [
    {
     "data": {
      "text/plain": [
       "sym    | totalOrderQty\n",
       "-------| -------------\n",
       "AAPL.OQ| 180000       \n",
       "BABA.N | 270000       \n",
       "IBM.N  | 213000       \n"
      ]
     },
     "execution_count": 16,
     "metadata": {},
     "output_type": "execute_result"
    },
    {
     "data": {
      "text/plain": [
       "= `order type ,`MID QUOTE\n"
      ]
     },
     "execution_count": 16,
     "metadata": {},
     "output_type": "execute_result"
    },
    {
     "data": {
      "text/plain": [
       "sym| sym\n"
      ]
     },
     "execution_count": 16,
     "metadata": {},
     "output_type": "execute_result"
    },
    {
     "data": {
      "text/plain": [
       "totalOrderQty| sum `orderQty\n"
      ]
     },
     "execution_count": 16,
     "metadata": {},
     "output_type": "execute_result"
    }
   ],
   "source": [
    "/Find the total order qty for order type MID QUOTE, grouped by sym\n",
    "a:(enlist (=;`$\"order type\";enlist `$\"MID QUOTE\"));\n",
    "b:(enlist `sym)!(enlist `sym);\n",
    "c:(enlist `totalOrderQty)!(enlist (sum;`orderQty));\n",
    "?[dataTbl;a;b;c]\n",
    "a\n",
    "b\n",
    "c"
   ]
  },
  {
   "cell_type": "markdown",
   "metadata": {},
   "source": [
    "Full disclosure: functional form is difficult. Along with iterators and generalized application, it completes the Big Three aspects of q that separate q pretenders from contenders. Fortunately there is a cheat that can be helpful in most situations.\n",
    "\n",
    "now that i have been looking at this for awhile?  \n",
    "[t;a;b;c]\n",
    "t-> table   \n",
    "a-> where   -> only want to those that `order type`=`MID QUOTE`  \n",
    "b-> groupby -> group by `sym`  \n",
    "c-> select  -> select sum of `orderqty` and save as totalOrderQty  "
   ]
  },
  {
   "cell_type": "code",
   "execution_count": null,
   "metadata": {},
   "outputs": [],
   "source": []
  }
 ],
 "metadata": {
  "kernelspec": {
   "display_name": "Q (kdb+)",
   "language": "q",
   "name": "qpk"
  },
  "language_info": {
   "file_extension": ".q",
   "mimetype": "text/x-q",
   "name": "q",
   "version": "3.6.0"
  }
 },
 "nbformat": 4,
 "nbformat_minor": 4
}
