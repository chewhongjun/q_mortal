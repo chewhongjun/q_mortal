{
 "cells": [
  {
   "cell_type": "markdown",
   "metadata": {},
   "source": [
    "### Introduction\n",
    "\n",
    "NYSE TAQ data provides T+1 trades reported to SIP and each trade has some basic information like timestamp, price, exchange, volume and trade qualifiers. The open/close auction trade on the primary exchange is marked by qualifiers 0 and 6, respectively. Define the daily volume as the total volume traded between the open/close auction trades on the primary, inclusively."
   ]
  },
  {
   "cell_type": "code",
   "execution_count": 101,
   "metadata": {},
   "outputs": [
    {
     "data": {
      "text/plain": [
       "time         volume saleCondition\n",
       "---------------------------------\n",
       "09:28:02.550 400    `X`C         \n",
       "09:28:05.444 200    `8`V         \n",
       "09:28:07.042 500    ,`V          \n",
       "09:28:17.080 1000   `V`8         \n",
       "09:28:17.418 700    `symbol$()   \n",
       "09:28:20.919 1000   ,`L          \n",
       "09:28:21.349 300    `X`N         \n",
       "09:28:22.178 800    `N`R         \n",
       "09:28:23.478 800    `symbol$()   \n",
       "09:28:23.567 1000   `C`L         \n",
       "09:28:26.683 600    `4`U         \n",
       "09:28:29.890 200    `symbol$()   \n",
       "09:28:30.155 900    ,`U          \n",
       "09:28:30.308 300    ,`8          \n",
       "09:28:30.320 200    ,`V          \n",
       "09:28:31.384 1000   ,`5          \n",
       "09:28:32.263 200    `X`4         \n",
       "09:28:37.249 200    ,`P          \n",
       "09:28:38.124 900    `B`L         \n",
       "09:28:38.184 900    `symbol$()   \n",
       "..\n"
      ]
     },
     "execution_count": 101,
     "metadata": {},
     "output_type": "execute_result"
    }
   ],
   "source": [
    "genTrades:{[seed;nTrades]\n",
    "    system \"S \",string seed;\n",
    "    times:`time$09:28:00.000+nTrades?392*60*1000;\n",
    "\n",
    "    system \"S \",string seed;\n",
    "    volumes:`long$100*1+nTrades?10;\n",
    "\n",
    "    system \"S \",string seed;\n",
    "     saleConditions:{x?`B`C`H`L`N`P`R`T`U`V`X`Z`7`4`5`8} each nTrades?3;\n",
    "\n",
    "    trades:([] time:times; volume:volumes; saleCondition:saleConditions);\n",
    "\n",
    "    trades:trades upsert (`time$09:30:00.000+rand 60000;24700j;`O`X);\n",
    "    trades:trades upsert (`time$16:00:00.000+rand 2000;43800j;enlist `6);\n",
    "    \n",
    "    `time xasc trades\n",
    " }\n",
    "simTrades:genTrades[-314159;10000];\n",
    "simTrades"
   ]
  },
  {
   "cell_type": "markdown",
   "metadata": {},
   "source": [
    "### Question\n",
    "To simplify the question, it is assumed that open/close auction trades are ALWAYS present. The function genTrades above simulates 10,002 trades. Note that each trade has up to two sale condition codes. Find the total volume between the two auction trades, inclusively."
   ]
  },
  {
   "cell_type": "code",
   "execution_count": 122,
   "metadata": {},
   "outputs": [
    {
     "data": {
      "text/plain": [
       "volume \n",
       "-------\n",
       "5528800\n"
      ]
     },
     "execution_count": 122,
     "metadata": {},
     "output_type": "execute_result"
    }
   ],
   "source": [
    "// like\\: \"*[O6]*\";\n",
    "\n",
    "timeAllo: exec time from simTrades where any each saleCondition like\\: \"*[O6]*\";\n",
    "select sum volume from simTrades where time within timeAllo"
   ]
  },
  {
   "cell_type": "code",
   "execution_count": 120,
   "metadata": {},
   "outputs": [
    {
     "ename": "\u001b[0;31mparse error\u001b[0m",
     "evalue": "\u001b[0;31m \u001b[0m",
     "output_type": "error",
     "traceback": [
      "\u001b[0;31mparse error\u001b[0m",
      "\u001b[0;31m \u001b[0m"
     ]
    }
   ],
   "source": [
    "X:each 1 2 3 =\\: 1\n",
    "X"
   ]
  },
  {
   "cell_type": "code",
   "execution_count": null,
   "metadata": {},
   "outputs": [],
   "source": [
    "auctionTimes:exec time from simTrades where any each saleCondition like\\: \"*[O6]*\";\n",
    "select sum volume from simTrades where time within auctionTimes"
   ]
  }
 ],
 "metadata": {
  "kernelspec": {
   "display_name": "Q (kdb+)",
   "language": "q",
   "name": "qpk"
  },
  "language_info": {
   "file_extension": ".q",
   "mimetype": "text/x-q",
   "name": "q",
   "version": "3.6.0"
  }
 },
 "nbformat": 4,
 "nbformat_minor": 4
}
