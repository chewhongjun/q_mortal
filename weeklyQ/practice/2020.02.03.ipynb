{
 "cells": [
  {
   "cell_type": "markdown",
   "metadata": {},
   "source": [
    "# Introduction\n",
    "One frequently asked question in analyzing the behavior of a Smart Order Router (SOR) is how many time periods in which there is no open child orders on market and what are the start time and length of the no-slice period.\n",
    "\n",
    "The following function genOrders simulates 5,000 child orders with order submission time and the time each order exits from the limit order book. It is assumed that the trading hours is from 09:30 to 16:00 and the parent order arrives exactly at 09:30."
   ]
  },
  {
   "cell_type": "code",
   "execution_count": 28,
   "metadata": {},
   "outputs": [],
   "source": [
    "genOrders:{[nOrders;seed;openTime;closeTime]\n",
    "    system \"S \",string seed;\n",
    "    submitTimes: asc closeTime&openTime+nOrders?390*60*1000;\n",
    "\n",
    "    system \"S \",string seed;\n",
    "    exitTimes: asc closeTime&openTime+nOrders?60*1000;\n",
    "    \n",
    "    ([] orderId:1000+til nOrders; \n",
    "        subT:submitTimes; \n",
    "        exitT:exitTimes)\n",
    " };"
   ]
  },
  {
   "cell_type": "code",
   "execution_count": 29,
   "metadata": {},
   "outputs": [],
   "source": [
    "openTime:`time$09:30;\n",
    "closeTime:`time$16:00;\n",
    "simOrders:genOrders[5000;-314159;openTime;closeTime]"
   ]
  },
  {
   "cell_type": "code",
   "execution_count": 30,
   "metadata": {},
   "outputs": [
    {
     "data": {
      "text/plain": [
       "orderId subT         exitT       \n",
       "---------------------------------\n",
       "1000    09:30:17.080 09:30:00.008\n",
       "1001    09:30:21.349 09:30:00.009\n",
       "1002    09:30:30.155 09:30:00.011\n",
       "1003    09:30:30.308 09:30:00.017\n",
       "1004    09:30:30.320 09:30:00.020\n",
       "1005    09:30:31.384 09:30:00.023\n",
       "1006    09:30:32.263 09:30:00.037\n",
       "1007    09:30:38.184 09:30:00.061\n",
       "1008    09:30:39.026 09:30:00.070\n",
       "1009    09:30:40.304 09:30:00.096\n",
       "1010    09:30:47.571 09:30:00.129\n",
       "1011    09:30:49.248 09:30:00.143\n",
       "1012    09:30:50.733 09:30:00.149\n",
       "1013    09:30:58.274 09:30:00.164\n",
       "1014    09:31:03.756 09:30:00.172\n",
       "1015    09:31:04.988 09:30:00.223\n",
       "1016    09:31:05.447 09:30:00.224\n",
       "1017    09:31:09.735 09:30:00.228\n",
       "1018    09:31:20.285 09:30:00.234\n",
       "1019    09:31:22.401 09:30:00.236\n",
       "..\n"
      ]
     },
     "execution_count": 30,
     "metadata": {},
     "output_type": "execute_result"
    }
   ],
   "source": [
    "simOrders"
   ]
  },
  {
   "cell_type": "code",
   "execution_count": 35,
   "metadata": {},
   "outputs": [],
   "source": [
    "times: update maxT:maxs exitT from simOrders;\n",
    "times: update diffT: subT-prev maxT from times;\n",
    "times: update diffT: subT-openTime from times where null diffT;"
   ]
  },
  {
   "cell_type": "code",
   "execution_count": 36,
   "metadata": {},
   "outputs": [
    {
     "data": {
      "text/plain": [
       "orderId subT         exitT        maxT         diffT       \n",
       "-----------------------------------------------------------\n",
       "1000    09:30:17.080 09:30:00.008 09:30:00.008 00:00:17.080\n",
       "1001    09:30:21.349 09:30:00.009 09:30:00.009 00:00:21.341\n",
       "1002    09:30:30.155 09:30:00.011 09:30:00.011 00:00:30.146\n",
       "1003    09:30:30.308 09:30:00.017 09:30:00.017 00:00:30.297\n",
       "1004    09:30:30.320 09:30:00.020 09:30:00.020 00:00:30.303\n",
       "1005    09:30:31.384 09:30:00.023 09:30:00.023 00:00:31.364\n",
       "1006    09:30:32.263 09:30:00.037 09:30:00.037 00:00:32.240\n",
       "1007    09:30:38.184 09:30:00.061 09:30:00.061 00:00:38.147\n",
       "1008    09:30:39.026 09:30:00.070 09:30:00.070 00:00:38.965\n",
       "1009    09:30:40.304 09:30:00.096 09:30:00.096 00:00:40.234\n",
       "1010    09:30:47.571 09:30:00.129 09:30:00.129 00:00:47.475\n",
       "1011    09:30:49.248 09:30:00.143 09:30:00.143 00:00:49.119\n",
       "1012    09:30:50.733 09:30:00.149 09:30:00.149 00:00:50.590\n",
       "1013    09:30:58.274 09:30:00.164 09:30:00.164 00:00:58.125\n",
       "1014    09:31:03.756 09:30:00.172 09:30:00.172 00:01:03.592\n",
       "1015    09:31:04.988 09:30:00.223 09:30:00.223 00:01:04.816\n",
       "1016    09:31:05.447 09:30:00.224 09:30:00.224 00:01:05.224\n",
       "1017    09:31:09.735 09:30:00.228 09:30:00.228 00:01:09.511\n",
       "1018    09:31:20.285 09:30:00.234 09:30:00.234 00:01:20.057\n",
       "1019    09:31:22.401 09:30:00.236 09:30:00.236 00:01:22.167\n",
       "..\n"
      ]
     },
     "execution_count": 36,
     "metadata": {},
     "output_type": "execute_result"
    }
   ],
   "source": []
  },
  {
   "cell_type": "code",
   "execution_count": null,
   "metadata": {},
   "outputs": [],
   "source": []
  }
 ],
 "metadata": {
  "kernelspec": {
   "display_name": "Q (kdb+)",
   "language": "q",
   "name": "qpk"
  },
  "language_info": {
   "file_extension": ".q",
   "mimetype": "text/x-q",
   "name": "q",
   "version": "3.6.0"
  }
 },
 "nbformat": 4,
 "nbformat_minor": 4
}
