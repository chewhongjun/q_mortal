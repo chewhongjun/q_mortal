{
 "cells": [
  {
   "cell_type": "markdown",
   "metadata": {},
   "source": [
    "# Introduction\n",
    "One frequently asked question in analyzing the behavior of a Smart Order Router (SOR) is how many time periods in which there is no open child orders on market and what are the start time and length of the no-slice period.\n",
    "\n",
    "The following function genOrders simulates 5,000 child orders with order submission time and the time each order exits from the limit order book. It is assumed that the trading hours is from 09:30 to 16:00 and the parent order arrives exactly at 09:30."
   ]
  },
  {
   "cell_type": "code",
   "execution_count": 1,
   "metadata": {},
   "outputs": [],
   "source": [
    "genOrders:{[nOrders;seed;openTime;closeTime]\n",
    "    system \"S \",string seed;\n",
    "    submitTimes: asc closeTime&openTime+nOrders?390*60*1000;\n",
    "\n",
    "    system \"S \",string seed;\n",
    "    exitTimes: asc closeTime&openTime+nOrders?60*1000;\n",
    "    \n",
    "    ([] orderId:1000+til nOrders; \n",
    "        subT:submitTimes; \n",
    "        exitT:exitTimes)\n",
    " };"
   ]
  },
  {
   "cell_type": "code",
   "execution_count": null,
   "metadata": {},
   "outputs": [],
   "source": [
    "genOrders"
   ]
  }
 ],
 "metadata": {
  "kernelspec": {
   "display_name": "Q (kdb+)",
   "language": "q",
   "name": "qpk"
  },
  "language_info": {
   "file_extension": ".q",
   "mimetype": "text/x-q",
   "name": "q",
   "version": "3.6.0"
  }
 },
 "nbformat": 4,
 "nbformat_minor": 4
}
