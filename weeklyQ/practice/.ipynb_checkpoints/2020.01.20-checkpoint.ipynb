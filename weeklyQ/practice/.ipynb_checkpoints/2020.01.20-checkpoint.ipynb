{
 "cells": [
  {
   "cell_type": "markdown",
   "metadata": {},
   "source": [
    "A set of child orders may be created in each evaluation cycle of a Smart Order Router (SOR) and these orders might be distributed among multiple price levels and even across different trading venues. The code below simulates this order creation process. In each evaluation cycle, five orders are generated, each of which has different price but has the save evaluation id. In this example, there are two parent orders: one for BUY and one for SELL."
   ]
  },
  {
   "cell_type": "code",
   "execution_count": 4,
   "metadata": {},
   "outputs": [],
   "source": [
    "genCO:{[parentId; waveId; side]\n",
    "    n:-5;\n",
    "    \n",
    "    system \"S -314159\";\n",
    "    ids:`long$.z.N+n?1000;\n",
    "\n",
    "    system \"S -314159\";\n",
    "    prices:100+0.01*n?100;\n",
    "\n",
    "    system \"S -314159\";\n",
    "    sizes:100*1+n?10;\n",
    "\n",
    "    ([] poid:parentId; wid:waveId; coid:ids; side:side; \n",
    "    price:prices;size:sizes)\n",
    " };\n",
    "\n",
    "genOrders:{\n",
    "    buyOrders:raze {poid:`long$22:32:12.163;genCO[poid;x;`BUY]} each 101+til 20;\n",
    "    sellOrders:raze {poid:`long$23:32:12.163;genCO[poid;x;`SELL]} each 101+til 20;\n",
    "    buyOrders,sellOrders\n",
    "  };\n",
    "\n",
    "orders:genOrders[];"
   ]
  },
  {
   "cell_type": "code",
   "execution_count": 5,
   "metadata": {},
   "outputs": [
    {
     "data": {
      "text/plain": [
       "poid     wid coid           side price  size\n",
       "--------------------------------------------\n",
       "81132163 101 38273300820908 BUY  100.12 900 \n",
       "81132163 101 38273300820360 BUY  100.1  300 \n",
       "81132163 101 38273300820522 BUY  100.01 500 \n",
       "81132163 101 38273300820257 BUY  100.9  200 \n",
       "81132163 101 38273300820858 BUY  100.73 700 \n",
       "81132163 102 38273300835908 BUY  100.12 900 \n",
       "81132163 102 38273300835360 BUY  100.1  300 \n",
       "81132163 102 38273300835522 BUY  100.01 500 \n",
       "81132163 102 38273300835257 BUY  100.9  200 \n",
       "81132163 102 38273300835858 BUY  100.73 700 \n",
       "81132163 103 38273300845908 BUY  100.12 900 \n",
       "81132163 103 38273300845360 BUY  100.1  300 \n",
       "81132163 103 38273300845522 BUY  100.01 500 \n",
       "81132163 103 38273300845257 BUY  100.9  200 \n",
       "81132163 103 38273300845858 BUY  100.73 700 \n",
       "81132163 104 38273300870908 BUY  100.12 900 \n",
       "81132163 104 38273300870360 BUY  100.1  300 \n",
       "81132163 104 38273300870522 BUY  100.01 500 \n",
       "81132163 104 38273300870257 BUY  100.9  200 \n",
       "81132163 104 38273300870858 BUY  100.73 700 \n",
       "..\n"
      ]
     },
     "execution_count": 5,
     "metadata": {},
     "output_type": "execute_result"
    }
   ],
   "source": [
    "orders"
   ]
  },
  {
   "cell_type": "code",
   "execution_count": null,
   "metadata": {},
   "outputs": [],
   "source": []
  }
 ],
 "metadata": {
  "kernelspec": {
   "display_name": "Q (kdb+)",
   "language": "q",
   "name": "qpk"
  },
  "language_info": {
   "file_extension": ".q",
   "mimetype": "text/x-q",
   "name": "q",
   "version": "3.6.0"
  }
 },
 "nbformat": 4,
 "nbformat_minor": 4
}
