{
 "cells": [
  {
   "cell_type": "code",
   "execution_count": 1,
   "metadata": {},
   "outputs": [],
   "source": [
    "infile:hsym `$\"../OnDiskDB/nasdaqlisted.txt\""
   ]
  },
  {
   "cell_type": "markdown",
   "metadata": {},
   "source": [
    "# hysm \n",
    "hsym, Syntax: hsym x, where x is:\n",
    "\n",
    "1. File Name\n",
    "2. valid hostname\n",
    "3. IP address\n",
    "\n",
    "return type is a process symbol"
   ]
  },
  {
   "cell_type": "code",
   "execution_count": 6,
   "metadata": {},
   "outputs": [],
   "source": [
    "nasdaqlisted:(\"SSSB JB\";enlist \"|\") 0:-1_read0 infile;"
   ]
  },
  {
   "cell_type": "markdown",
   "metadata": {},
   "source": [
    "what does the -1_read0, ( -1_ ) refer to i cant seem to find a difference in output\n",
    "\n",
    "* -1_ drops the last time of the file\n",
    "\n",
    "# read0:\n",
    "* takes in a file symbol, process and returns character data from the source\n",
    "\n",
    "# 0:\n",
    "*  outputs it into the method (\"SSSB JB\";enlist\"|\")\n",
    "\n",
    "# SSSB JB:\n",
    "* corresponds to the posistion of the columns you want, spaces are dropped\n",
    "* Use a space to omit a field from the load if you don't want to load it"
   ]
  },
  {
   "cell_type": "code",
   "execution_count": 7,
   "metadata": {},
   "outputs": [
    {
     "data": {
      "text/plain": [
       "`Symbol`Security Name`Market Category`Test Issue`Round Lot Size`ETF\n"
      ]
     },
     "execution_count": 7,
     "metadata": {},
     "output_type": "execute_result"
    }
   ],
   "source": [
    "cols nasdaqlisted"
   ]
  },
  {
   "cell_type": "markdown",
   "metadata": {},
   "source": [
    "# xcol\n",
    "* xcol allows you to rename the headers of each row base on the order of the existing columns. This allows you to rename the columns those even with spaces"
   ]
  },
  {
   "cell_type": "code",
   "execution_count": 8,
   "metadata": {},
   "outputs": [
    {
     "data": {
      "text/plain": [
       "symbol securityName                                                          ..\n",
       "-----------------------------------------------------------------------------..\n",
       "AACG   ATA Creativity Global - American Depositary Shares, each representing ..\n",
       "AAL    American Airlines Group, Inc. - Common Stock                          ..\n",
       "AAME   Atlantic American Corporation - Common Stock                          ..\n",
       "AAOI   Applied Optoelectronics, Inc. - Common Stock                          ..\n",
       "AAON   AAON, Inc. - Common Stock                                             ..\n",
       "AAPL   Apple Inc. - Common Stock                                             ..\n",
       "AAWW   Atlas Air Worldwide Holdings - Common Stock                           ..\n",
       "AAXJ   iShares MSCI All Country Asia ex Japan Index Fund                     ..\n",
       "AAXN   Axon Enterprise, Inc. - Common Stock                                  ..\n",
       "ABCB   Ameris Bancorp - Common Stock                                         ..\n",
       "ABEO   Abeona Therapeutics Inc. - Common Stock                               ..\n",
       "ABIO   ARCA biopharma, Inc. - Common Stock                                   ..\n",
       "ABMD   ABIOMED, Inc. - Common Stock                                          ..\n",
       "ABTX   Allegiance Bancshares, Inc. - Common Stock                            ..\n",
       "ABUS   Arbutus Biopharma Corporation - Common Stock                          ..\n",
       "ACAD   ACADIA Pharmaceuticals Inc. - Common Stock                            ..\n",
       "ACAM   Acamar Partners Acquisition Corp. - Class A Common Stock              ..\n",
       "ACAMU  Acamar Partners Acquisition Corp. - Units                             ..\n",
       "ACAMW  Acamar Partners Acquisition Corp. - Warrant                           ..\n",
       "ACBI   Atlantic Capital Bancshares, Inc. - Common Stock                      ..\n",
       "..\n"
      ]
     },
     "execution_count": 8,
     "metadata": {},
     "output_type": "execute_result"
    }
   ],
   "source": [
    "`symbol`securityName`marketCategory`isTestIssue`lotSize`isETF xcol nasdaqlisted"
   ]
  },
  {
   "cell_type": "markdown",
   "metadata": {},
   "source": [
    "# meta\n",
    "metadata of the table\n",
    "c - column name\n",
    "t - data type\n",
    "f - foreign key\n",
    "a - attribute\n",
    "\n",
    "{s:Symbol, b"
   ]
  },
  {
   "cell_type": "code",
   "execution_count": 9,
   "metadata": {},
   "outputs": [
    {
     "data": {
      "text/plain": [
       "c              | t f a\n",
       "---------------| -----\n",
       "Symbol         | s    \n",
       "Security Name  | s    \n",
       "Market Category| s    \n",
       "Test Issue     | b    \n",
       "Round Lot Size | j    \n",
       "ETF            | b    \n"
      ]
     },
     "execution_count": 9,
     "metadata": {},
     "output_type": "execute_result"
    }
   ],
   "source": [
    "meta nasdaqlisted"
   ]
  },
  {
   "cell_type": "markdown",
   "metadata": {},
   "source": [
    "hsym is used to create a file handle from a symbol.\n",
    "read0 reads a text file and the last line is dropped with -1_.\n",
    "0: interprets a field-delimited list of strings as a matrix.\n",
    "Use a space to omit a field from the load if you don't want to load it.\n",
    "Use xcol to rename column name with space in it as discussed last week.\n",
    "\n",
    "https://dpkwhan.github.io/weeklyq/2020/2020.03.16/"
   ]
  },
  {
   "cell_type": "code",
   "execution_count": 23,
   "metadata": {},
   "outputs": [],
   "source": [
    "/was busy this week remember to read up on this im not that familiar with IO"
   ]
  },
  {
   "cell_type": "code",
   "execution_count": null,
   "metadata": {},
   "outputs": [],
   "source": []
  }
 ],
 "metadata": {
  "kernelspec": {
   "display_name": "Q (kdb+)",
   "language": "q",
   "name": "qpk"
  },
  "language_info": {
   "file_extension": ".q",
   "mimetype": "text/x-q",
   "name": "q",
   "version": "3.6.0"
  }
 },
 "nbformat": 4,
 "nbformat_minor": 4
}
