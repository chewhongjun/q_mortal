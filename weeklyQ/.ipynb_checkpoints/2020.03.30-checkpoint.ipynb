{
 "cells": [
  {
   "cell_type": "markdown",
   "metadata": {},
   "source": [
    "##### Introduction\n",
    "\n",
    "The U.S. Equities market has 13 lit exchanges and each exchange reports its top of book information to SIP (Securities Information Processor), which then publishes the NBBO (National Best Bid and Offer) to the public to consume. Many institutional users can also subscribe the direct feed from each exchange and build their own limit order book. The advantages of this approach are:\n",
    "\n",
    "* it has smaller latency\n",
    "* direct feed contains multiple price levels of the limit order book\n",
    "* it includes odd-lot quotes\n",
    "\n",
    "\n",
    "##### Question\n",
    "\n",
    "To make the illustration easier, an excerpt of the consolidated limit order book is simulated as follows:\n",
    "\n",
    "\n",
    "##### Examplaination\n",
    "{} -> lambda, annoymous function <br /> \n",
    "\\[;\\] -> Expression block, not functions and do not return result <br /> \n",
    "30+0.01*til 10 -> 30 30.01 30.02 30.03 30.04 30.05..<br /> \n",
    "asc -3?priceList / ..?...-> Takes 3 random values in []priceList<br /> \n",
    "count -> count the items of a list or dictionary<br /> \n",
    "count each -> count the number of items at each level of a list/dictionary<br /> \n",
    "() -> precedence <br /> \n",
    "#' ->"
   ]
  },
  {
   "cell_type": "code",
   "execution_count": 135,
   "metadata": {},
   "outputs": [],
   "source": [
    "simQuote:{[venueList;nRow]\n",
    "    priceList:30+0.01*til 10;\n",
    "    prices:asc -3?priceList;\n",
    "    venues:3?venueList;\n",
    "    bidPrices:(count each venues)#'prices;\n",
    "    bidExchanges:raze venues;\n",
    "    (bidPrices;bidExchanges)\n",
    "  };"
   ]
  },
  {
   "cell_type": "code",
   "execution_count": 134,
   "metadata": {},
   "outputs": [],
   "source": [
    "simLob:{\n",
    "    nRows:20;\n",
    "    seed:-314159;\n",
    "    openTime:`time$09:30;\n",
    "    closeTime:`time$16:00;\n",
    "    litVenues:`XNYS`ARCX`XCHI`XASE`XCIS`XNAS`XBOS`XPHL`BATS`BATY`EDGA`EDGX`IEXG;\n",
    "\n",
    "    system \"S \",string seed;\n",
    "    times:asc closeTime&openTime+nRows?390*60*1000;\n",
    "    nExchanges:2+nRows?(count litVenues)-8;\n",
    "    bidVenues:{y?x}[litVenues;] each nExchanges;\n",
    "    quotes:simQuote[bidVenues;] each til nRows;\n",
    "\n",
    "    :([]time:times;bidPrices:raze each quotes[;0];bidExchanges:quotes[;1]);\n",
    "  };"
   ]
  },
  {
   "cell_type": "code",
   "execution_count": 134,
   "metadata": {},
   "outputs": [
    {
     "ename": "\u001b[0;31mtype\u001b[0m",
     "evalue": "\u001b[0;31mtype\u001b[0m",
     "output_type": "error",
     "traceback": [
      "\u001b[0;31mevaluation error:\n\u001b[0m",
      "\u001b[0;31mtype\u001b[0m",
      "\u001b[0;31m\u001b[0m",
      "\u001b[0;31m  [3]  simQuote:\n    venues:3?venueList;\n    bidPrices:count each venues#'prices;\n                                ^\n    bidExchanges:raze venues;\n\u001b[0m",
      "\u001b[0;31m  [2]  (.q.each)\n\n\u001b[0m",
      "\u001b[0;31m  [1]  simLob:\n    bidVenues:{y?x}[litVenues;] each nExchanges;\n    quotes:simQuote[bidVenues;] each til nRows;\n                                ^\n\n\u001b[0m",
      "\u001b[0;31m  [0]  lob:simLob[];\n           ^\n\u001b[0m"
     ]
    }
   ],
   "source": [
    "lob:simLob[];"
   ]
  },
  {
   "cell_type": "code",
   "execution_count": 71,
   "metadata": {},
   "outputs": [
    {
     "name": "stdout",
     "output_type": "stream",
     "text": [
      "30 30.01 30.02 30.03 30.04 30.05 30.06 30.07 30.08 30.09\n"
     ]
    }
   ],
   "source": [
    "priceList:30+0.01*til 10;\n",
    "show priceList"
   ]
  },
  {
   "cell_type": "code",
   "execution_count": null,
   "metadata": {},
   "outputs": [],
   "source": [
    "\n"
   ]
  }
 ],
 "metadata": {
  "kernelspec": {
   "display_name": "Q (kdb+)",
   "language": "q",
   "name": "qpk"
  },
  "language_info": {
   "file_extension": ".q",
   "mimetype": "text/x-q",
   "name": "q",
   "version": "3.6.0"
  }
 },
 "nbformat": 4,
 "nbformat_minor": 4
}
