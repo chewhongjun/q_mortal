{
 "cells": [
  {
   "cell_type": "markdown",
   "metadata": {},
   "source": [
    "#### Introduction\n",
    "March 2020 is definitely unprecedented in the history of financial markets. Both market volume and volatility heightened during this 2020 stock market crash. The market wide circuit breaker was triggered four times in 10 days (Mar 9, 12, 16 and 18) and thousands of individual stocks had circuit breaker activated. There is no respite in sight for this volatility.\n",
    "\n",
    "The Limit Up Limit Down (LULD) was designed to replace the single stock circuit breaker. A stock enters a Limit State if its price deviation from previous close exceeds a certain percentage, which depends on the price of the stock. For Tier 1 securities, the threshold percentage from market open auction to 3:35pm is as follows: https://www.nasdaqtrader.com/content/MarketRegulation/LULD_FAQ.pdf\n",
    "\n",
    "#### Write a q function calculateLULD\n",
    "* calculate the LULD prices for a single price or list of prices\n",
    "* function returns a list (upperBound, lowerBound)"
   ]
  },
  {
   "cell_type": "code",
   "execution_count": 108,
   "metadata": {},
   "outputs": [],
   "source": [
    "/ The Selector function splits the incoming data\n",
    "/ calls the function that is associated with each tier\n",
    "\n",
    "calculateLULD:{\n",
    "    $[\n",
    "        x>3.0;upperLimit[x];\n",
    "        x<0.75;lowerLimit[x];\n",
    "        middleLimit[x]\n",
    "    ]\n",
    " }"
   ]
  },
  {
   "cell_type": "code",
   "execution_count": 109,
   "metadata": {},
   "outputs": [],
   "source": [
    "/ The problem with this implementation is that\n",
    "/ 1.05*x changes the inherent value of x\n",
    "\n",
    "upperLimit:{\n",
    "    [x] \n",
    "    bounds:enlist(roundOff a:1.05*x, roundOff b:0.9047*x)\n",
    "    \n",
    " }"
   ]
  },
  {
   "cell_type": "code",
   "execution_count": 110,
   "metadata": {},
   "outputs": [],
   "source": [
    "middleLimit:{\n",
    "    [x]\n",
    "    bounds:enlist(roundOff a:1.2*x, roundOff b:0.6666*x)\n",
    " }"
   ]
  },
  {
   "cell_type": "code",
   "execution_count": 111,
   "metadata": {},
   "outputs": [],
   "source": [
    "lowerLimit:{\n",
    "    [x]\n",
    "    result:0.75*x;\n",
    "    $[\n",
    "        result>0.15;\n",
    "        enlist 0.15;\n",
    "        enlist result\n",
    "    ]\n",
    " }"
   ]
  },
  {
   "cell_type": "code",
   "execution_count": 112,
   "metadata": {},
   "outputs": [],
   "source": [
    "roundOff:{\n",
    "    0.01*floor 0.5+x*100\n",
    " }"
   ]
  },
  {
   "cell_type": "code",
   "execution_count": 123,
   "metadata": {},
   "outputs": [
    {
     "data": {
      "text/plain": [
       "0.075    0.15     3.6 2.4  10.5 9.5\n"
      ]
     },
     "execution_count": 123,
     "metadata": {},
     "output_type": "execute_result"
    }
   ],
   "source": [
    "sampleData:( 0.1 0.5 3 10 )\n",
    "Result:enlist(calculateLULD '[sampleData])\n",
    "Result"
   ]
  },
  {
   "cell_type": "code",
   "execution_count": 124,
   "metadata": {},
   "outputs": [
    {
     "data": {
      "text/plain": [
       "0h\n"
      ]
     },
     "execution_count": 124,
     "metadata": {},
     "output_type": "execute_result"
    }
   ],
   "source": [
    "/ the formating of Result \n",
    "/ doesnt seem right but calling type, shows that Result is a list\n",
    "\n",
    "type(Result)"
   ]
  },
  {
   "cell_type": "markdown",
   "metadata": {},
   "source": [
    "### Suggested Solution\n"
   ]
  },
  {
   "cell_type": "code",
   "execution_count": 7,
   "metadata": {},
   "outputs": [],
   "source": [
    "calculateLUID:{\n",
    "    / Make Sure Input is a list of float\n",
    "    price:\"f\" $(),x;\n",
    "    \n",
    "    / Defines percentage bands\n",
    "    bandPctCutoff:0.75 0.2 0.05;\n",
    "    \n",
    "    / Defines the lower bound price of each price\n",
    "    lowerBound:0.15 0w 0w;\n",
    "\n",
    "    / Finds the percentage band bucket which each price falls into\n",
    "    / Note that 0.74999 is used, instead of 0.75\n",
    "    loc:0.74999 3f binr price;\n",
    "\n",
    "    / Finds the price bands for the given list of prices\n",
    "    priceBand:lowerBound[loc]&price*bandPctCutoff loc;\n",
    "    \n",
    "    / Applies the price bands to the given list of prices\n",
    "    flip(price+priceBand;price-priceBand)\n",
    " }"
   ]
  },
  {
   "cell_type": "markdown",
   "metadata": {},
   "source": [
    "**So how does it work**"
   ]
  },
  {
   "cell_type": "code",
   "execution_count": 17,
   "metadata": {},
   "outputs": [],
   "source": [
    "loc:0.74999 3f binr 0.1 0.5 3 10\n",
    "lowerBound:0.15 0w 0w;\n",
    "bandPctCutoff:0.75 0.2 0.05;\n",
    "l:lowerBound[loc]&0.1 0.5 3 10*bandPctCutoff[loc];"
   ]
  },
  {
   "cell_type": "code",
   "execution_count": 24,
   "metadata": {},
   "outputs": [
    {
     "data": {
      "text/plain": [
       "0 0 1 2\n"
      ]
     },
     "execution_count": 24,
     "metadata": {},
     "output_type": "execute_result"
    }
   ],
   "source": [
    "/ As we can see the first set is to get the class of each \n",
    "/ respective value binr returns the index of the lhs here rhs >=\n",
    "loc"
   ]
  },
  {
   "cell_type": "code",
   "execution_count": 26,
   "metadata": {},
   "outputs": [
    {
     "data": {
      "text/plain": [
       "0.15 0.15 0w 0w\n"
      ]
     },
     "execution_count": 26,
     "metadata": {},
     "output_type": "execute_result"
    }
   ],
   "source": [
    "/ This finds the lower bound\n",
    "lowerBound[loc]"
   ]
  },
  {
   "cell_type": "code",
   "execution_count": 33,
   "metadata": {},
   "outputs": [
    {
     "data": {
      "text/plain": [
       "0.075 0.375 0.6 0.5\n"
      ]
     },
     "execution_count": 33,
     "metadata": {},
     "output_type": "execute_result"
    }
   ],
   "source": [
    "/ This finds the upper bound\n",
    "0.1 0.5 3 10*bandPctCutoff[loc]"
   ]
  },
  {
   "cell_type": "code",
   "execution_count": 35,
   "metadata": {},
   "outputs": [
    {
     "name": "stdout",
     "output_type": "stream",
     "text": [
      "0.075 0.15 0.6 0.5\n"
     ]
    }
   ],
   "source": [
    "/ & Operator will return the smaller of (Left list) (Right list)\n",
    "/ element wise\n",
    "show priceBand:lowerBound[loc]&0.1 0.5 3 10*bandPctCutoff[loc];"
   ]
  },
  {
   "cell_type": "code",
   "execution_count": 40,
   "metadata": {},
   "outputs": [
    {
     "data": {
      "text/plain": [
       "0.175 0.025\n",
       "0.65  0.35 \n",
       "3.6   2.4  \n",
       "10.5  9.5  \n"
      ]
     },
     "execution_count": 40,
     "metadata": {},
     "output_type": "execute_result"
    }
   ],
   "source": [
    "flip(price+priceBand;price-priceBand)"
   ]
  },
  {
   "cell_type": "code",
   "execution_count": 39,
   "metadata": {},
   "outputs": [
    {
     "data": {
      "text/plain": [
       "0h\n"
      ]
     },
     "execution_count": 39,
     "metadata": {},
     "output_type": "execute_result"
    },
    {
     "data": {
      "text/plain": [
       "0h\n"
      ]
     },
     "execution_count": 39,
     "metadata": {},
     "output_type": "execute_result"
    }
   ],
   "source": [
    "price:0.1 0.5 3 10\n",
    "type(price+priceBand;price-priceBand)\n",
    "type(flip(price+priceBand;price-priceBand))"
   ]
  },
  {
   "cell_type": "markdown",
   "metadata": {},
   "source": [
    "**Alternative Solution**"
   ]
  },
  {
   "cell_type": "code",
   "execution_count": 11,
   "metadata": {},
   "outputs": [],
   "source": [
    "calculateLULD:{\n",
    "    d:`s#0 .2 .75 3.0001!(.75;0n;.2;.05);\n",
    "    p:.15^x*d \"f\"$(),x;\n",
    "    flip (x+p;x-p)\n",
    "  };"
   ]
  },
  {
   "cell_type": "code",
   "execution_count": 12,
   "metadata": {},
   "outputs": [
    {
     "data": {
      "text/plain": [
       "0.175 0.025\n",
       "0.65  0.35 \n",
       "3.6   2.4  \n",
       "10.5  9.5  \n"
      ]
     },
     "execution_count": 12,
     "metadata": {},
     "output_type": "execute_result"
    }
   ],
   "source": [
    "calculateLUID 0.1 0.5 3 10"
   ]
  },
  {
   "cell_type": "code",
   "execution_count": null,
   "metadata": {},
   "outputs": [],
   "source": []
  }
 ],
 "metadata": {
  "kernelspec": {
   "display_name": "Q (kdb+)",
   "language": "q",
   "name": "qpk"
  },
  "language_info": {
   "file_extension": ".q",
   "mimetype": "text/x-q",
   "name": "q",
   "version": "3.6.0"
  }
 },
 "nbformat": 4,
 "nbformat_minor": 4
}
