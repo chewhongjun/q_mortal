{
 "cells": [
  {
   "cell_type": "code",
   "execution_count": 1,
   "metadata": {},
   "outputs": [],
   "source": [
    "infile:hsym `$\"../OnDiskDB/nasdaqlisted.txt\""
   ]
  },
  {
   "cell_type": "markdown",
   "metadata": {},
   "source": [
    "# hysm \n",
    "hsym, Syntax: hsym x, where x is:\n",
    "\n",
    "1. File Name\n",
    "2. valid hostname\n",
    "3. IP address\n",
    "\n",
    "return type is a process symbol"
   ]
  },
  {
   "cell_type": "code",
   "execution_count": 19,
   "metadata": {},
   "outputs": [],
   "source": [
    "nasdaqlisted:(\"SSSS SS \";enlist \"|\") 0:-1_read0 infile;"
   ]
  },
  {
   "cell_type": "code",
   "execution_count": 20,
   "metadata": {},
   "outputs": [
    {
     "data": {
      "text/plain": [
       "`Symbol`Security Name`Market Category`Test Issue`Round Lot Size`ETF\n"
      ]
     },
     "execution_count": 20,
     "metadata": {},
     "output_type": "execute_result"
    }
   ],
   "source": [
    "cols nasdaqlisted"
   ]
  },
  {
   "cell_type": "markdown",
   "metadata": {},
   "source": [
    "what does the -1_read0, ( -1_ ) refer to i cant seem to find a difference in output\n",
    "\n",
    "# read0:\n",
    "* takes in a file symbol, process and returns character data from the source\n",
    "# 0:\n",
    "*  outputs it into the method (\"SSSB JB\";enlist\"|\")\n",
    "# SSSB JB:\n",
    "* corresponds to the posistion of the columns you want"
   ]
  },
  {
   "cell_type": "code",
   "execution_count": null,
   "metadata": {},
   "outputs": [],
   "source": [
    "`symbol`securityName`marketCategory`isTestIssue`lotSize`isETF xcol nasdaqlisted"
   ]
  },
  {
   "cell_type": "code",
   "execution_count": 22,
   "metadata": {},
   "outputs": [
    {
     "data": {
      "text/plain": [
       "c              | t f a\n",
       "---------------| -----\n",
       "Symbol         | s    \n",
       "Security Name  | s    \n",
       "Market Category| s    \n",
       "Test Issue     | s    \n",
       "Round Lot Size | s    \n",
       "ETF            | s    \n"
      ]
     },
     "execution_count": 22,
     "metadata": {},
     "output_type": "execute_result"
    }
   ],
   "source": [
    "meta nasdaqlisted"
   ]
  },
  {
   "cell_type": "markdown",
   "metadata": {},
   "source": [
    "hsym is used to create a file handle from a symbol.\n",
    "read0 reads a text file and the last line is dropped with -1_.\n",
    "0: interprets a field-delimited list of strings as a matrix.\n",
    "Use a space to omit a field from the load if you don't want to load it.\n",
    "Use xcol to rename column name with space in it as discussed last week.\n",
    "\n",
    "https://dpkwhan.github.io/weeklyq/2020/2020.03.16/"
   ]
  },
  {
   "cell_type": "code",
   "execution_count": 23,
   "metadata": {},
   "outputs": [],
   "source": [
    "/was busy this week remember to read up on this im not that familiar with IO"
   ]
  },
  {
   "cell_type": "code",
   "execution_count": null,
   "metadata": {},
   "outputs": [],
   "source": []
  }
 ],
 "metadata": {
  "kernelspec": {
   "display_name": "Q (kdb+)",
   "language": "q",
   "name": "qpk"
  },
  "language_info": {
   "file_extension": ".q",
   "mimetype": "text/x-q",
   "name": "q",
   "version": "3.6.0"
  }
 },
 "nbformat": 4,
 "nbformat_minor": 4
}
