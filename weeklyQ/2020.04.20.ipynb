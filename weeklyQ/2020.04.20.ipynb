{
 "cells": [
  {
   "cell_type": "markdown",
   "metadata": {},
   "source": [
    "**Write a q function calculateLULD to calculate the LULD prices for a single price or list of prices. This function returns a list and each element of the list is a two-element list which has first element as the limit up price and the second element as the limit down price.**"
   ]
  },
  {
   "cell_type": "code",
   "execution_count": 91,
   "metadata": {},
   "outputs": [],
   "source": [
    "/ The Selector function splits the incoming data\n",
    "/ calls the function that is associated with each\n",
    "\n",
    "selector:{\n",
    "    $[\n",
    "        x>3.0;upperLimit[x];\n",
    "        x<0.75;lowerLimit[x];\n",
    "        middleLimit[x]\n",
    "    ]\n",
    " }"
   ]
  },
  {
   "cell_type": "code",
   "execution_count": 87,
   "metadata": {},
   "outputs": [],
   "source": [
    "/ The problem with this implementation is that\n",
    "/ 1.05*x changes the inherent value of x\n",
    "\n",
    "upperLimit:{\n",
    "    [x] \n",
    "    bounds:enlist(roundOff a:1.05*x, roundOff b:0.9047*x)\n",
    " }"
   ]
  },
  {
   "cell_type": "code",
   "execution_count": 89,
   "metadata": {},
   "outputs": [],
   "source": [
    "middleLimit:{\n",
    "    [x]\n",
    "    bounds:enlist(roundOff a:1.2*x, roundOff b:0.6666*x)\n",
    " }"
   ]
  },
  {
   "cell_type": "code",
   "execution_count": 93,
   "metadata": {},
   "outputs": [],
   "source": [
    "lowerLimit:{\n",
    "    [x]\n",
    "    result:0.75*x;\n",
    "    $[\n",
    "        result>0.15;\n",
    "        enlist 0.15;enlist result\n",
    "    ]\n",
    " }"
   ]
  },
  {
   "cell_type": "code",
   "execution_count": 86,
   "metadata": {},
   "outputs": [],
   "source": [
    "roundOff:{\n",
    "    0.01*floor 0.5+x*100\n",
    " }"
   ]
  },
  {
   "cell_type": "code",
   "execution_count": 94,
   "metadata": {},
   "outputs": [
    {
     "data": {
      "text/plain": [
       "0.075   \n",
       "0.15    \n",
       "3.6 2.4 \n",
       "10.5 9.5\n"
      ]
     },
     "execution_count": 94,
     "metadata": {},
     "output_type": "execute_result"
    }
   ],
   "source": [
    "selector'[0.1 0.5 3 10 ]"
   ]
  },
  {
   "cell_type": "code",
   "execution_count": null,
   "metadata": {},
   "outputs": [],
   "source": []
  }
 ],
 "metadata": {
  "kernelspec": {
   "display_name": "Q (kdb+)",
   "language": "q",
   "name": "qpk"
  },
  "language_info": {
   "file_extension": ".q",
   "mimetype": "text/x-q",
   "name": "q",
   "version": "3.6.0"
  }
 },
 "nbformat": 4,
 "nbformat_minor": 4
}
