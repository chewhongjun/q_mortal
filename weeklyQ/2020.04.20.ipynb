{
 "cells": [
  {
   "cell_type": "markdown",
   "metadata": {},
   "source": [
    "#### Introduction\n",
    "March 2020 is definitely unprecedented in the history of financial markets. Both market volume and volatility heightened during this 2020 stock market crash. The market wide circuit breaker was triggered four times in 10 days (Mar 9, 12, 16 and 18) and thousands of individual stocks had circuit breaker activated. There is no respite in sight for this volatility.\n",
    "\n",
    "The Limit Up Limit Down (LULD) was designed to replace the single stock circuit breaker. A stock enters a Limit State if its price deviation from previous close exceeds a certain percentage, which depends on the price of the stock. For Tier 1 securities, the threshold percentage from market open auction to 3:35pm is as follows: https://www.nasdaqtrader.com/content/MarketRegulation/LULD_FAQ.pdf\n",
    "\n",
    "#### Write a q function calculateLULD\n",
    "* calculate the LULD prices for a single price or list of prices\n",
    "* function returns a list (upperBound, lowerBound)"
   ]
  },
  {
   "cell_type": "code",
   "execution_count": 108,
   "metadata": {},
   "outputs": [],
   "source": [
    "/ The Selector function splits the incoming data\n",
    "/ calls the function that is associated with each tier\n",
    "\n",
    "calculateLULD:{\n",
    "    $[\n",
    "        x>3.0;upperLimit[x];\n",
    "        x<0.75;lowerLimit[x];\n",
    "        middleLimit[x]\n",
    "    ]\n",
    " }"
   ]
  },
  {
   "cell_type": "code",
   "execution_count": 109,
   "metadata": {},
   "outputs": [],
   "source": [
    "/ The problem with this implementation is that\n",
    "/ 1.05*x changes the inherent value of x\n",
    "\n",
    "upperLimit:{\n",
    "    [x] \n",
    "    bounds:enlist(roundOff a:1.05*x, roundOff b:0.9047*x)\n",
    "    \n",
    " }"
   ]
  },
  {
   "cell_type": "code",
   "execution_count": 110,
   "metadata": {},
   "outputs": [],
   "source": [
    "middleLimit:{\n",
    "    [x]\n",
    "    bounds:enlist(roundOff a:1.2*x, roundOff b:0.6666*x)\n",
    " }"
   ]
  },
  {
   "cell_type": "code",
   "execution_count": 111,
   "metadata": {},
   "outputs": [],
   "source": [
    "lowerLimit:{\n",
    "    [x]\n",
    "    result:0.75*x;\n",
    "    $[\n",
    "        result>0.15;\n",
    "        enlist 0.15;\n",
    "        enlist result\n",
    "    ]\n",
    " }"
   ]
  },
  {
   "cell_type": "code",
   "execution_count": 112,
   "metadata": {},
   "outputs": [],
   "source": [
    "roundOff:{\n",
    "    0.01*floor 0.5+x*100\n",
    " }"
   ]
  },
  {
   "cell_type": "code",
   "execution_count": 122,
   "metadata": {},
   "outputs": [
    {
     "data": {
      "text/plain": [
       "0.075    0.15     3.6 2.4  10.5 9.5\n"
      ]
     },
     "execution_count": 122,
     "metadata": {},
     "output_type": "execute_result"
    },
    {
     "data": {
      "text/plain": [
       "0h\n"
      ]
     },
     "execution_count": 122,
     "metadata": {},
     "output_type": "execute_result"
    }
   ],
   "source": [
    "sampleData:( 0.1 0.5 3 10 )\n",
    "Result:enlist(calculateLULD '[sampleData])\n",
    "Result\n",
    "type(Result)"
   ]
  },
  {
   "cell_type": "code",
   "execution_count": null,
   "metadata": {},
   "outputs": [],
   "source": []
  }
 ],
 "metadata": {
  "kernelspec": {
   "display_name": "Q (kdb+)",
   "language": "q",
   "name": "qpk"
  },
  "language_info": {
   "file_extension": ".q",
   "mimetype": "text/x-q",
   "name": "q",
   "version": "3.6.0"
  }
 },
 "nbformat": 4,
 "nbformat_minor": 4
}
