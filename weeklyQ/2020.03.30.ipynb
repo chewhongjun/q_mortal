{
 "cells": [
  {
   "cell_type": "markdown",
   "metadata": {},
   "source": [
    "##### Introduction\n",
    "\n",
    "The U.S. Equities market has 13 lit exchanges and each exchange reports its top of book information to SIP (Securities Information Processor), which then publishes the NBBO (National Best Bid and Offer) to the public to consume. Many institutional users can also subscribe the direct feed from each exchange and build their own limit order book. The advantages of this approach are:\n",
    "\n",
    "* it has smaller latency\n",
    "* direct feed contains multiple price levels of the limit order book\n",
    "* it includes odd-lot quotes\n",
    "\n",
    "\n",
    "##### Question\n",
    "\n",
    "To make the illustration easier, an excerpt of the consolidated limit order book is simulated as follows:\n",
    "\n",
    "\n",
    "##### Examplaination\n",
    "{} -> lambda, annoymous function <br /> \n",
    "\\[;\\] -> Expression block, not functions and do not return result <br /> \n",
    "30+0.01*til 10 -> 30 30.01 30.02 30.03 30.04 30.05..<br /> \n",
    "asc -3?priceList / ..?...-> Takes 3 random values in []priceList<br /> \n",
    "count -> count the items of a list or dictionary<br /> \n",
    "count each -> count the number of items at each level of a list/dictionary<br /> \n",
    "() -> precedence <br /> \n",
    "\\# -> \\# setter function <br /> \n",
    "\\#' -> ' refers to each \"Im not sure whats this <br /> \n",
    "raze venues -> returns the items of venues joined <br />\n",
    "(;) -> list notion, probably concatiation <br />\n",
    "\n",
    "\n"
   ]
  },
  {
   "cell_type": "code",
   "execution_count": 170,
   "metadata": {},
   "outputs": [],
   "source": [
    "simQuote:{[venueList;nRow]\n",
    "    priceList:30+0.01*til 10;\n",
    "    prices:asc -3?priceList;\n",
    "    venues:3?venueList;\n",
    "    bidPrices:(count each venues)#'prices;\n",
    "    bidExchanges:raze venues;\n",
    "    (bidPrices;bidExchanges)\n",
    "  };"
   ]
  },
  {
   "cell_type": "code",
   "execution_count": 171,
   "metadata": {},
   "outputs": [],
   "source": [
    "simLob:{\n",
    "    nRows:20;\n",
    "    seed:-314159;\n",
    "    openTime:`time$09:30;\n",
    "    closeTime:`time$16:00;\n",
    "    litVenues:`XNYS`ARCX`XCHI`XASE`XCIS`XNAS`XBOS`XPHL`BATS`BATY`EDGA`EDGX`IEXG;\n",
    "\n",
    "    system \"S \",string seed;\n",
    "    times:desc closeTime&openTime+nRows?390*60*1000;\n",
    "    nExchanges:2+nRows?(count litVenues)-8;\n",
    "    bidVenues:{y?x}[litVenues;] each nExchanges;\n",
    "    quotes:simQuote[bidVenues;] each til nRows;\n",
    "\n",
    "    :([]time:times;bidPrices:raze each quotes[;0];bidExchanges:quotes[;1]);\n",
    "  };\n",
    "lob:simLob[];"
   ]
  },
  {
   "cell_type": "markdown",
   "metadata": {},
   "source": [
    "Find bid book in XNYS, new york stock exchange"
   ]
  },
  {
   "cell_type": "code",
   "execution_count": 172,
   "metadata": {},
   "outputs": [
    {
     "data": {
      "text/plain": [
       "time        | 15:52:45.093\n",
       "bidPrices   | 30 30 30.01 30.01 30.01 30.01 30.06 30.06\n",
       "bidExchanges| `XNAS`BATS`ARCX`BATY`ARCX`XNYS`XCIS`IEXG\n"
      ]
     },
     "execution_count": 172,
     "metadata": {},
     "output_type": "execute_result"
    }
   ],
   "source": [
    "lob[0]"
   ]
  },
  {
   "cell_type": "code",
   "execution_count": 173,
   "metadata": {
    "collapsed": true
   },
   "outputs": [
    {
     "data": {
      "text/plain": [
       "time         bidPrices  \n",
       "------------------------\n",
       "15:52:45.093 ,30.01     \n",
       "15:20:33.545 ,30.02     \n",
       "14:48:45.828 30.05 30.05\n",
       "14:42:49.761 ,30.02     \n",
       "14:24:11.685 `float$()  \n",
       "14:21:46.215 `float$()  \n",
       "14:00:47.898 30.01 30.04\n",
       "13:37:38.923 30.05 30.05\n",
       "13:11:50.266 `float$()  \n",
       "12:02:17.036 `float$()  \n",
       "11:55:54.221 ,30.09     \n",
       "11:43:04.873 30.06 30.06\n",
       "11:14:56.936 30 30f     \n",
       "10:41:17.716 30.09 30.09\n",
       "10:18:32.950 `float$()  \n",
       "10:15:40.134 `float$()  \n",
       "09:59:38.945 `float$()  \n",
       "09:58:17.727 `float$()  \n",
       "09:55:23.210 ,30.02     \n",
       "09:46:45.658 ,30.02     \n"
      ]
     },
     "execution_count": 173,
     "metadata": {},
     "output_type": "execute_result"
    }
   ],
   "source": [
    "lob:update nyseLoc:(where') `XNYS=bidExchanges from lob;\n",
    "select time, bidPrices:bidPrices@' nyseLoc from lob"
   ]
  },
  {
   "cell_type": "code",
   "execution_count": 174,
   "metadata": {},
   "outputs": [
    {
     "data": {
      "text/plain": [
       "time        | 15:52:45.093\n",
       "bidPrices   | 30 30 30.01 30.01 30.01 30.01 30.06 30.06\n",
       "bidExchanges| `XNAS`BATS`ARCX`BATY`ARCX`XNYS`XCIS`IEXG\n",
       "nyseLoc     | ,5\n"
      ]
     },
     "execution_count": 174,
     "metadata": {},
     "output_type": "execute_result"
    }
   ],
   "source": [
    "lob[0]"
   ]
  },
  {
   "cell_type": "markdown",
   "metadata": {},
   "source": [
    "I guess the way you find a particular corresponding value, is to find the index, you can save that row you want with the posistion.   "
   ]
  },
  {
   "cell_type": "code",
   "execution_count": 175,
   "metadata": {},
   "outputs": [
    {
     "data": {
      "text/plain": [
       "time         bidPrices  \n",
       "------------------------\n",
       "15:52:45.093 ,30.01     \n",
       "15:20:33.545 ,30.02     \n",
       "14:48:45.828 30.05 30.05\n",
       "14:42:49.761 ,30.02     \n",
       "14:24:11.685 `float$()  \n",
       "14:21:46.215 `float$()  \n",
       "14:00:47.898 30.01 30.04\n",
       "13:37:38.923 30.05 30.05\n",
       "13:11:50.266 `float$()  \n",
       "12:02:17.036 `float$()  \n",
       "11:55:54.221 ,30.09     \n",
       "11:43:04.873 30.06 30.06\n",
       "11:14:56.936 30 30f     \n",
       "10:41:17.716 30.09 30.09\n",
       "10:18:32.950 `float$()  \n",
       "10:15:40.134 `float$()  \n",
       "09:59:38.945 `float$()  \n",
       "09:58:17.727 `float$()  \n",
       "09:55:23.210 ,30.02     \n",
       "09:46:45.658 ,30.02     \n"
      ]
     },
     "execution_count": 175,
     "metadata": {},
     "output_type": "execute_result"
    }
   ],
   "source": [
    "select time, bidPrices:bidPrices@' (where') `XNYS=bidExchanges from lob"
   ]
  },
  {
   "cell_type": "code",
   "execution_count": null,
   "metadata": {},
   "outputs": [],
   "source": []
  }
 ],
 "metadata": {
  "kernelspec": {
   "display_name": "Q (kdb+)",
   "language": "q",
   "name": "qpk"
  },
  "language_info": {
   "file_extension": ".q",
   "mimetype": "text/x-q",
   "name": "q",
   "version": "3.6.0"
  }
 },
 "nbformat": 4,
 "nbformat_minor": 4
}
