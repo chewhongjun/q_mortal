{
 "cells": [
  {
   "cell_type": "markdown",
   "metadata": {},
   "source": [
    "__Introduction__\n",
    "\n",
    "Time in force (TIF) is a special instruction to indicate how long an order will remain live before it is executed, cancelled or expires. As a result, it gives the trader or the electronic algorithm a mechanism of controlling time for an order. A few selected TIF values include:\n",
    "\n",
    "* Day\n",
    "* Good Till Cancel (GTC)\n",
    "* At the Opening (OPG)\n",
    "* Immediate Or Cancel (IOC)\n",
    "* At the Close (CLS)\n",
    "\n",
    "The FIX tag for time in force is 59 and additional details are available here.\n",
    "***\n",
    "\n",
    "__Question__\n",
    "\n",
    "In algorithmic trading, a Smart Order Router (SOR) creates child orders and sends them to different exchanges for execution and each child order has an attribute called tif. The function simOrdersTIF simulates a list of child orders with two attributes: **time for order creation time** and **tif for the order's time in force**."
   ]
  },
  {
   "cell_type": "code",
   "execution_count": 1,
   "metadata": {},
   "outputs": [],
   "source": [
    "simOrdersTIF:{\n",
    "    nOrders:10000;\n",
    "    seed:-314159;\n",
    "    openTime:`time$09:30;\n",
    "    closeTime:`time$16:00;\n",
    "    listTifs:`Day,20#`IOC;\n",
    "\n",
    "    system \"S \",string seed;\n",
    "    times:asc closeTime&openTime+nOrders?390*60*1000;\n",
    "\n",
    "    system \"S \",string seed;\n",
    "    tifs:nOrders?listTifs;\n",
    "    ([] time:times;tif:tifs)\n",
    "  };\n",
    "orders:simOrdersTIF[];"
   ]
  },
  {
   "cell_type": "code",
   "execution_count": 2,
   "metadata": {},
   "outputs": [
    {
     "data": {
      "text/plain": [
       "time         tif\n",
       "----------------\n",
       "09:30:02.550 IOC\n",
       "09:30:05.444 IOC\n",
       "09:30:07.042 IOC\n",
       "09:30:17.080 IOC\n",
       "09:30:17.418 IOC\n",
       "09:30:20.919 IOC\n",
       "09:30:21.349 IOC\n",
       "09:30:22.178 IOC\n",
       "09:30:23.478 IOC\n",
       "09:30:23.567 IOC\n",
       "09:30:26.683 IOC\n",
       "09:30:29.890 IOC\n",
       "09:30:30.155 IOC\n",
       "09:30:30.308 IOC\n",
       "09:30:30.320 IOC\n",
       "09:30:31.384 IOC\n",
       "09:30:32.263 Day\n",
       "09:30:37.249 IOC\n",
       "09:30:38.124 IOC\n",
       "09:30:38.184 IOC\n",
       "..\n"
      ]
     },
     "execution_count": 2,
     "metadata": {},
     "output_type": "execute_result"
    }
   ],
   "source": [
    "orders"
   ]
  },
  {
   "cell_type": "markdown",
   "metadata": {},
   "source": [
    "**Question**\n",
    "\n",
    "Find all __clusters of IOC orders__ and the __cluster with the longest duration__. <br/>\n",
    "A **cluster of IOC orders is defined as a group of IOC orders created in a row**. A **cluster's duration is the time difference** between the first order and the last order within a cluster.\n",
    "***\n",
    "\n",
    "1. Line 1 updates the table with a boolean flag to indicate whether an order is an IOC order.\n",
    "2. Line 2 creates an IOC group for each IOC cluster. The snippet 1_(>)prior (0,isIOC) flags the first IOC order in an IOC cluster. The sums simply creates an increasing group index for each IOC cluster.\n",
    "3. Line 3 finds the time duration of each IOC clusters.\n",
    "4. Line 4 gives the IOC clusters with maximal duration."
   ]
  },
  {
   "cell_type": "code",
   "execution_count": 3,
   "metadata": {},
   "outputs": [],
   "source": [
    "orders:update iocLoc:`IOC=tif from orders;\n",
    "iocCluster:select time, tif, iocLoc from orders"
   ]
  },
  {
   "cell_type": "code",
   "execution_count": 7,
   "metadata": {},
   "outputs": [
    {
     "data": {
      "text/plain": [
       "time         tif iocLoc iocGroup\n",
       "--------------------------------\n",
       "09:30:02.550 IOC 1      1       \n",
       "09:30:05.444 IOC 1      1       \n",
       "09:30:07.042 IOC 1      1       \n",
       "09:30:17.080 IOC 1      1       \n",
       "09:30:17.418 IOC 1      1       \n",
       "09:30:20.919 IOC 1      1       \n",
       "09:30:21.349 IOC 1      1       \n",
       "09:30:22.178 IOC 1      1       \n",
       "09:30:23.478 IOC 1      1       \n",
       "09:30:23.567 IOC 1      1       \n",
       "09:30:26.683 IOC 1      1       \n",
       "09:30:29.890 IOC 1      1       \n",
       "09:30:30.155 IOC 1      1       \n",
       "09:30:30.308 IOC 1      1       \n",
       "09:30:30.320 IOC 1      1       \n",
       "09:30:31.384 IOC 1      1       \n",
       "09:30:32.263 Day 0      1       \n",
       "09:30:37.249 IOC 1      2       \n",
       "09:30:38.124 IOC 1      2       \n",
       "09:30:38.184 IOC 1      2       \n",
       "..\n"
      ]
     },
     "execution_count": 7,
     "metadata": {},
     "output_type": "execute_result"
    }
   ],
   "source": [
    "iocClusters:update iocGroup:sums 1_(>)prior (0,iocLoc) from iocCluster;\n",
    "iocClusters"
   ]
  },
  {
   "cell_type": "code",
   "execution_count": 16,
   "metadata": {},
   "outputs": [
    {
     "data": {
      "text/plain": [
       "time         tif iocLoc iocGroup duration    \n",
       "---------------------------------------------\n",
       "10:22:19.193 IOC 1      67       00:05:06.735\n",
       "10:22:20.817 IOC 1      67       00:05:06.735\n",
       "10:22:23.050 IOC 1      67       00:05:06.735\n",
       "10:22:24.691 IOC 1      67       00:05:06.735\n",
       "10:22:24.888 IOC 1      67       00:05:06.735\n",
       "10:22:26.478 IOC 1      67       00:05:06.735\n",
       "10:22:29.031 IOC 1      67       00:05:06.735\n",
       "10:22:29.360 IOC 1      67       00:05:06.735\n",
       "10:22:30.362 IOC 1      67       00:05:06.735\n",
       "10:22:33.117 IOC 1      67       00:05:06.735\n",
       "10:22:33.265 IOC 1      67       00:05:06.735\n",
       "10:22:34.121 IOC 1      67       00:05:06.735\n",
       "10:22:34.789 IOC 1      67       00:05:06.735\n",
       "10:22:36.475 IOC 1      67       00:05:06.735\n",
       "10:22:37.646 IOC 1      67       00:05:06.735\n",
       "10:22:40.333 IOC 1      67       00:05:06.735\n",
       "10:22:45.396 IOC 1      67       00:05:06.735\n",
       "10:22:46.557 IOC 1      67       00:05:06.735\n",
       "10:22:50.179 IOC 1      67       00:05:06.735\n",
       "10:22:53.017 IOC 1      67       00:05:06.735\n",
       "..\n"
      ]
     },
     "execution_count": 16,
     "metadata": {},
     "output_type": "execute_result"
    }
   ],
   "source": [
    "iocClusters:update duration:last time-first time by iocGroup from iocClusters where iocLoc\n",
    "select from iocClusters where duration=max duration"
   ]
  },
  {
   "cell_type": "code",
   "execution_count": 17,
   "metadata": {},
   "outputs": [],
   "source": [
    "genTrades:{[n;s;st]\n",
    "  dur:8*60*60*1000; / 8 hours\n",
    "  / generate and sort data\n",
    "  `sym`time xasc ([] time:st+n?dur; sym:n?s; tp:25+n?50f; ts:100+100*n?100; oid:(n;10)#(10*n)?.Q.an)\n",
    "    }"
   ]
  }
 ],
 "metadata": {
  "kernelspec": {
   "display_name": "Q (kdb+)",
   "language": "q",
   "name": "qpk"
  },
  "language_info": {
   "file_extension": ".q",
   "mimetype": "text/x-q",
   "name": "q",
   "version": "3.6.0"
  }
 },
 "nbformat": 4,
 "nbformat_minor": 4
}
