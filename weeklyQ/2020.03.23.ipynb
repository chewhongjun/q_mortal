{
 "cells": [
  {
   "cell_type": "markdown",
   "metadata": {},
   "source": [
    "# Introduction\n",
    "\n",
    "__Market Identifier Code (MIC)__ is an international standard, which \"specifies a universal method of __identifying exchanges__, trading platforms, regulated or non-regulated markets and trade reporting facilities as sources of prices and related information in order to facilitate automated processing\" as quoted from its official site.\n",
    "\n",
    "The __U.S. Equities market has 13 lit exchanges and dozens of Alternative Trading Systems (ATSs), a.k.a. dark pools__. Many buy side firms also operate their own non-ATS crossing systems.\n",
    "\n",
    "# Question\n",
    "\n",
    "There might be multiple exchanges quoting at the __National Best Bid and Offer (NBBO) price level__ at any given time. It is assumed that __child orders are always placed at NBBO_ and can be placed to any lit exchanges__. The below function __simChildOrders__ simulates some BUY orders with execution destination (exDest). See the definition of FIX tag for exDest. It also has a column nbbExchanges, which shows the list of lit exchanges that are present at the best bid price level."
   ]
  },
  {
   "cell_type": "code",
   "execution_count": 18,
   "metadata": {},
   "outputs": [],
   "source": [
    "simChildOrders:{ [nOrders]\n",
    "    seed:-314159;\n",
    "    openTime:`time$09:20;\n",
    "    closeTime:`time$16:00;\n",
    "    litVenues:`XNYS`ARCX`XCHI`XASE`XCIS`XNAS`XBOS`XPHL`BATS`BATY`EDGA`EDGX`IEXG;\n",
    "\n",
    "    system \"S \",string seed;\n",
    "    submitTimes:asc closeTime&openTime+nOrders?390*60*1000;\n",
    "\n",
    "    system \"S \",string seed;\n",
    "    exDest:nOrders?litVenues;\n",
    "\n",
    "    system \"S \",string seed;\n",
    "    nExchanges:3+nOrders?(count litVenues)-3;\n",
    "    system \"S \",string seed;\n",
    "    nbbVenues:{y?x}[litVenues;] each nExchanges;\n",
    "\n",
    "    ([] time:submitTimes;side:`BUY;exDest:exDest;nbbVenues:nbbVenues)\n",
    "  };\n",
    "\n",
    "childOrders:simChildOrders[5000];"
   ]
  },
  {
   "cell_type": "code",
   "execution_count": 19,
   "metadata": {},
   "outputs": [
    {
     "data": {
      "text/plain": [
       "`time`side`exDest`nbbVenues\n"
      ]
     },
     "execution_count": 19,
     "metadata": {},
     "output_type": "execute_result"
    }
   ],
   "source": [
    "cols childOrders"
   ]
  },
  {
   "cell_type": "code",
   "execution_count": 22,
   "metadata": {},
   "outputs": [
    {
     "data": {
      "text/plain": [
       "time         side exDest nbbVenues                                             \n",
       "-------------------------------------------------------------------------------\n",
       "09:20:17.080 BUY  IEXG   IEXG BATS EDGA ARCX EDGA BATY EDGA EDGX EDGA XNAS XCIS\n"
      ]
     },
     "execution_count": 22,
     "metadata": {},
     "output_type": "execute_result"
    }
   ],
   "source": [
    "select [1] from childOrders"
   ]
  },
  {
   "cell_type": "code",
   "execution_count": 21,
   "metadata": {},
   "outputs": [
    {
     "data": {
      "text/plain": [
       "c        | t f a\n",
       "---------| -----\n",
       "time     | t   s\n",
       "side     | s    \n",
       "exDest   | s    \n",
       "nbbVenues| S    \n"
      ]
     },
     "execution_count": 21,
     "metadata": {},
     "output_type": "execute_result"
    }
   ],
   "source": [
    "meta childOrders"
   ]
  },
  {
   "cell_type": "code",
   "execution_count": 35,
   "metadata": {},
   "outputs": [
    {
     "data": {
      "text/plain": [
       "2136i\n"
      ]
     },
     "execution_count": 35,
     "metadata": {},
     "output_type": "execute_result"
    }
   ],
   "source": [
    "exec sum in'[exDest;nbbVenues] from childOrders"
   ]
  },
  {
   "cell_type": "code",
   "execution_count": 31,
   "metadata": {},
   "outputs": [
    {
     "data": {
      "text/plain": [
       "2136i\n"
      ]
     },
     "execution_count": 31,
     "metadata": {},
     "output_type": "execute_result"
    }
   ],
   "source": [
    "exec sum exDest in'nbbVenues from childOrders"
   ]
  },
  {
   "cell_type": "code",
   "execution_count": 28,
   "metadata": {},
   "outputs": [
    {
     "data": {
      "text/plain": [
       "2136\n"
      ]
     },
     "execution_count": 28,
     "metadata": {},
     "output_type": "execute_result"
    }
   ],
   "source": [
    "exec count i from childOrders where any each exDest=nbbVenues"
   ]
  },
  {
   "cell_type": "code",
   "execution_count": 29,
   "metadata": {},
   "outputs": [
    {
     "data": {
      "text/plain": [
       "2136i\n"
      ]
     },
     "execution_count": 29,
     "metadata": {},
     "output_type": "execute_result"
    }
   ],
   "source": [
    "exec sum {x[0] in x[1]} each flip (exDest;nbbVenues) from childOrders"
   ]
  }
 ],
 "metadata": {
  "kernelspec": {
   "display_name": "Q (kdb+)",
   "language": "q",
   "name": "qpk"
  },
  "language_info": {
   "file_extension": ".q",
   "mimetype": "text/x-q",
   "name": "q",
   "version": "3.6.0"
  }
 },
 "nbformat": 4,
 "nbformat_minor": 4
}
