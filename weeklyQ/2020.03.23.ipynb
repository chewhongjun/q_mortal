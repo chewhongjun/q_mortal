{
 "cells": [
  {
   "cell_type": "markdown",
   "metadata": {},
   "source": [
    "# Introduction\n",
    "\n",
    "__Market Identifier Code (MIC)__ is an international standard, which \"specifies a universal method of __identifying exchanges__, trading platforms, regulated or non-regulated markets and trade reporting facilities as sources of prices and related information in order to facilitate automated processing\" as quoted from its official site.\n",
    "\n",
    "The __U.S. Equities market has 13 lit exchanges and dozens of Alternative Trading Systems (ATSs), a.k.a. dark pools__. Many buy side firms also operate their own non-ATS crossing systems.\n",
    "\n",
    "# Question\n",
    "\n",
    "There might be multiple exchanges quoting at the __National Best Bid and Offer (NBBO) price level__ at any given time. It is assumed that __child orders are always placed at NBBO_ and can be placed to any lit exchanges__. The below function __simChildOrders__ simulates some BUY orders with execution destination (exDest). See the definition of FIX tag for exDest. It also has a column nbbExchanges, which shows the list of lit exchanges that are present at the best bid price level."
   ]
  },
  {
   "cell_type": "code",
   "execution_count": 1,
   "metadata": {},
   "outputs": [],
   "source": [
    "simChildOrders:{[nOrders]\n",
    "    seed:-314159;\n",
    "    openTime:`time$09:30;\n",
    "    closeTime:`time$16:00;\n",
    "    litVenues:`XNYS`ARCX`XCHI`XASE`XCIS`XNAS`XBOS`XPHL`BATS`BATY`EDGA`EDGX`IEXG;\n",
    "\n",
    "    system \"S \",string seed;\n",
    "    submitTimes:asc closeTime&openTime+nOrders?390*60*1000;\n",
    "\n",
    "    system \"S \",string seed;\n",
    "    exDest:nOrders?litVenues;\n",
    "\n",
    "    system \"S \",string seed;\n",
    "    nExchanges:3+nOrders?(count litVenues)-3;\n",
    "    system \"S \",string seed;\n",
    "    nbbVenues:{y?x}[litVenues;] each nExchanges;\n",
    "\n",
    "    ([] time:submitTimes;side:`BUY;exDest:exDest;nbbVenues:nbbVenues)\n",
    "  };\n",
    "\n",
    "childOrders:simChildOrders[5000];"
   ]
  },
  {
   "cell_type": "code",
   "execution_count": 2,
   "metadata": {},
   "outputs": [
    {
     "data": {
      "text/plain": [
       "time         side exDest nbbVenues                                           ..\n",
       "-----------------------------------------------------------------------------..\n",
       "09:30:17.080 BUY  IEXG   `IEXG`BATS`EDGA`ARCX`EDGA`BATY`EDGA`EDGX`EDGA`XNAS`X..\n",
       "09:30:21.349 BUY  BATS   `XBOS`XBOS`ARCX`BATS                                ..\n",
       "09:30:30.155 BUY  EDGA   `XNAS`EDGA`XCIS`BATY`XCHI`XPHL`XNYS`ARCX`BATY`XCHI`A..\n",
       "09:30:30.308 BUY  ARCX   `BATS`ARCX`EDGA`XPHL`EDGX`IEXG`IEXG`XCHI            ..\n",
       "09:30:30.320 BUY  EDGA   `XCIS`XNAS`IEXG`IEXG`XCIS`XCHI`XPHL                 ..\n",
       "09:30:31.384 BUY  BATY   `BATS`XNAS`XBOS`EDGA`XCIS`IEXG`ARCX`IEXG`XASE       ..\n",
       "09:30:32.263 BUY  EDGA   `XASE`XPHL`BATS`XCHI`ARCX`XCIS`XCHI`BATS`XNYS       ..\n",
       "09:30:38.184 BUY  EDGX   `IEXG`XNAS`BATS`XNAS                                ..\n",
       "09:30:39.026 BUY  EDGA   `EDGX`XCHI`EDGA`BATS`XBOS`BATY`XNYS`XNYS`XNYS`EDGX`I..\n",
       "09:30:40.304 BUY  XNAS   `BATY`XNAS`XCHI`EDGX`XASE`IEXG`IEXG`BATY            ..\n",
       "09:30:47.571 BUY  XCIS   `EDGA`XNAS`BATY`XPHL`IEXG`XBOS`XBOS                 ..\n",
       "09:30:49.248 BUY  XBOS   `XCIS`XPHL`BATS`XCIS`XCIS`XBOS`EDGA`BATY`BATY`EDGA`X..\n",
       "09:30:50.733 BUY  XBOS   `IEXG`EDGA`XCIS`XCHI`XNAS                           ..\n",
       "09:30:58.274 BUY  ARCX   `EDGX`BATS`XPHL`BATY`BATY`EDGA`XPHL`IEXG`XPHL`EDGA  ..\n",
       "09:31:03.756 BUY  BATS   `ARCX`BATY`ARCX                                     ..\n",
       "09:31:04.988 BUY  XNAS   `XNYS`EDGX`BATS`BATS                                ..\n",
       "09:31:05.447 BUY  EDGA   `EDGA`XASE`IEXG`EDGX`ARCX`XNYS`IEXG`XNAS`ARCX`XNYS`X..\n",
       "09:31:09.735 BUY  XCIS   `ARCX`EDGA`XPHL`XBOS`XASE                           ..\n",
       "09:31:20.285 BUY  BATY   `XCIS`EDGA`XASE`XCIS                                ..\n",
       "09:31:22.401 BUY  XCHI   `BATS`XCIS`EDGA`XBOS`BATS`XCHI`BATS`XASE`EDGA`XCIS`A..\n",
       "..\n"
      ]
     },
     "execution_count": 2,
     "metadata": {},
     "output_type": "execute_result"
    }
   ],
   "source": [
    "childOrders"
   ]
  },
  {
   "cell_type": "code",
   "execution_count": null,
   "metadata": {},
   "outputs": [],
   "source": []
  }
 ],
 "metadata": {
  "kernelspec": {
   "display_name": "Q (kdb+)",
   "language": "q",
   "name": "qpk"
  },
  "language_info": {
   "file_extension": ".q",
   "mimetype": "text/x-q",
   "name": "q",
   "version": "3.6.0"
  }
 },
 "nbformat": 4,
 "nbformat_minor": 4
}
