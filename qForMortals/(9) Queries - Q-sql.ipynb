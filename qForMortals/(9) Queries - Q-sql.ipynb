{
 "cells": [
  {
   "cell_type": "markdown",
   "metadata": {},
   "source": [
    "#### Overview\n",
    "\n",
    "manipulating tables q-sql, since many of them resemble their SQL counterparts in form or function. The usual suspects such as insert, select, update, are present, as well as functionality that is not available in traditional SQL. But appearances can be deceiving: there are some significant differences in the syntax and behavior.\n",
    "\n",
    "The first important difference is that a q table has ordered rows and columns.\n",
    "\n",
    "A second difference is that a q table is stored physically as a collection of column lists. This means that operations on column data are vector operations. Moreover, for simple column lists, atomic, aggregate and uniform functions applied to columns are especially simple and fast since they reduce to direct memory addressing."
   ]
  },
  {
   "cell_type": "markdown",
   "metadata": {},
   "source": [
    "#### Inserting Records\n",
    "\n",
    "Generic inseration\n",
    "there are a few way\n",
    "1. targeted with fields\n",
    "2. naked based on position\n",
    "\n",
    "you can insert rows into the table,t via { ,: }"
   ]
  },
  {
   "cell_type": "code",
   "execution_count": 45,
   "metadata": {},
   "outputs": [],
   "source": [
    "t:([] name:`symbol$(); iq:`int$())\n",
    "\n",
    "//You can insert with fields\n",
    "t,:`name`iq!(`Beebledrox;42)\n",
    "t,:`name`iq!(`Dent,92)\n",
    "\n",
    "//you can insert without as well\n",
    "t,:(`dog,123)\n",
    "t,:(`cat,111)\n",
    "t,:(`mouse,222)"
   ]
  },
  {
   "cell_type": "code",
   "execution_count": 46,
   "metadata": {},
   "outputs": [
    {
     "data": {
      "text/plain": [
       "name       iq \n",
       "--------------\n",
       "Beebledrox 42 \n",
       "Dent       92 \n",
       "dog        123\n",
       "cat        111\n",
       "mouse      222\n"
      ]
     },
     "execution_count": 46,
     "metadata": {},
     "output_type": "execute_result"
    }
   ],
   "source": [
    "t"
   ]
  },
  {
   "cell_type": "markdown",
   "metadata": {},
   "source": [
    "##### Key table\n",
    "this is like sql where you can have a key value in the table\n",
    "which means that there can only be 1 unique value for that column\n",
    "\n",
    "in this case we have eid as the key"
   ]
  },
  {
   "cell_type": "code",
   "execution_count": 9,
   "metadata": {},
   "outputs": [],
   "source": [
    "kt:([eid:`long$()] name:`symbol$(); iq:`long$())\n",
    "kt,:(1002; `Dent; 98)"
   ]
  },
  {
   "cell_type": "code",
   "execution_count": 5,
   "metadata": {},
   "outputs": [
    {
     "data": {
      "text/plain": [
       "eid | name iq\n",
       "----| -------\n",
       "1002| Dent 98\n"
      ]
     },
     "execution_count": 5,
     "metadata": {},
     "output_type": "execute_result"
    }
   ],
   "source": [
    "kt"
   ]
  },
  {
   "cell_type": "code",
   "execution_count": 7,
   "metadata": {},
   "outputs": [],
   "source": [
    "kt,:(1002; `Dent; 101)"
   ]
  },
  {
   "cell_type": "code",
   "execution_count": 8,
   "metadata": {},
   "outputs": [
    {
     "data": {
      "text/plain": [
       "eid | name iq \n",
       "----| --------\n",
       "1002| Dent 101\n"
      ]
     },
     "execution_count": 8,
     "metadata": {},
     "output_type": "execute_result"
    }
   ],
   "source": [
    "kt"
   ]
  },
  {
   "cell_type": "markdown",
   "metadata": {},
   "source": [
    "#### Basic Insertation\n",
    "\n",
    "the function insert -> ,: works in the same way to insert"
   ]
  },
  {
   "cell_type": "code",
   "execution_count": 68,
   "metadata": {},
   "outputs": [
    {
     "data": {
      "text/plain": [
       "name iq\n",
       "-------\n",
       "Dent 1 \n",
       "Dan  2 \n",
       "dant 3 \n"
      ]
     },
     "execution_count": 68,
     "metadata": {},
     "output_type": "execute_result"
    }
   ],
   "source": [
    "t:([] name:`Dent`Dan`dant; iq:1 2 3)\n",
    "t"
   ]
  },
  {
   "cell_type": "code",
   "execution_count": 69,
   "metadata": {},
   "outputs": [
    {
     "data": {
      "text/plain": [
       ",3\n"
      ]
     },
     "execution_count": 69,
     "metadata": {},
     "output_type": "execute_result"
    },
    {
     "data": {
      "text/plain": [
       ",4\n"
      ]
     },
     "execution_count": 69,
     "metadata": {},
     "output_type": "execute_result"
    }
   ],
   "source": [
    "`t insert (`name`iq)!(`danny;4)\n",
    "`t insert (`marvin;5)"
   ]
  },
  {
   "cell_type": "code",
   "execution_count": 70,
   "metadata": {},
   "outputs": [
    {
     "data": {
      "text/plain": [
       "name   iq\n",
       "---------\n",
       "Dent   1 \n",
       "Dan    2 \n",
       "dant   3 \n",
       "danny  4 \n",
       "marvin 5 \n"
      ]
     },
     "execution_count": 70,
     "metadata": {},
     "output_type": "execute_result"
    }
   ],
   "source": [
    "t"
   ]
  },
  {
   "cell_type": "code",
   "execution_count": 71,
   "metadata": {},
   "outputs": [],
   "source": [
    "//Truncation of table\n",
    "t:3#t"
   ]
  },
  {
   "cell_type": "code",
   "execution_count": 72,
   "metadata": {},
   "outputs": [
    {
     "data": {
      "text/plain": [
       "3 4\n"
      ]
     },
     "execution_count": 72,
     "metadata": {},
     "output_type": "execute_result"
    }
   ],
   "source": [
    "//You are insert a table into an existing table\n",
    "`t insert ([] name:`sally`jane;iq:6 9)"
   ]
  },
  {
   "cell_type": "code",
   "execution_count": 73,
   "metadata": {},
   "outputs": [
    {
     "data": {
      "text/plain": [
       "name  iq\n",
       "--------\n",
       "Dent  1 \n",
       "Dan   2 \n",
       "dant  3 \n",
       "sally 6 \n",
       "jane  9 \n"
      ]
     },
     "execution_count": 73,
     "metadata": {},
     "output_type": "execute_result"
    }
   ],
   "source": [
    "t"
   ]
  },
  {
   "cell_type": "markdown",
   "metadata": {},
   "source": [
    "#### Bulk insertation of table\n",
    "\n",
    "It is also possible to bulk insert naked field values but there is a twist. To bulk insert naked field values, you provide a list of columns not a list of rows."
   ]
  },
  {
   "cell_type": "code",
   "execution_count": 77,
   "metadata": {},
   "outputs": [],
   "source": [
    "t:([] name:`symbol$(); iq:`int$())\n",
    "//t:([] name:(); iq:())"
   ]
  },
  {
   "cell_type": "code",
   "execution_count": 75,
   "metadata": {},
   "outputs": [
    {
     "data": {
      "text/plain": [
       "0 1\n"
      ]
     },
     "execution_count": 75,
     "metadata": {},
     "output_type": "execute_result"
    }
   ],
   "source": [
    "`t insert (`james`norman; 123 234)"
   ]
  },
  {
   "cell_type": "code",
   "execution_count": 76,
   "metadata": {},
   "outputs": [
    {
     "data": {
      "text/plain": [
       "name   iq \n",
       "----------\n",
       "james  123\n",
       "norman 234\n"
      ]
     },
     "execution_count": 76,
     "metadata": {},
     "output_type": "execute_result"
    }
   ],
   "source": [
    "t"
   ]
  },
  {
   "cell_type": "markdown",
   "metadata": {},
   "source": [
    "#### Insert and Foreign Keys\n",
    "\n",
    "When inserting data into a table that has foreign key(s), the values destined for the foreign key column(s) are checked to ensure that they appear in the primary key column(s) pointed to by the foreign key(s).\n",
    "\n",
    "for you to insert anything into tdetails there must exist in kt already"
   ]
  },
  {
   "cell_type": "code",
   "execution_count": 1,
   "metadata": {},
   "outputs": [],
   "source": [
    "kt:([eid:1001 1002 1003] name:`james`norman`jian; iq: 100 200 300)\n",
    "ktdetails:([] eid:`kt$1003 1002 1001 1002 1001; sc:126 36 92 39 98)"
   ]
  },
  {
   "cell_type": "code",
   "execution_count": 2,
   "metadata": {},
   "outputs": [
    {
     "data": {
      "text/plain": [
       ",5\n"
      ]
     },
     "execution_count": 2,
     "metadata": {},
     "output_type": "execute_result"
    }
   ],
   "source": [
    "`ktdetails insert( 1002; 42)"
   ]
  },
  {
   "cell_type": "code",
   "execution_count": 2,
   "metadata": {},
   "outputs": [
    {
     "ename": "\u001b[0;31mcast\u001b[0m",
     "evalue": "\u001b[0;31mcast\u001b[0m",
     "output_type": "error",
     "traceback": [
      "\u001b[0;31mevaluation error:\n\u001b[0m",
      "\u001b[0;31mcast\u001b[0m",
      "\u001b[0;31m\u001b[0m",
      "\u001b[0;31m  [0]  `ktdetails insert( 1042; 11)\n                  ^\n\u001b[0m"
     ]
    }
   ],
   "source": [
    "`ktdetails insert( 1042; 11)"
   ]
  },
  {
   "cell_type": "markdown",
   "metadata": {},
   "source": [
    "##### Inserting into key tables\n",
    "\n",
    "same as the previous using the insert command"
   ]
  },
  {
   "cell_type": "code",
   "execution_count": 3,
   "metadata": {},
   "outputs": [
    {
     "data": {
      "text/plain": [
       ",3\n"
      ]
     },
     "execution_count": 3,
     "metadata": {},
     "output_type": "execute_result"
    }
   ],
   "source": [
    "`kt insert(1004; `tim; 400)"
   ]
  },
  {
   "cell_type": "code",
   "execution_count": 4,
   "metadata": {},
   "outputs": [
    {
     "data": {
      "text/plain": [
       ",4\n"
      ]
     },
     "execution_count": 4,
     "metadata": {},
     "output_type": "execute_result"
    }
   ],
   "source": [
    "`kt insert(1005; `toom; 100)"
   ]
  },
  {
   "cell_type": "markdown",
   "metadata": {},
   "source": [
    "**Inserting into a table that already has the key will fail** "
   ]
  },
  {
   "cell_type": "code",
   "execution_count": 4,
   "metadata": {},
   "outputs": [
    {
     "ename": "\u001b[0;31minsert\u001b[0m",
     "evalue": "\u001b[0;31minsert\u001b[0m",
     "output_type": "error",
     "traceback": [
      "\u001b[0;31mevaluation error:\n\u001b[0m",
      "\u001b[0;31minsert\u001b[0m",
      "\u001b[0;31m\u001b[0m",
      "\u001b[0;31m  [0]  `kt insert(1004;`johh;321)\n           ^\n\u001b[0m"
     ]
    }
   ],
   "source": [
    "`kt insert(1004;`johh;321)"
   ]
  },
  {
   "cell_type": "markdown",
   "metadata": {},
   "source": [
    "**Upsert**\n",
    "\n",
    "Upsert is similar to insert but better?\n",
    "\n",
    "1. insert only allows pass by name\n",
    "2. upsert supports both pass-by-name and pass-by-value\n",
    "\n",
    "Lets give this a shot"
   ]
  },
  {
   "cell_type": "code",
   "execution_count": 7,
   "metadata": {},
   "outputs": [
    {
     "data": {
      "text/plain": [
       "c1 c2\n",
       "-----\n",
       "a  10\n",
       "b  20\n",
       "c  30\n"
      ]
     },
     "execution_count": 7,
     "metadata": {},
     "output_type": "execute_result"
    }
   ],
   "source": [
    "([] c1:`a`b; c2:10 20) upsert(`c; 30)"
   ]
  },
  {
   "cell_type": "code",
   "execution_count": 8,
   "metadata": {},
   "outputs": [],
   "source": [
    "f:{t:([] c1:`a`b; c2:1 2); t upsert x}"
   ]
  },
  {
   "cell_type": "code",
   "execution_count": 9,
   "metadata": {},
   "outputs": [
    {
     "data": {
      "text/plain": [
       "c1 c2\n",
       "-----\n",
       "a  1 \n",
       "b  2 \n",
       "c  30\n"
      ]
     },
     "execution_count": 9,
     "metadata": {},
     "output_type": "execute_result"
    }
   ],
   "source": [
    "f(`c; 30)"
   ]
  },
  {
   "cell_type": "markdown",
   "metadata": {},
   "source": [
    "**Ooo** \n",
    "\n",
    "this is interesting okay so right now f is a function, the first input to the function is given the name x.\n",
    "\n",
    "the function takes in x and upserts it into table,t"
   ]
  },
  {
   "cell_type": "code",
   "execution_count": 10,
   "metadata": {},
   "outputs": [
    {
     "data": {
      "text/plain": [
       "eid | name   iq \n",
       "----| ----------\n",
       "1001| james  100\n",
       "1002| norman 200\n",
       "1003| jian   300\n",
       "1004| tim    400\n",
       "1005| toom   100\n"
      ]
     },
     "execution_count": 10,
     "metadata": {},
     "output_type": "execute_result"
    }
   ],
   "source": [
    "kt"
   ]
  },
  {
   "cell_type": "code",
   "execution_count": 11,
   "metadata": {},
   "outputs": [
    {
     "data": {
      "text/plain": [
       "`kt\n"
      ]
     },
     "execution_count": 11,
     "metadata": {},
     "output_type": "execute_result"
    }
   ],
   "source": [
    "`kt upsert (1001; `changedd; 101)"
   ]
  },
  {
   "cell_type": "code",
   "execution_count": 12,
   "metadata": {},
   "outputs": [
    {
     "data": {
      "text/plain": [
       "eid | name     iq \n",
       "----| ------------\n",
       "1001| changedd 101\n",
       "1002| norman   200\n",
       "1003| jian     300\n",
       "1004| tim      400\n",
       "1005| toom     100\n"
      ]
     },
     "execution_count": 12,
     "metadata": {},
     "output_type": "execute_result"
    }
   ],
   "source": [
    "kt"
   ]
  },
  {
   "cell_type": "markdown",
   "metadata": {},
   "source": [
    "As mentioned previously insert will return an error when the key, is already inserted. However with upsert it is able to over-ride the exisitng row"
   ]
  },
  {
   "cell_type": "markdown",
   "metadata": {},
   "source": [
    "**Learning The Select of q-SQL**\n",
    "\n",
    "- the result of select is always a table\n",
    "- select (...)(by) from table (where)"
   ]
  },
  {
   "cell_type": "code",
   "execution_count": 13,
   "metadata": {},
   "outputs": [],
   "source": [
    "t:([] c1:`a`b`c; c2:1 2 3; c3: 1.1 2.2 3.3)"
   ]
  },
  {
   "cell_type": "code",
   "execution_count": 14,
   "metadata": {},
   "outputs": [
    {
     "data": {
      "text/plain": [
       "c1 c2 c3 \n",
       "---------\n",
       "a  1  1.1\n",
       "b  2  2.2\n",
       "c  3  3.3\n"
      ]
     },
     "execution_count": 14,
     "metadata": {},
     "output_type": "execute_result"
    }
   ],
   "source": [
    "select from t"
   ]
  },
  {
   "cell_type": "code",
   "execution_count": 17,
   "metadata": {},
   "outputs": [
    {
     "data": {
      "text/plain": [
       "c1 c2\n",
       "-----\n",
       "a  1 \n",
       "b  2 \n",
       "c  3 \n"
      ]
     },
     "execution_count": 17,
     "metadata": {},
     "output_type": "execute_result"
    }
   ],
   "source": [
    "select c1, c2 from t"
   ]
  },
  {
   "cell_type": "code",
   "execution_count": 19,
   "metadata": {},
   "outputs": [
    {
     "data": {
      "text/plain": [
       "c1 rst\n",
       "------\n",
       "a  10 \n",
       "b  20 \n",
       "c  30 \n"
      ]
     },
     "execution_count": 19,
     "metadata": {},
     "output_type": "execute_result"
    }
   ],
   "source": [
    "select c1, rst:10*c2 from t"
   ]
  },
  {
   "cell_type": "code",
   "execution_count": 21,
   "metadata": {},
   "outputs": [
    {
     "data": {
      "text/plain": [
       "c1 c2 x c21 c3   \n",
       "-----------------\n",
       "a  1  2 2.1 \"1.1\"\n",
       "b  2  4 4.2 \"2.2\"\n",
       "c  3  6 6.3 \"3.3\"\n"
      ]
     },
     "execution_count": 21,
     "metadata": {},
     "output_type": "execute_result"
    }
   ],
   "source": [
    "select c1,c2,2*c2,c2+c3, string c3 from t"
   ]
  },
  {
   "cell_type": "code",
   "execution_count": 23,
   "metadata": {},
   "outputs": [
    {
     "data": {
      "text/plain": [
       "x c1\n",
       "----\n",
       "0 a \n",
       "1 b \n",
       "2 c \n"
      ]
     },
     "execution_count": 23,
     "metadata": {},
     "output_type": "execute_result"
    }
   ],
   "source": [
    "//A virtual column i represents the offset of each record in the table \n",
    "select i,c1 from t"
   ]
  },
  {
   "cell_type": "code",
   "execution_count": 32,
   "metadata": {},
   "outputs": [
    {
     "data": {
      "text/plain": [
       "c1 c2\n",
       "-----\n",
       "a  10\n",
       "b  20\n"
      ]
     },
     "execution_count": 32,
     "metadata": {},
     "output_type": "execute_result"
    }
   ],
   "source": [
    "select distinct from ([] c1:`a`b`a; c2:10 20 10)"
   ]
  },
  {
   "cell_type": "markdown",
   "metadata": {},
   "source": [
    "**select first or last n number of records using select[]**\n",
    "\n",
    " - select[] gives you the ability to reference particular colum "
   ]
  },
  {
   "cell_type": "code",
   "execution_count": 33,
   "metadata": {},
   "outputs": [
    {
     "data": {
      "text/plain": [
       "c1 c2\n",
       "-----\n",
       "a  10\n",
       "b  20\n"
      ]
     },
     "execution_count": 33,
     "metadata": {},
     "output_type": "execute_result"
    }
   ],
   "source": [
    "select[2] from ([] c1:`a`b`c; c2:10 20 30)"
   ]
  },
  {
   "cell_type": "code",
   "execution_count": 34,
   "metadata": {},
   "outputs": [
    {
     "data": {
      "text/plain": [
       "c1 c2\n",
       "-----\n",
       "b  20\n"
      ]
     },
     "execution_count": 34,
     "metadata": {},
     "output_type": "execute_result"
    }
   ],
   "source": [
    "select[2] from ([] c1:`a`b`a; c2:10 20 30) where c1<>`a"
   ]
  },
  {
   "cell_type": "code",
   "execution_count": 36,
   "metadata": {},
   "outputs": [
    {
     "data": {
      "text/plain": [
       "c1 c2\n",
       "-----\n",
       "a  10\n",
       "a  30\n"
      ]
     },
     "execution_count": 36,
     "metadata": {},
     "output_type": "execute_result"
    }
   ],
   "source": [
    "select[2] from ([] c1:`a`b`a`d`e; c2:10 20 30 40 50) where c1=`a"
   ]
  },
  {
   "cell_type": "code",
   "execution_count": 38,
   "metadata": {},
   "outputs": [
    {
     "data": {
      "text/plain": [
       "c1 c2\n",
       "-----\n",
       "b  20\n",
       "a  30\n"
      ]
     },
     "execution_count": 38,
     "metadata": {},
     "output_type": "execute_result"
    }
   ],
   "source": [
    "// Starting row number, followed by number of rows\n",
    "select[1 2] from ([] c1:`a`b`a`d`e; c2:10 20 30 40 50)"
   ]
  },
  {
   "cell_type": "code",
   "execution_count": 43,
   "metadata": {},
   "outputs": [
    {
     "data": {
      "text/plain": [
       "c1 c2\n",
       "-----\n",
       "d  2 \n",
       "c  4 \n",
       "b  3 \n",
       "a  1 \n"
      ]
     },
     "execution_count": 43,
     "metadata": {},
     "output_type": "execute_result"
    },
    {
     "data": {
      "text/plain": [
       "c1 c2\n",
       "-----\n",
       "a  1 \n",
       "b  3 \n",
       "c  4 \n",
       "d  2 \n"
      ]
     },
     "execution_count": 43,
     "metadata": {},
     "output_type": "execute_result"
    },
    {
     "data": {
      "text/plain": [
       "c1 c2\n",
       "-----\n",
       "a  1 \n",
       "d  2 \n",
       "b  3 \n",
       "c  4 \n"
      ]
     },
     "execution_count": 43,
     "metadata": {},
     "output_type": "execute_result"
    },
    {
     "data": {
      "text/plain": [
       "c1 c2\n",
       "-----\n",
       "d  2 \n",
       "c  4 \n"
      ]
     },
     "execution_count": 43,
     "metadata": {},
     "output_type": "execute_result"
    }
   ],
   "source": [
    "// > operator makes it decending\n",
    "// < operator make it ascending\n",
    "select [>c1] from ([] c1:`d`a`c`b; c2:2 1 4 3)\n",
    "select [<c1] from ([] c1:`d`a`c`b; c2:2 1 4 3)\n",
    "select [<c2] from ([] c1:`d`a`c`b; c2:2 1 4 3)\n",
    "select [2;>c1] from([] c1:`d`a`c`b; c2:2 1 4 3)"
   ]
  },
  {
   "cell_type": "markdown",
   "metadata": {},
   "source": [
    "**Nested Columns**\n",
    "\n",
    "Nested columns means that particular column may not be flat and has like an array instead. Generally, how you select on a column like that is the use of a lot of iterators"
   ]
  },
  {
   "cell_type": "code",
   "execution_count": 52,
   "metadata": {},
   "outputs": [
    {
     "name": "stdout",
     "output_type": "stream",
     "text": [
      "c1 c2      \n",
      "-----------\n",
      "a  10 20 30\n",
      "b  40      \n",
      "c  50 60   \n"
     ]
    }
   ],
   "source": [
    "show tnest:([] c1:`a`b`c; c2:(10 20 30;40;50 60))"
   ]
  },
  {
   "cell_type": "code",
   "execution_count": 56,
   "metadata": {},
   "outputs": [
    {
     "ename": "\u001b[0;31mlength\u001b[0m",
     "evalue": "\u001b[0;31mlength\u001b[0m",
     "output_type": "error",
     "traceback": [
      "\u001b[0;31mevaluation error:\n\u001b[0m",
      "\u001b[0;31mlength\u001b[0m",
      "\u001b[0;31m\u001b[0m",
      "\u001b[0;31m  [0]  select avg c2 from tnest\n              ^\n\u001b[0m"
     ]
    }
   ],
   "source": [
    "// This returns an error as the field in c2 is not uniform\n",
    "select avg c2 from tnest"
   ]
  },
  {
   "cell_type": "code",
   "execution_count": 58,
   "metadata": {},
   "outputs": [
    {
     "data": {
      "text/plain": [
       "c2\n",
       "--\n",
       "20\n",
       "40\n",
       "55\n"
      ]
     },
     "execution_count": 58,
     "metadata": {},
     "output_type": "execute_result"
    }
   ],
   "source": [
    "// However we are able to apply the avg function on each field of c2\n",
    "select avg each c2 from tnest"
   ]
  },
  {
   "cell_type": "code",
   "execution_count": 64,
   "metadata": {},
   "outputs": [
    {
     "data": {
      "text/plain": [
       "c1 c2       c3         \n",
       "-----------------------\n",
       "a  10 20 30 1.1 2.2 3.3\n",
       "b  40       4.4        \n",
       "c  50 60    5.5 6.6    \n"
      ]
     },
     "execution_count": 64,
     "metadata": {},
     "output_type": "execute_result"
    }
   ],
   "source": [
    "update c3:(1.1 2.2 3.3;4.4;5.5 6.6) from tnest"
   ]
  },
  {
   "cell_type": "code",
   "execution_count": 89,
   "metadata": {},
   "outputs": [
    {
     "data": {
      "text/plain": [
       "c1 wtavg   \n",
       "-----------\n",
       "a  2.566667\n",
       "b  4.4     \n",
       "c  6.1     \n"
      ]
     },
     "execution_count": 89,
     "metadata": {},
     "output_type": "execute_result"
    },
    {
     "data": {
      "text/plain": [
       "c1 wtavg   \n",
       "-----------\n",
       "a  2.566667\n",
       "b  4.4     \n",
       "c  6.1     \n"
      ]
     },
     "execution_count": 89,
     "metadata": {},
     "output_type": "execute_result"
    }
   ],
   "source": [
    "select c1, wtavg:c2 wavg' c3 from tnest\n",
    "select c1, wtavg: wavg'[c2;c3] from tnest"
   ]
  },
  {
   "cell_type": "markdown",
   "metadata": {},
   "source": [
    "**Filtering with where**\n",
    "\n",
    "same as sql, will be going through some example\n"
   ]
  },
  {
   "cell_type": "code",
   "execution_count": 103,
   "metadata": {},
   "outputs": [
    {
     "name": "stdout",
     "output_type": "stream",
     "text": [
      "c1 c2  c3 \n",
      "----------\n",
      "a  10  2.2\n",
      "b  20  2.2\n",
      "c  100 3.3\n"
     ]
    }
   ],
   "source": [
    "show t:([] c1:`a`b`c; c2:10 20 100; c3:2.2 2.2 3.3)"
   ]
  },
  {
   "cell_type": "code",
   "execution_count": 104,
   "metadata": {},
   "outputs": [
    {
     "data": {
      "text/plain": [
       "vwap    \n",
       "--------\n",
       "3.046154\n"
      ]
     },
     "execution_count": 104,
     "metadata": {},
     "output_type": "execute_result"
    }
   ],
   "source": [
    "select vwap:wavg[c2;c3] from t"
   ]
  },
  {
   "cell_type": "code",
   "execution_count": 107,
   "metadata": {},
   "outputs": [
    {
     "data": {
      "text/plain": [
       "c1 c2  c3 \n",
       "----------\n",
       "b  20  2.2\n",
       "c  100 3.3\n"
      ]
     },
     "execution_count": 107,
     "metadata": {},
     "output_type": "execute_result"
    }
   ],
   "source": [
    "t where t[`c2]>15"
   ]
  },
  {
   "cell_type": "code",
   "execution_count": 108,
   "metadata": {},
   "outputs": [],
   "source": [
    "tbig:100#t"
   ]
  },
  {
   "cell_type": "code",
   "execution_count": 112,
   "metadata": {},
   "outputs": [
    {
     "data": {
      "text/plain": [
       "c1 c2  c3 \n",
       "----------\n",
       "c  100 3.3\n",
       "a  10  2.2\n",
       "b  20  2.2\n",
       "c  100 3.3\n",
       "a  10  2.2\n",
       "b  20  2.2\n"
      ]
     },
     "execution_count": 112,
     "metadata": {},
     "output_type": "execute_result"
    }
   ],
   "source": [
    "select from tbig where i within 50 55"
   ]
  },
  {
   "cell_type": "code",
   "execution_count": 115,
   "metadata": {},
   "outputs": [
    {
     "data": {
      "text/plain": [
       "c1 c2  c3 \n",
       "----------\n",
       "c  100 3.3\n",
       "a  10  2.2\n",
       "b  20  2.2\n",
       "c  100 3.3\n",
       "a  10  2.2\n",
       "b  20  2.2\n"
      ]
     },
     "execution_count": 115,
     "metadata": {},
     "output_type": "execute_result"
    }
   ],
   "source": [
    "s:50\n",
    "e:55\n",
    "select from tbig where i within (s;e)"
   ]
  },
  {
   "cell_type": "code",
   "execution_count": 118,
   "metadata": {},
   "outputs": [
    {
     "data": {
      "text/plain": [
       "1b\n"
      ]
     },
     "execution_count": 118,
     "metadata": {},
     "output_type": "execute_result"
    }
   ],
   "source": [
    "r1:select from t where c2>15,c3<3.0\n",
    "r2:select from t where (c2>15)&(c3<3.0)\n",
    "r1~r2"
   ]
  },
  {
   "cell_type": "code",
   "execution_count": 3,
   "metadata": {},
   "outputs": [],
   "source": [
    "t:([] c1:00:00:00.000+til 1000000;c2:1000000?`a`b;c3:1000000?100.)"
   ]
  },
  {
   "cell_type": "code",
   "execution_count": 4,
   "metadata": {},
   "outputs": [
    {
     "data": {
      "text/plain": [
       "c1           c2 c3      \n",
       "------------------------\n",
       "00:00:00.000 a  64.78666\n",
       "00:00:00.001 a  11.97604\n",
       "00:00:00.002 b  43.93202\n",
       "00:00:00.003 b  13.32134\n",
       "00:00:00.004 a  85.98006\n"
      ]
     },
     "execution_count": 4,
     "metadata": {},
     "output_type": "execute_result"
    }
   ],
   "source": [
    "select[5] from t"
   ]
  },
  {
   "cell_type": "code",
   "execution_count": 11,
   "metadata": {},
   "outputs": [
    {
     "data": {
      "text/plain": [
       "c1           c2 c3      \n",
       "------------------------\n",
       "00:00:00.017 a  80.83228\n",
       "00:00:00.020 a  69.0548 \n",
       "00:00:00.022 a  90.85562\n",
       "00:00:00.023 a  76.32188\n",
       "00:00:00.024 a  77.49987\n",
       "00:00:00.025 a  17.98912\n",
       "00:00:00.026 a  63.77097\n",
       "00:00:00.027 a  5.948771\n",
       "00:00:00.028 a  23.00063\n"
      ]
     },
     "execution_count": 11,
     "metadata": {},
     "output_type": "execute_result"
    }
   ],
   "source": [
    "select from t where c2=`a, c1 within 00:00:00:015 00:00:00:0300"
   ]
  },
  {
   "cell_type": "markdown",
   "metadata": {},
   "source": [
    "**Nested columns in  where**\n",
    "\n",
    "nest columns requires iterator, inorder to do where you are also require to use where"
   ]
  },
  {
   "cell_type": "code",
   "execution_count": 17,
   "metadata": {},
   "outputs": [
    {
     "data": {
      "text/plain": [
       "f   s   \n",
       "--------\n",
       "3.3 \"ef\"\n"
      ]
     },
     "execution_count": 17,
     "metadata": {},
     "output_type": "execute_result"
    },
    {
     "data": {
      "text/plain": [
       "f   s    \n",
       "---------\n",
       "1.1 \"abc\"\n"
      ]
     },
     "execution_count": 17,
     "metadata": {},
     "output_type": "execute_result"
    }
   ],
   "source": [
    "t:([] f:1.1 2.2 3.3; s:(\"abc\";enlist \"d\"; \"ef\"))\n",
    "select from t where s~\\:\"ef\"\n",
    "select from t where s like \"abc\""
   ]
  },
  {
   "cell_type": "code",
   "execution_count": 22,
   "metadata": {},
   "outputs": [
    {
     "name": "stdout",
     "output_type": "stream",
     "text": [
      "sym  ex time     price\n",
      "----------------------\n",
      "IBM  N  12:10:00 82.1 \n",
      "IBM  O  12:30:00 81.95\n",
      "MSFT N  12:45:00 23.45\n",
      "IBM  N  12:50:00 82.05\n",
      "MSFT N  13:30:00 23.4 \n"
     ]
    },
    {
     "data": {
      "text/plain": [
       "sym  ex time     price\n",
       "----------------------\n",
       "IBM  N  12:10:00 82.1 \n",
       "IBM  O  12:30:00 81.95\n",
       "MSFT N  12:45:00 23.45\n"
      ]
     },
     "execution_count": 22,
     "metadata": {},
     "output_type": "execute_result"
    }
   ],
   "source": [
    "show t:([]sym:`IBM`IBM`MSFT`IBM`MSFT;\n",
    "    ex:`N`O`N`N`N;\n",
    "    time:12:10:00 12:30:00 12:45:00 12:50:00 13:30:00;\n",
    "    price:82.1 81.95 23.45 82.05 23.40)\n",
    "select from t where price=(max;price) fby ([]sym;ex)"
   ]
  },
  {
   "cell_type": "code",
   "execution_count": 27,
   "metadata": {},
   "outputs": [
    {
     "data": {
      "text/plain": [
       "c1 c2\n",
       "-----\n",
       "a  10\n",
       "b  20\n",
       "a  30\n",
       "b  40\n",
       "c  50\n"
      ]
     },
     "execution_count": 27,
     "metadata": {},
     "output_type": "execute_result"
    },
    {
     "data": {
      "text/plain": [
       "a| 10 30\n",
       "b| 20 40\n",
       "c| ,50\n"
      ]
     },
     "execution_count": 27,
     "metadata": {},
     "output_type": "execute_result"
    }
   ],
   "source": [
    "t:([] c1:`a`b`a`b`c; c2:10 20 30 40 50)\n",
    "t\n",
    "t[`c2] group t[`c1]"
   ]
  },
  {
   "cell_type": "code",
   "execution_count": 28,
   "metadata": {},
   "outputs": [
    {
     "data": {
      "text/plain": [
       "c1| c2\n",
       "--| --\n",
       "a | 40\n",
       "b | 60\n",
       "c | 50\n"
      ]
     },
     "execution_count": 28,
     "metadata": {},
     "output_type": "execute_result"
    }
   ],
   "source": [
    "select sum c2 by c1 from t"
   ]
  },
  {
   "cell_type": "code",
   "execution_count": 32,
   "metadata": {},
   "outputs": [
    {
     "data": {
      "text/plain": [
       "c1           c2| c3      \n",
       "---------------| --------\n",
       "00:00:00.000 a | 48.14446\n",
       "00:00:00.000 b | 53.86302\n",
       "00:00:00.100 a | 46.76909\n",
       "00:00:00.100 b | 51.96799\n",
       "00:00:00.200 a | 48.611  \n",
       "00:00:00.200 b | 47.86834\n",
       "00:00:00.300 a | 43.07052\n",
       "00:00:00.300 b | 47.28464\n",
       "00:00:00.400 a | 47.15773\n",
       "00:00:00.400 b | 46.44672\n",
       "00:00:00.500 a | 52.46684\n",
       "00:00:00.500 b | 47.04083\n",
       "00:00:00.600 a | 52.11636\n",
       "00:00:00.600 b | 47.59234\n",
       "00:00:00.700 a | 51.94419\n",
       "00:00:00.700 b | 52.30139\n",
       "00:00:00.800 a | 46.75963\n",
       "00:00:00.800 b | 46.61795\n",
       "00:00:00.900 a | 49.07632\n",
       "00:00:00.900 b | 51.62584\n",
       "..\n"
      ]
     },
     "execution_count": 32,
     "metadata": {},
     "output_type": "execute_result"
    }
   ],
   "source": [
    "t:([] c1:00:00:00.000+til 1000000;c2:1000000?`a`b;c3:1000000?100.)\n",
    "select avg c3 by 100 xbar c1,c2 from t"
   ]
  }
 ],
 "metadata": {
  "kernelspec": {
   "display_name": "Q (kdb+)",
   "language": "q",
   "name": "qpk"
  },
  "language_info": {
   "file_extension": ".q",
   "mimetype": "text/x-q",
   "name": "q",
   "version": "3.6.0"
  }
 },
 "nbformat": 4,
 "nbformat_minor": 4
}
