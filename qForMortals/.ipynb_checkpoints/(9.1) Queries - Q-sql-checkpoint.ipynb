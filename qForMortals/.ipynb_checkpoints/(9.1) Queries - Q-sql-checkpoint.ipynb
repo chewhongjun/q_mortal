{
 "cells": [
  {
   "cell_type": "markdown",
   "metadata": {},
   "source": [
    "**The exec Template**\n",
    "\n",
    "exac is the same as select,\n",
    "it is the same format\n",
    "\n",
    "The key point of exec is that the output is not rectangular"
   ]
  },
  {
   "cell_type": "code",
   "execution_count": 2,
   "metadata": {},
   "outputs": [
    {
     "ename": "\u001b[0;31mlength\u001b[0m",
     "evalue": "\u001b[0;31mlength\u001b[0m",
     "output_type": "error",
     "traceback": [
      "\u001b[0;31mevaluation error:\n\u001b[0m",
      "\u001b[0;31mlength\u001b[0m",
      "\u001b[0;31m\u001b[0m",
      "\u001b[0;31m  [0]  select name, distinct state from t\n       ^\n\u001b[0m"
     ]
    }
   ],
   "source": [
    "t:([] name:`a`b`c`d; state:`PL`FL`PL`HI)\n",
    "select name, distinct state from t"
   ]
  },
  {
   "cell_type": "code",
   "execution_count": 3,
   "metadata": {},
   "outputs": [
    {
     "data": {
      "text/plain": [
       "name | `a`b`c`d\n",
       "state| `PL`FL`HI\n"
      ]
     },
     "execution_count": 3,
     "metadata": {},
     "output_type": "execute_result"
    }
   ],
   "source": [
    "exec name, distinct state from t"
   ]
  },
  {
   "cell_type": "code",
   "execution_count": 6,
   "metadata": {},
   "outputs": [
    {
     "data": {
      "text/plain": [
       "`a`b`c\n"
      ]
     },
     "execution_count": 6,
     "metadata": {},
     "output_type": "execute_result"
    }
   ],
   "source": [
    "exec name from t where state in `PL`FL"
   ]
  },
  {
   "cell_type": "code",
   "execution_count": 7,
   "metadata": {},
   "outputs": [
    {
     "data": {
      "text/plain": [
       "c1 c2\n",
       "-----\n",
       "x  10\n",
       "y  20\n",
       "z  30\n"
      ]
     },
     "execution_count": 7,
     "metadata": {},
     "output_type": "execute_result"
    }
   ],
   "source": [
    "t:([] c1:`a`b`c; c2:10 20 30)\n",
    "update c1:`x`y`z from t"
   ]
  },
  {
   "cell_type": "code",
   "execution_count": 9,
   "metadata": {},
   "outputs": [
    {
     "data": {
      "text/plain": [
       "c1 c2 c3\n",
       "--------\n",
       "a  10 42\n",
       "b  20 42\n",
       "c  30 42\n"
      ]
     },
     "execution_count": 9,
     "metadata": {},
     "output_type": "execute_result"
    },
    {
     "data": {
      "text/plain": [
       "c1 c2 \n",
       "------\n",
       "a  10 \n",
       "b  120\n",
       "c  130\n"
      ]
     },
     "execution_count": 9,
     "metadata": {},
     "output_type": "execute_result"
    }
   ],
   "source": [
    "update c3:42 from t\n",
    "update c2:c2+100 from t where c1<>`a"
   ]
  },
  {
   "cell_type": "code",
   "execution_count": 18,
   "metadata": {},
   "outputs": [
    {
     "data": {
      "text/plain": [
       "c1 c2 c3\n",
       "--------\n",
       "a  10 0 \n",
       "b  20 0 \n",
       "c  30 1 \n"
      ]
     },
     "execution_count": 18,
     "metadata": {},
     "output_type": "execute_result"
    }
   ],
   "source": [
    "// you can store the result of an row-wise operation\n",
    "t:update c3:1b from t where c2>20\n",
    "t"
   ]
  },
  {
   "cell_type": "code",
   "execution_count": 25,
   "metadata": {},
   "outputs": [
    {
     "data": {
      "text/plain": [
       "c1 c2 c3\n",
       "--------\n",
       "a  0  0 \n",
       "b  0  0 \n",
       "c  30 1 \n"
      ]
     },
     "execution_count": 25,
     "metadata": {},
     "output_type": "execute_result"
    }
   ],
   "source": [
    "update c2:0 from t where c3 = 0"
   ]
  },
  {
   "cell_type": "markdown",
   "metadata": {},
   "source": [
    "### Sorting\n",
    "\n",
    "tables/keyed tables in q/kdb are made of a list of records. <br>\n",
    "There is no `Order By` in kdb <br>\n",
    "However, there is built in functions such as xasc,xdesc,xcols"
   ]
  },
  {
   "cell_type": "code",
   "execution_count": 28,
   "metadata": {},
   "outputs": [
    {
     "data": {
      "text/plain": [
       "c1 c2\n",
       "-----\n",
       "b  10\n",
       "a  20\n",
       "a  30\n",
       "c  40\n"
      ]
     },
     "execution_count": 28,
     "metadata": {},
     "output_type": "execute_result"
    }
   ],
   "source": [
    "t:([] c1:`a`b`c`a; c2:20 10 40 30)\n",
    "`c2`c1 xasc t"
   ]
  },
  {
   "cell_type": "code",
   "execution_count": 30,
   "metadata": {},
   "outputs": [
    {
     "data": {
      "text/plain": [
       "c1 c2\n",
       "-----\n",
       "c  40\n",
       "b  10\n",
       "a  30\n",
       "a  20\n"
      ]
     },
     "execution_count": 30,
     "metadata": {},
     "output_type": "execute_result"
    }
   ],
   "source": [
    "`c1`c2 xdesc t"
   ]
  },
  {
   "cell_type": "code",
   "execution_count": 32,
   "metadata": {},
   "outputs": [],
   "source": [
    "//Renanming columns"
   ]
  },
  {
   "cell_type": "code",
   "execution_count": 37,
   "metadata": {},
   "outputs": [
    {
     "data": {
      "text/plain": [
       "new1 new2\n",
       "---------\n",
       "a    20  \n",
       "b    10  \n",
       "c    40  \n",
       "a    30  \n"
      ]
     },
     "execution_count": 37,
     "metadata": {},
     "output_type": "execute_result"
    }
   ],
   "source": [
    "`new1`new2 xcol t"
   ]
  },
  {
   "cell_type": "code",
   "execution_count": 35,
   "metadata": {},
   "outputs": [
    {
     "data": {
      "text/plain": [
       "c1 new2\n",
       "-------\n",
       "a  20  \n",
       "b  10  \n",
       "c  40  \n",
       "a  30  \n"
      ]
     },
     "execution_count": 35,
     "metadata": {},
     "output_type": "execute_result"
    }
   ],
   "source": [
    "// Renaming columns\n",
    "@[cols[t]; where cols[t]=`c2; :; `new2] xcol t"
   ]
  },
  {
   "cell_type": "markdown",
   "metadata": {},
   "source": [
    "### Joins\n",
    "\n",
    "A join sews back together along a foreign key/primary linkage data that has been factored into normal form. A join can be classified as inner or outer. An inner join pairs only records in both operands having matching keys. A left outer Join includes all records in the left operand, pairing them with records having matching key in the right operand, should such exist. A right outer Join reverses left and right in this description\n",
    "\n",
    "__Implict Joins__\n",
    "\n",
    "`m LEFT JOIN d ON m.key = d.k`"
   ]
  },
  {
   "cell_type": "code",
   "execution_count": 44,
   "metadata": {},
   "outputs": [
    {
     "data": {
      "text/plain": [
       "k c  v  \n",
       "--------\n",
       "1 10    \n",
       "2 20 200\n",
       "3 30 300\n",
       "4 40 400\n"
      ]
     },
     "execution_count": 44,
     "metadata": {},
     "output_type": "execute_result"
    }
   ],
   "source": [
    "t:([] k:1 2 3 4; c:10 20 30 40)\n",
    "kt:([k:2 3 4 5]; v:200 300 400 500)\n",
    "\n",
    "t lj kt"
   ]
  },
  {
   "cell_type": "code",
   "execution_count": 50,
   "metadata": {},
   "outputs": [],
   "source": [
    "kt:([k:1 2 3 4 5]; v1:10 20 30 40 50; v2:1.1 2.2 3.3 4.4 5.5)\n",
    "tf:([]k:`kt$2 3 4 5; v:200 300 400 500)"
   ]
  },
  {
   "cell_type": "code",
   "execution_count": 51,
   "metadata": {},
   "outputs": [
    {
     "data": {
      "text/plain": [
       "k v   v1 v2 \n",
       "------------\n",
       "2 200 20 2.2\n",
       "3 300 30 3.3\n",
       "4 400 40 4.4\n",
       "5 500 50 5.5\n"
      ]
     },
     "execution_count": 51,
     "metadata": {},
     "output_type": "execute_result"
    }
   ],
   "source": [
    "tf lj kt"
   ]
  },
  {
   "cell_type": "markdown",
   "metadata": {},
   "source": [
    "**Column Lookup**\n",
    "\n",
    "when you need to rename the column to join use the following"
   ]
  },
  {
   "cell_type": "code",
   "execution_count": 52,
   "metadata": {},
   "outputs": [
    {
     "data": {
      "text/plain": [
       "c  v  \n",
       "------\n",
       "10    \n",
       "20 2.2\n",
       "30 3.3\n",
       "40 4.4\n"
      ]
     },
     "execution_count": 52,
     "metadata": {},
     "output_type": "execute_result"
    }
   ],
   "source": [
    "t:([] k:1 2 3 4; c:10 20 30 40)\n",
    "kt:([k1:2 3 4 5]; v:2.2 3.3 4.4 5.5)\n",
    "select c,v:kt[([] k1:k);`v] from t"
   ]
  },
  {
   "cell_type": "code",
   "execution_count": 1,
   "metadata": {},
   "outputs": [
    {
     "data": {
      "text/plain": [
       "c  v  \n",
       "------\n",
       "10 1.1\n",
       "20 2.2\n"
      ]
     },
     "execution_count": 1,
     "metadata": {},
     "output_type": "execute_result"
    }
   ],
   "source": [
    "t:([] f:`rocky`bull;\n",
    "      l: `squirrel`moose;\n",
    "      c: 10 20)\n",
    "kt:([fn:`rocky`bull`fearless;\n",
    "    ln: `squirrel`moose`leader]\n",
    "    v: 1.1 2.2 3.3)\n",
    "\n",
    "\n",
    "select c,v:kt[([] fn:f; ln:l);`v] from t"
   ]
  },
  {
   "cell_type": "markdown",
   "metadata": {},
   "source": [
    "**Inner Join(ij)**\n",
    "\n",
    "inner joins finds the intersection in data <br>\n",
    "`m,d WHERE m.k=d.k\n",
    " m INNER JOIN d ON m.k=d.k`"
   ]
  },
  {
   "cell_type": "code",
   "execution_count": 4,
   "metadata": {},
   "outputs": [
    {
     "data": {
      "text/plain": [
       "k c  v  \n",
       "--------\n",
       "2 20 2.2\n",
       "3 30 3.3\n",
       "4 40 4.4\n"
      ]
     },
     "execution_count": 4,
     "metadata": {},
     "output_type": "execute_result"
    }
   ],
   "source": [
    "t:([] k:1 2 3 4; c:10 20 30 40)\n",
    "kt:([k:2 3 4 5]; v:2.2 3.3 4.4 5.5)\n",
    "\n",
    "t ij kt"
   ]
  },
  {
   "cell_type": "code",
   "execution_count": 6,
   "metadata": {},
   "outputs": [
    {
     "data": {
      "text/plain": [
       "k v  \n",
       "-----\n",
       "2 200\n",
       "3 300\n",
       "4 400\n"
      ]
     },
     "execution_count": 6,
     "metadata": {},
     "output_type": "execute_result"
    }
   ],
   "source": [
    "t:([] k:1 2 3 4; v:10 20 30 40)\n",
    "kt:([k:2 3 4 5]; v:200 300 400 500)\n",
    "\n",
    "t ij kt"
   ]
  },
  {
   "cell_type": "code",
   "execution_count": 8,
   "metadata": {},
   "outputs": [
    {
     "data": {
      "text/plain": [
       "k| B  v  \n",
       "-| ------\n",
       "2|    200\n",
       "3| 30 300\n",
       "4| 40 400\n"
      ]
     },
     "execution_count": 8,
     "metadata": {},
     "output_type": "execute_result"
    }
   ],
   "source": [
    "kt1:([k:1 2 3 4]; B:10 0N 30 40)\n",
    "kt:([k:2 3 4 5] v:200 300 400 500)\n",
    "kt1 ij kt"
   ]
  },
  {
   "cell_type": "code",
   "execution_count": 12,
   "metadata": {},
   "outputs": [
    {
     "data": {
      "text/plain": [
       "k c   v  \n",
       "---------\n",
       "2 200 2.2\n",
       "3 300 3.3\n",
       "4 400 4.4\n"
      ]
     },
     "execution_count": 12,
     "metadata": {},
     "output_type": "execute_result"
    },
    {
     "data": {
      "text/plain": [
       "k c   v    \n",
       "-----------\n",
       "2 200 2.2  \n",
       "2 222 22.22\n",
       "3 300 3.3  \n",
       "4 400 4.4  \n"
      ]
     },
     "execution_count": 12,
     "metadata": {},
     "output_type": "execute_result"
    }
   ],
   "source": [
    "// This is used when joining base on a particular key\n",
    "t1:([] k:1 2 3 4; c:10 20 30 40)\n",
    "t2:([] k:2 2 3 4 5; c:200 222 300 400 500; v:2.2 22.22 3.3 4.4 5.5)\n",
    "\n",
    "t1 ij `k xkey t2\n",
    "ej[`k; t1; t2]"
   ]
  },
  {
   "cell_type": "code",
   "execution_count": null,
   "metadata": {},
   "outputs": [],
   "source": [
    "//9.9.6 Plus Join (pj)"
   ]
  }
 ],
 "metadata": {
  "kernelspec": {
   "display_name": "Q (kdb+)",
   "language": "q",
   "name": "qpk"
  },
  "language_info": {
   "file_extension": ".q",
   "mimetype": "text/x-q",
   "name": "q",
   "version": "3.6.0"
  }
 },
 "nbformat": 4,
 "nbformat_minor": 4
}
