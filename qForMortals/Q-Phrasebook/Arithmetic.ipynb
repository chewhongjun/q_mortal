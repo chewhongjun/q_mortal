{
 "cells": [
  {
   "cell_type": "code",
   "execution_count": 1,
   "metadata": {},
   "outputs": [
    {
     "data": {
      "text/plain": [
       "15\n"
      ]
     },
     "execution_count": 1,
     "metadata": {},
     "output_type": "execute_result"
    },
    {
     "data": {
      "text/plain": [
       "1 3 6 10 15\n"
      ]
     },
     "execution_count": 1,
     "metadata": {},
     "output_type": "execute_result"
    }
   ],
   "source": [
    "x:1 2 3 4 5\n",
    "sum x\n",
    "sums x"
   ]
  },
  {
   "cell_type": "code",
   "execution_count": 13,
   "metadata": {},
   "outputs": [
    {
     "data": {
      "text/plain": [
       "1 2  3  4 \n",
       "5 6  7  8 \n",
       "9 10 11 12\n"
      ]
     },
     "execution_count": 13,
     "metadata": {},
     "output_type": "execute_result"
    },
    {
     "data": {
      "text/plain": [
       "\"sum_of_colum\"\n"
      ]
     },
     "execution_count": 13,
     "metadata": {},
     "output_type": "execute_result"
    },
    {
     "data": {
      "text/plain": [
       "15 18 21 24\n"
      ]
     },
     "execution_count": 13,
     "metadata": {},
     "output_type": "execute_result"
    },
    {
     "data": {
      "text/plain": [
       "\"sum of rows\"\n"
      ]
     },
     "execution_count": 13,
     "metadata": {},
     "output_type": "execute_result"
    },
    {
     "data": {
      "text/plain": [
       "10 26 42\n"
      ]
     },
     "execution_count": 13,
     "metadata": {},
     "output_type": "execute_result"
    }
   ],
   "source": [
    "x:3 4#1+til 12\n",
    "x\n",
    "\"sum_of_colum\"\n",
    "sum x\n",
    "\"sum of rows\"\n",
    "sum each x"
   ]
  },
  {
   "cell_type": "code",
   "execution_count": 25,
   "metadata": {},
   "outputs": [
    {
     "name": "stdout",
     "output_type": "stream",
     "text": [
      "0 0.6931472 1.098612 1.386294 1.609438\n",
      "0 2 4\n",
      "1 3\n"
     ]
    },
    {
     "data": {
      "text/plain": [
       "\"This shows the index posistion of each characeter 1:0 2 4\"\n"
      ]
     },
     "execution_count": 25,
     "metadata": {},
     "output_type": "execute_result"
    },
    {
     "data": {
      "text/plain": [
       "\"sum across each row\"\n"
      ]
     },
     "execution_count": 25,
     "metadata": {},
     "output_type": "execute_result"
    },
    {
     "data": {
      "text/plain": [
       "2.70805 2.079442\n"
      ]
     },
     "execution_count": 25,
     "metadata": {},
     "output_type": "execute_result"
    },
    {
     "data": {
      "text/plain": [
       "\"To confirm\"\n"
      ]
     },
     "execution_count": 25,
     "metadata": {},
     "output_type": "execute_result"
    },
    {
     "data": {
      "text/plain": [
       "2.70805\n"
      ]
     },
     "execution_count": 25,
     "metadata": {},
     "output_type": "execute_result"
    },
    {
     "data": {
      "text/plain": [
       "2.079442\n"
      ]
     },
     "execution_count": 25,
     "metadata": {},
     "output_type": "execute_result"
    },
    {
     "data": {
      "text/plain": [
       "2.70805 2.079442\n"
      ]
     },
     "execution_count": 25,
     "metadata": {},
     "output_type": "execute_result"
    }
   ],
   "source": [
    "show x:log 1+til 5\n",
    "y:1 4 1 4 1\n",
    "\n",
    "\"This shows the index posistion of each characeter 1:0 2 4\"\n",
    "show a:value group y\n",
    "\n",
    "\"sum across each row\"\n",
    "sum each x[a]\n",
    "\n",
    "\"To confirm\"\n",
    "sum x[0 2 4]\n",
    "sum x[1 3]\n",
    "\n",
    "sum each x value group y"
   ]
  },
  {
   "cell_type": "code",
   "execution_count": 49,
   "metadata": {},
   "outputs": [
    {
     "name": "stdout",
     "output_type": "stream",
     "text": [
      "1 2 3 4\n",
      "2  3  4  5 \n",
      "6  7  8  9 \n",
      "10 11 12 13\n",
      "\"row wise addition i.e 1+2 2+3 3+4 4+5\"\n",
      "3  5  7  9 \n",
      "7  9  11 13\n",
      "11 13 15 17\n"
     ]
    }
   ],
   "source": [
    "show x:1+til 4\n",
    "\n",
    "show y:3 4#2+til 12\n",
    "\n",
    "show \"row wise addition i.e 1+2 2+3 3+4 4+5\"\n",
    "show x+/:y\n"
   ]
  },
  {
   "cell_type": "code",
   "execution_count": 73,
   "metadata": {},
   "outputs": [
    {
     "name": "stdout",
     "output_type": "stream",
     "text": [
      "\"add x to the last element of y (not in place)\"\n",
      "1 2 3 4 105\n",
      "1 2 3 4 5\n",
      "\"add x to last element (in place)\"\n",
      "`y\n",
      "1 2 3 4 105\n"
     ]
    }
   ],
   "source": [
    "x:100\n",
    "y:1 2 3 4 5\n",
    "\n",
    "show \"add x to the last element of y (not in place)\"\n",
    "show @[y;-1+count y; +;x]\n",
    "show y\n",
    "show \"add x to last element (in place)\"\n",
    "show @[`y;-1+count y;+;x]\n",
    "show y"
   ]
  },
  {
   "cell_type": "code",
   "execution_count": 80,
   "metadata": {},
   "outputs": [
    {
     "name": "stdout",
     "output_type": "stream",
     "text": [
      "\"element-wise addition\"\n",
      "39f\n"
     ]
    }
   ],
   "source": [
    "x:10 9 10 7 8\n",
    "y:80 63 70 63 64\n",
    "\n",
    "show \"element-wise addition\"\n",
    "show sum y%x"
   ]
  },
  {
   "cell_type": "code",
   "execution_count": 87,
   "metadata": {},
   "outputs": [
    {
     "name": "stdout",
     "output_type": "stream",
     "text": [
      "\"1^2 + 2^2 ..\"\n"
     ]
    },
    {
     "data": {
      "text/plain": [
       "55\n"
      ]
     },
     "execution_count": 87,
     "metadata": {},
     "output_type": "execute_result"
    }
   ],
   "source": [
    "x:1 2 3 4 5\n",
    "\n",
    "show \"1^2 + 2^2 ..\"\n",
    "sum x*x"
   ]
  },
  {
   "cell_type": "code",
   "execution_count": 82,
   "metadata": {},
   "outputs": [
    {
     "data": {
      "text/plain": [
       "1 2 3 4 5\n"
      ]
     },
     "execution_count": 82,
     "metadata": {},
     "output_type": "execute_result"
    }
   ],
   "source": []
  },
  {
   "cell_type": "code",
   "execution_count": null,
   "metadata": {},
   "outputs": [],
   "source": []
  }
 ],
 "metadata": {
  "kernelspec": {
   "display_name": "Q (kdb+)",
   "language": "q",
   "name": "qpk"
  },
  "language_info": {
   "file_extension": ".q",
   "mimetype": "text/x-q",
   "name": "q",
   "version": "3.6.0"
  }
 },
 "nbformat": 4,
 "nbformat_minor": 4
}
