{
 "cells": [
  {
   "cell_type": "code",
   "execution_count": 1,
   "metadata": {},
   "outputs": [],
   "source": [
    "DEC:\"0123456789\"\n",
    "HEX:\"0123456789abcdef\"\n",
    "PI:3.141592653589798238\n",
    "PUN:\",;:.!?\"\n",
    "depth:{$[type[x]<0; \n",
    "  0; \n",
    "  \"j\"$sum(and)scan{1=count distinct count each x}each raze over x]}\n",
    "fac:{prd 1+til x}                       / factorial\n",
    "ly:{mod[;2] sum 0=x mod\\:4 100 400}     / is x a leap year?\n",
    "oa:{x xexp/:0 1}                        / ones and all Xs (float)\n",
    "oe:{x xexp\\:0 1}                        / 1 and each X (float)\n",
    "shape:{$[0=d:depth x; \n",
    "  0#0j; \n",
    "  d#{first raze over x}each(d{each[x;]}\\count)@\\:x]}  / FIXME correct for shape 0#0\n",
    "tc:('[til;count])\n",
    "tt:{2 vs til \"j\"$2 xexp x}              / truth table of order x\n",
    "zm:{(2#count x)#0}                      / zero matrix (square matrix)"
   ]
  }
 ],
 "metadata": {
  "kernelspec": {
   "display_name": "Q (kdb+)",
   "language": "q",
   "name": "qpk"
  },
  "language_info": {
   "file_extension": ".q",
   "mimetype": "text/x-q",
   "name": "q",
   "version": "3.6.0"
  }
 },
 "nbformat": 4,
 "nbformat_minor": 4
}
