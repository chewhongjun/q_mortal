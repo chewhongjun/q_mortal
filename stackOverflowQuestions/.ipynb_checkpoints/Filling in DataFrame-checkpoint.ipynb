{
 "cells": [
  {
   "cell_type": "markdown",
   "metadata": {},
   "source": [
    "https://stackoverflow.com/questions/61126363/get-default-value-instead-of-null-while-doing-kdb-select/61127031#61127031\n",
    "\n",
    "**The question is about filling in null value**\n",
    "\n",
    "- i will try to create a dummy database\n",
    "- query and\n",
    "- filling in\n"
   ]
  },
  {
   "cell_type": "code",
   "execution_count": 27,
   "metadata": {},
   "outputs": [
    {
     "name": "stdout",
     "output_type": "stream",
     "text": [
      "200 800 900 0 800 200 800 400 700 500 100 200 100 300 900 600 200 500 500 400..\n"
     ]
    },
    {
     "data": {
      "text/plain": [
       "time date customer product orderId version size\n",
       "-----------------------------------------------\n"
      ]
     },
     "execution_count": 27,
     "metadata": {},
     "output_type": "execute_result"
    }
   ],
   "source": [
    "// Errors made \n",
    "// last column doesnt need `;`\n",
    "// Your last ) remember to space\n",
    "// last } remmber to space\n",
    "// closeTime&\n",
    "\n",
    "// simTrade is a function that takes in\n",
    "// number of orders and generate a table with something similar\n",
    "\n",
    "simTrade:{[nOrders]\n",
    "    seed:-314159;\n",
    "    openTime:`time$09:30;\n",
    "    closeTime:`time$16:00;\n",
    "    listCustomers:`XNYS`ARCX`XCHI`XASE`XCIS`XNAS`XBOS`XPHL`BATS`BATY`EDGA`EDGX`IEXG;\n",
    "    listProducts: `Derivative`Futures`Indicies\n",
    "\n",
    "    \n",
    "    system \"S \",string seed;\n",
    "    times: asc closeTime&openTime+nOrders?390*60*1000;\n",
    "    dates: asc 2015.03.01&2015.01.01+nOrders?30;\n",
    "    customers: nOrders?listCustomers;\n",
    "    products: nOrders?listProducts;\n",
    "    versions: nOrders?5;\n",
    "    sizes: 100*nOrders?10;\n",
    "\n",
    "    trade:([]\n",
    "        time:`time$();\n",
    "        date:`date$();\n",
    "        customer:`symbol$();    / Customer name {xyz fund, asd,fund}\n",
    "        product:`symbol$();     / product name {Derivative, Equities}\n",
    "        orderId:`int$();        / order id {1-10}\n",
    "        version:`int$();        / version {1-10}\n",
    "        size:`int$()\n",
    "        )\n",
    "\n",
    " }\n",
    "simTrade[100]"
   ]
  },
  {
   "cell_type": "code",
   "execution_count": null,
   "metadata": {},
   "outputs": [],
   "source": []
  }
 ],
 "metadata": {
  "kernelspec": {
   "display_name": "Q (kdb+)",
   "language": "q",
   "name": "qpk"
  },
  "language_info": {
   "file_extension": ".q",
   "mimetype": "text/x-q",
   "name": "q",
   "version": "3.6.0"
  }
 },
 "nbformat": 4,
 "nbformat_minor": 4
}
