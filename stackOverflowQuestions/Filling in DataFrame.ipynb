{
 "cells": [
  {
   "cell_type": "markdown",
   "metadata": {},
   "source": [
    "https://stackoverflow.com/questions/61126363/get-default-value-instead-of-null-while-doing-kdb-select/61127031#61127031\n",
    "\n",
    "**The question is about filling in null value**\n",
    "\n",
    "- i will try to create a dummy database\n",
    "- query and\n",
    "- filling in\n"
   ]
  },
  {
   "cell_type": "code",
   "execution_count": 129,
   "metadata": {},
   "outputs": [],
   "source": [
    "// Errors made \n",
    "// last column doesnt need `;`\n",
    "// Your last ) remember to space\n",
    "// last } remmber to space\n",
    "// closeTime&\n",
    "\n",
    "// simTrade is a function that takes in\n",
    "// number of orders and generate a table with random data\n",
    "\n",
    "simTrade:{[nOrders]\n",
    "    seed:-314159;\n",
    "    openTime:`time$09:30;\n",
    "    closeTime:`time$16:00;\n",
    "    listCustomers:`XNYS`ARCX`XCHI`XASE`XCIS`XNAS`XBOS`XPHL`BATS`BATY`EDGA`EDGX`IEXG;\n",
    "    listProducts: `Derivative`Futures`Indicies\n",
    "\n",
    "    \n",
    "    system \"S \",string seed;\n",
    "    times: asc closeTime&openTime+nOrders?390*60*1000;\n",
    "    dates: asc 2015.03.01&2015.01.01+nOrders?30;\n",
    "    customers: nOrders?listCustomers;\n",
    "    products: nOrders?listProducts;\n",
    "    orderIds: 1+til nOrders;\n",
    "    versions: nOrders?5;\n",
    "    sizes: 100*nOrders?10;\n",
    "    \n",
    "    \n",
    "    trade: ([]\n",
    "        time:times;\n",
    "        date:dates;\n",
    "        customer:customers;    / Customer name {xyz fund, asd,fund}\n",
    "        product:products;     / product name {Derivative, Equities}\n",
    "        orderId:orderIds;       / order id {1-10}\n",
    "        version:versions;       / version {1-10}\n",
    "        size:sizes\n",
    "    );\n",
    "\n",
    "    :trade\n",
    " }\n",
    "lob:simTrade[100]"
   ]
  },
  {
   "cell_type": "code",
   "execution_count": 130,
   "metadata": {},
   "outputs": [
    {
     "name": "stdout",
     "output_type": "stream",
     "text": [
      "time         date       customer product    orderId version size\n",
      "----------------------------------------------------------------\n",
      "09:36:59.623 2015.01.01 IEXG     Derivative         4       200 \n",
      "09:37:01.740 2015.01.01 BATY     Futures            3       800 \n",
      "09:38:59.510 2015.01.01 XNYS     Derivative         3       900 \n",
      "09:44:14.466 2015.01.01 EDGX     Futures            0       0   \n",
      "09:45:38.437 2015.01.01 ARCX     Indicies           1       800 \n"
     ]
    }
   ],
   "source": [
    "show lob"
   ]
  },
  {
   "cell_type": "code",
   "execution_count": 131,
   "metadata": {},
   "outputs": [
    {
     "data": {
      "text/plain": [
       "date       product   | size\n",
       "---------------------| ----\n",
       "2015.01.01 Derivative| 1300\n",
       "2015.01.01 Futures   | 800 \n",
       "2015.01.01 Indicies  | 800 \n",
       "2015.01.02 Derivative| 800 \n",
       "2015.01.03 Indicies  | 400 \n"
      ]
     },
     "execution_count": 131,
     "metadata": {},
     "output_type": "execute_result"
    }
   ],
   "source": [
    "select sum size by date,product from lob where i<8"
   ]
  },
  {
   "cell_type": "markdown",
   "metadata": {},
   "source": [
    "### fill,fills operator\n",
    "\n",
    "^ fill\n",
    "- x^y, returns y with any nulls replaced by the corresponding item of x\n",
    "\n",
    "fills\n",
    "- Where x is a list, returns x with any null items replaced by their preceding non-null value"
   ]
  },
  {
   "cell_type": "code",
   "execution_count": 135,
   "metadata": {},
   "outputs": [
    {
     "data": {
      "text/plain": [
       "1 2 0 5 100 10 100\n"
      ]
     },
     "execution_count": 135,
     "metadata": {},
     "output_type": "execute_result"
    }
   ],
   "source": [
    "100^1 2 0 5 0N 10 0N"
   ]
  },
  {
   "cell_type": "code",
   "execution_count": 133,
   "metadata": {},
   "outputs": [
    {
     "data": {
      "text/plain": [
       "b| \n",
       "c| 30\n"
      ]
     },
     "execution_count": 133,
     "metadata": {},
     "output_type": "execute_result"
    }
   ],
   "source": [
    "`b`c!0N 30"
   ]
  },
  {
   "cell_type": "code",
   "execution_count": 134,
   "metadata": {},
   "outputs": [
    {
     "data": {
      "text/plain": [
       "a| 1\n",
       "b| 2\n",
       "c| 30\n"
      ]
     },
     "execution_count": 134,
     "metadata": {},
     "output_type": "execute_result"
    }
   ],
   "source": [
    "//When x and y are dictionaries, both null and missing values in\n",
    "// y are filled with those from x.\n",
    "(`a`b`c!1 2 3)^`b`c!0N 30"
   ]
  },
  {
   "cell_type": "code",
   "execution_count": null,
   "metadata": {},
   "outputs": [],
   "source": [
    "fills "
   ]
  }
 ],
 "metadata": {
  "kernelspec": {
   "display_name": "Q (kdb+)",
   "language": "q",
   "name": "qpk"
  },
  "language_info": {
   "file_extension": ".q",
   "mimetype": "text/x-q",
   "name": "q",
   "version": "3.6.0"
  }
 },
 "nbformat": 4,
 "nbformat_minor": 4
}
