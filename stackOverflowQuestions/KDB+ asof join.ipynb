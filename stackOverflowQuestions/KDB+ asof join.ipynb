{
 "cells": [
  {
   "cell_type": "markdown",
   "metadata": {},
   "source": [
    "https://stackoverflow.com/questions/12322289/kdb-like-asof-join-for-timeseries-data-in-pandas\n",
    "\n",
    "### KDB+ asof join timeseries\n"
   ]
  },
  {
   "cell_type": "code",
   "execution_count": 10,
   "metadata": {},
   "outputs": [],
   "source": [
    "// Error made\n",
    "// q will collate space-separated lists into a single object for numeric values, and even then the \n",
    "//type specification must be only present for the last item\n",
    "\n",
    "t:([] \n",
    "    time:09:30:00.439 09:30:00.439 09:30:02.332 09:30:02.332 09:30:02.333;\n",
    "    sym:`NVDA`NVDA`NVDA`NVDA`NVDA;\n",
    "    price:13.42 13.42 13.42 13.42 13.41f;\n",
    "    size: 60511 60511 100 100 100i)"
   ]
  },
  {
   "cell_type": "code",
   "execution_count": 11,
   "metadata": {},
   "outputs": [
    {
     "data": {
      "text/plain": [
       "time         sym  price size \n",
       "-----------------------------\n",
       "09:30:00.439 NVDA 13.42 60511\n",
       "09:30:00.439 NVDA 13.42 60511\n",
       "09:30:02.332 NVDA 13.42 100  \n",
       "09:30:02.332 NVDA 13.42 100  \n",
       "09:30:02.333 NVDA 13.41 100  \n"
      ]
     },
     "execution_count": 11,
     "metadata": {},
     "output_type": "execute_result"
    }
   ],
   "source": [
    "t"
   ]
  },
  {
   "cell_type": "code",
   "execution_count": 8,
   "metadata": {},
   "outputs": [
    {
     "data": {
      "text/plain": [
       "c    | t f a\n",
       "-----| -----\n",
       "time | t    \n",
       "sym  | s    \n",
       "price| f    \n"
      ]
     },
     "execution_count": 8,
     "metadata": {},
     "output_type": "execute_result"
    }
   ],
   "source": [
    "meta t"
   ]
  }
 ],
 "metadata": {
  "kernelspec": {
   "display_name": "Q (kdb+)",
   "language": "q",
   "name": "qpk"
  },
  "language_info": {
   "file_extension": ".q",
   "mimetype": "text/x-q",
   "name": "q",
   "version": "3.6.0"
  }
 },
 "nbformat": 4,
 "nbformat_minor": 4
}
