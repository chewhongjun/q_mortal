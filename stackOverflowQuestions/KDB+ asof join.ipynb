{
 "cells": [
  {
   "cell_type": "markdown",
   "metadata": {},
   "source": [
    "https://stackoverflow.com/questions/12322289/kdb-like-asof-join-for-timeseries-data-in-pandas\n",
    "\n",
    "### KDB+ asof join timeseries\n"
   ]
  },
  {
   "cell_type": "code",
   "execution_count": 12,
   "metadata": {},
   "outputs": [],
   "source": [
    "// Error made\n",
    "// q will collate space-separated lists into a single object for numeric values, and even then the \n",
    "//type specification must be only present for the last item\n",
    "\n",
    "t:([] \n",
    "    time:09:30:00.439 09:30:00.439 09:30:02.332 09:30:02.332 09:30:02.333;\n",
    "    sym:`NVDA`NVDA`NVDA`NVDA`NVDA;\n",
    "    price:13.42 13.42 13.42 13.42 13.41f;\n",
    "    size: 60511 60511 100 100 100i);\n",
    "q:([]\n",
    "    time:09:30:00.026 09:30:00.043 09:30:00.121 09:30:00.386 09:30:00.440;\n",
    "    sym:`NVDA`NVDA`NVDA`NVDA`NVDA;\n",
    "    bid: 13.34 13.34 13.36 13.36 13.4f;\n",
    "    ask: 13.44 13.44 13.65 13.52 13.44f;\n",
    "    bsize: 3 3 1 21 14i;\n",
    "    asize: 16 17 10 1 17i);"
   ]
  },
  {
   "cell_type": "code",
   "execution_count": 11,
   "metadata": {},
   "outputs": [
    {
     "data": {
      "text/plain": [
       "time         sym  price size \n",
       "-----------------------------\n",
       "09:30:00.439 NVDA 13.42 60511\n",
       "09:30:00.439 NVDA 13.42 60511\n",
       "09:30:02.332 NVDA 13.42 100  \n",
       "09:30:02.332 NVDA 13.42 100  \n",
       "09:30:02.333 NVDA 13.41 100  \n"
      ]
     },
     "execution_count": 11,
     "metadata": {},
     "output_type": "execute_result"
    }
   ],
   "source": [
    "t"
   ]
  },
  {
   "cell_type": "code",
   "execution_count": 13,
   "metadata": {},
   "outputs": [
    {
     "data": {
      "text/plain": [
       "time         sym  bid   ask   bsize asize\n",
       "-----------------------------------------\n",
       "09:30:00.026 NVDA 13.34 13.44 3     16   \n",
       "09:30:00.043 NVDA 13.34 13.44 3     17   \n",
       "09:30:00.121 NVDA 13.36 13.65 1     10   \n",
       "09:30:00.386 NVDA 13.36 13.52 21    1    \n",
       "09:30:00.440 NVDA 13.4  13.44 14    17   \n"
      ]
     },
     "execution_count": 13,
     "metadata": {},
     "output_type": "execute_result"
    }
   ],
   "source": [
    "q"
   ]
  },
  {
   "cell_type": "code",
   "execution_count": 14,
   "metadata": {},
   "outputs": [
    {
     "data": {
      "text/plain": [
       "time         sym  price size  bid   ask   bsize asize\n",
       "-----------------------------------------------------\n",
       "09:30:00.439 NVDA 13.42 60511 13.36 13.52 21    1    \n",
       "09:30:00.439 NVDA 13.42 60511 13.36 13.52 21    1    \n",
       "09:30:02.332 NVDA 13.42 100   13.4  13.44 14    17   \n",
       "09:30:02.332 NVDA 13.42 100   13.4  13.44 14    17   \n",
       "09:30:02.333 NVDA 13.41 100   13.4  13.44 14    17   \n"
      ]
     },
     "execution_count": 14,
     "metadata": {},
     "output_type": "execute_result"
    }
   ],
   "source": [
    "aj[`time; t; q]"
   ]
  }
 ],
 "metadata": {
  "kernelspec": {
   "display_name": "Q (kdb+)",
   "language": "q",
   "name": "qpk"
  },
  "language_info": {
   "file_extension": ".q",
   "mimetype": "text/x-q",
   "name": "q",
   "version": "3.6.0"
  }
 },
 "nbformat": 4,
 "nbformat_minor": 4
}
